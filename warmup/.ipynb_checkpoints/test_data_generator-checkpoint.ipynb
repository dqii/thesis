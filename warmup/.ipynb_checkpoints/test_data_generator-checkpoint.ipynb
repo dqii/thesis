{
 "cells": [
  {
   "cell_type": "code",
   "execution_count": 2,
   "metadata": {
    "collapsed": true
   },
   "outputs": [],
   "source": [
    "import numpy as np\n",
    "from sklearn.model_selection import train_test_split\n",
    "from sklearn.linear_model import LinearRegression\n",
    "from sklearn.metrics import mean_squared_error\n",
    "import matplotlib.pyplot as plt"
   ]
  },
  {
   "cell_type": "code",
   "execution_count": 66,
   "metadata": {
    "collapsed": true
   },
   "outputs": [],
   "source": [
    "# function to generate sparse synthetic data\n",
    "# takes N-dimensional vector of observations as input\n",
    "# returns the 2nd degree polynomial synthetic data, along with the generating matrices A and B\n",
    "def generate_sparse_data(X):\n",
    "    N = X.shape[1]\n",
    "    A = np.zeros(N,N)\n",
    "    for i in range(0,N):\n",
    "        A[i,np.random.randint(N)] = np.random.rand()\n",
    "    B = np.random.rand(N)\n",
    "    return X,A,B"
   ]
  },
  {
   "cell_type": "code",
   "execution_count": 69,
   "metadata": {
    "collapsed": true
   },
   "outputs": [],
   "source": [
    "# function to generate dense synthetic data\n",
    "# takes N-dimensional vector of observations as input\n",
    "# returns the 2nd degree polynomial synthetic data, along with the generating matrices A and B\n",
    "def generate_dense_data(X):\n",
    "    N = X.shape[1]\n",
    "    A = np.random.rand(N,N)\n",
    "    B = np.random.rand(N)\n",
    "    return X,A,B"
   ]
  },
  {
   "cell_type": "code",
   "execution_count": 78,
   "metadata": {},
   "outputs": [
    {
     "name": "stdout",
     "output_type": "stream",
     "text": [
      "Mean squared error: 0.08\n"
     ]
    },
    {
     "data": {
      "image/png": "[encoded data removed]",
      "text/plain": [
       "<matplotlib.figure.Figure at 0x11923d668>"
      ]
     },
     "metadata": {},
     "output_type": "display_data"
    }
   ],
   "source": [
    "# testing sparse A with sklearn linear classifier\n",
    "N = 100\n",
    "D = 10000\n",
    "X = np.random.rand(N,D)\n",
    "y,a,b = generate_sparse_data(X)\n",
    "X_train, X_test, y_train, y_test = train_test_split(X, y, test_size=0.2)\n",
    "lr = LinearRegression()\n",
    "lr.fit(X_train,y_train)\n",
    "y_pred = lr.predict(X_test)\n",
    "print(\"Mean squared error: %.2f\" % mean_squared_error(y_test, y_pred))\n",
    "plt.scatter(X_test, y_pred, color='red',marker='.')\n",
    "plt.scatter(X_test, y_test,  color='black',marker='.')\n",
    "\n",
    "plt.show()"
   ]
  },
  {
   "cell_type": "code",
   "execution_count": 77,
   "metadata": {},
   "outputs": [
    {
     "name": "stdout",
     "output_type": "stream",
     "text": [
      "Mean squared error: 0.08\n"
     ]
    },
    {
     "data": {
      "image/png": "[encoded data removed]",
      "text/plain": [
       "<matplotlib.figure.Figure at 0x11923d278>"
      ]
     },
     "metadata": {},
     "output_type": "display_data"
    }
   ],
   "source": [
    "# testing dense A with sklearn linear classifier\n",
    "N = 100\n",
    "D = 10000\n",
    "X = np.random.rand(N,D)\n",
    "y,a,b = generate_dense_data(X)\n",
    "X_train, X_test, y_train, y_test = train_test_split(X, y, test_size=0.2)\n",
    "lr = LinearRegression()\n",
    "lr.fit(X_train,y_train)\n",
    "y_pred = lr.predict(X_test)\n",
    "print(\"Mean squared error: %.2f\" % mean_squared_error(y_test, y_pred))\n",
    "plt.scatter(X_test, y_pred, color='red',marker='.')\n",
    "plt.scatter(X_test, y_test,  color='black',marker='.')\n",
    "\n",
    "plt.show()"
   ]
  },
  {
   "cell_type": "code",
   "execution_count": null,
   "metadata": {
    "collapsed": true
   },
   "outputs": [],
   "source": []
  }
 ],
 "metadata": {
  "kernelspec": {
   "display_name": "Python 3",
   "language": "python",
   "name": "python3"
  },
  "language_info": {
   "codemirror_mode": {
    "name": "ipython",
    "version": 3
   },
   "file_extension": ".py",
   "mimetype": "text/x-python",
   "name": "python",
   "nbconvert_exporter": "python",
   "pygments_lexer": "ipython3",
   "version": "3.6.1"
  }
 },
 "nbformat": 4,
 "nbformat_minor": 2
}
