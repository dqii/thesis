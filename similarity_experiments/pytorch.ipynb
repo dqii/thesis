{
 "cells": [
  {
   "cell_type": "code",
   "execution_count": 19,
   "metadata": {
    "collapsed": true
   },
   "outputs": [],
   "source": [
    "from torch import nn\n",
    "import numpy as np\n",
    "import torch\n",
    "from torch.autograd import Function\n",
    "from torch.autograd import Variable"
   ]
  },
  {
   "cell_type": "markdown",
   "metadata": {},
   "source": [
    "# Setup"
   ]
  },
  {
   "cell_type": "markdown",
   "metadata": {},
   "source": [
    "### Parameters"
   ]
  },
  {
   "cell_type": "code",
   "execution_count": 20,
   "metadata": {
    "collapsed": true
   },
   "outputs": [],
   "source": [
    "batch_size_train = 200\n",
    "batch_size_test = 1000\n",
    "D = 784"
   ]
  },
  {
   "cell_type": "markdown",
   "metadata": {},
   "source": [
    "### Load MNIST data"
   ]
  },
  {
   "cell_type": "code",
   "execution_count": 21,
   "metadata": {
    "collapsed": true
   },
   "outputs": [],
   "source": [
    "import torch.utils.data\n",
    "from torchvision import datasets, transforms\n",
    "train_loader = torch.utils.data.DataLoader(\n",
    "datasets.MNIST('MNIST_data', train=True, download=True,\n",
    "               transform=transforms.Compose([\n",
    "                   transforms.ToTensor(),\n",
    "                   transforms.Normalize((0.1307,), (0.3081,))\n",
    "               ])),\n",
    "    batch_size=batch_size_train, shuffle=True)\n",
    "test_loader = torch.utils.data.DataLoader(\n",
    "    datasets.MNIST('MNIST_data', train=False, transform=transforms.Compose([\n",
    "        transforms.ToTensor(),\n",
    "        transforms.Normalize((0.1307,), (0.3081,))\n",
    "    ])),\n",
    "    batch_size=batch_size_test, shuffle=True)"
   ]
  },
  {
   "cell_type": "markdown",
   "metadata": {},
   "source": [
    "# Train Feature Selector"
   ]
  },
  {
   "cell_type": "code",
   "execution_count": 22,
   "metadata": {
    "collapsed": true
   },
   "outputs": [],
   "source": [
    "def acc_fn(x1, x2, y1, y2):\n",
    "    predictions = torch.sign(torch.sum(x1 * x2, dim=1))\n",
    "    similarities = torch.sign(torch.eq(y1, y2).double() - 0.5)\n",
    "    return torch.mean(torch.eq(predictions, similarities).double())\n",
    "\n",
    "def hinge_loss_fn(x1, x2, y1, y2, gamma=0.5):    \n",
    "    inner_products = torch.sum(x1 * x2, dim=1)\n",
    "    same_class = torch.sign(torch.eq(y1, y2).double() - 0.5)\n",
    "    scores = torch.clamp(gamma - same_class * inner_products, min=0)\n",
    "    return torch.mean(scores)\n",
    "\n",
    "def logistic_loss_fn(x1, x2, y1, y2):\n",
    "    inner_products = torch.sum(x1 * x2, dim=1)\n",
    "    same_class = torch.sign(torch.eq(y1, y2).double() - 0.5)\n",
    "    scores = torch.log1p(torch.exp(-same_class * inner_products))\n",
    "    return torch.mean(scores)"
   ]
  },
  {
   "cell_type": "code",
   "execution_count": 23,
   "metadata": {
    "collapsed": true
   },
   "outputs": [],
   "source": [
    "def features_train(epoch, shape):\n",
    "    model.train()\n",
    "    for batch_idx, (data, target) in enumerate(train_loader):\n",
    "        data1, data2 = Variable(data).view(shape).chunk(2)\n",
    "        classes1, classes2 = Variable(target).view(data.shape[0], 1).chunk(2)\n",
    "        optimizer.zero_grad()\n",
    "        features1, features2 = model(data1).double(), model(data2).double()\n",
    "        loss = loss_fn(features1, features2, classes1, classes2)\n",
    "        loss.backward()\n",
    "        optimizer.step()        \n",
    "        if batch_idx % 25 == 0:\n",
    "            acc = acc_fn(features1, features2, classes1, classes2)\n",
    "            print('Train Epoch: {} [{}/{} ({:.0f}%)]\\tLoss: {:.6f}\\tAccuracy: {:.6f}'.format(\n",
    "                epoch, batch_idx * len(data), len(train_loader.dataset),\n",
    "                100. * batch_idx / len(train_loader), loss.data[0], acc.data[0]))\n",
    "\n",
    "def features_test(shape):\n",
    "    model.eval()\n",
    "    loss, acc, total = 0, 0, 0\n",
    "    for data, target in test_loader:\n",
    "        data1, data2 = Variable(data).view(shape).chunk(2)\n",
    "        classes1, classes2 = Variable(target).view(data.shape[0], 1).chunk(2)\n",
    "        optimizer.zero_grad()\n",
    "        features1, features2 = model(data1).double(), model(data2).double()\n",
    "        loss += loss_fn(features1, features2, classes1, classes2)\n",
    "        acc += acc_fn(features1, features2, classes1, classes2)\n",
    "        total += 1\n",
    "\n",
    "    loss /= total\n",
    "    acc /= total\n",
    "    print('Test set: Loss: {:.4f}, Accuracy: {:.4f}%'.format(loss.data[0], 100. * acc.data[0]))\n",
    "    return acc.data[0]"
   ]
  },
  {
   "cell_type": "markdown",
   "metadata": {},
   "source": [
    "# Models"
   ]
  },
  {
   "cell_type": "markdown",
   "metadata": {
    "collapsed": true
   },
   "source": [
    "### 3 features, 3-layer NN"
   ]
  },
  {
   "cell_type": "code",
   "execution_count": 24,
   "metadata": {
    "scrolled": true
   },
   "outputs": [
    {
     "name": "stdout",
     "output_type": "stream",
     "text": [
      "hinge loss | lr: 0.0001, weight_decay: 0.001\n",
      "Train Epoch: 0 [0/60000 (0%)]\tLoss: 0.585343\tAccuracy: 0.172000\n",
      "Train Epoch: 0 [5000/60000 (8%)]\tLoss: 0.555307\tAccuracy: 0.207600\n",
      "Train Epoch: 0 [10000/60000 (17%)]\tLoss: 0.537236\tAccuracy: 0.327800\n",
      "Train Epoch: 0 [15000/60000 (25%)]\tLoss: 0.515610\tAccuracy: 0.402000\n",
      "Train Epoch: 0 [20000/60000 (33%)]\tLoss: 0.506676\tAccuracy: 0.474200\n",
      "Train Epoch: 0 [25000/60000 (42%)]\tLoss: 0.505098\tAccuracy: 0.453200\n",
      "Train Epoch: 0 [30000/60000 (50%)]\tLoss: 0.509672\tAccuracy: 0.507600\n",
      "Train Epoch: 0 [35000/60000 (58%)]\tLoss: 0.502643\tAccuracy: 0.475400\n",
      "Train Epoch: 0 [40000/60000 (67%)]\tLoss: 0.509949\tAccuracy: 0.476000\n",
      "Train Epoch: 0 [45000/60000 (75%)]\tLoss: 0.500553\tAccuracy: 0.476000\n",
      "Train Epoch: 0 [50000/60000 (83%)]\tLoss: 0.502737\tAccuracy: 0.460000\n",
      "Train Epoch: 0 [55000/60000 (92%)]\tLoss: 0.502578\tAccuracy: 0.449600\n",
      "Test set: Loss: 0.4980, Accuracy: 49.7886%\n",
      "Train Epoch: 1 [0/60000 (0%)]\tLoss: 0.502249\tAccuracy: 0.454400\n",
      "Train Epoch: 1 [5000/60000 (8%)]\tLoss: 0.496163\tAccuracy: 0.546800\n",
      "Train Epoch: 1 [10000/60000 (17%)]\tLoss: 0.498644\tAccuracy: 0.477800\n",
      "Train Epoch: 1 [15000/60000 (25%)]\tLoss: 0.511639\tAccuracy: 0.402000\n",
      "Train Epoch: 1 [20000/60000 (33%)]\tLoss: 0.498448\tAccuracy: 0.521000\n",
      "Train Epoch: 1 [25000/60000 (42%)]\tLoss: 0.499922\tAccuracy: 0.507200\n",
      "Train Epoch: 1 [30000/60000 (50%)]\tLoss: 0.498036\tAccuracy: 0.516400\n",
      "Train Epoch: 1 [35000/60000 (58%)]\tLoss: 0.501216\tAccuracy: 0.484800\n",
      "Train Epoch: 1 [40000/60000 (67%)]\tLoss: 0.497419\tAccuracy: 0.524000\n",
      "Train Epoch: 1 [45000/60000 (75%)]\tLoss: 0.496650\tAccuracy: 0.500000\n",
      "Train Epoch: 1 [50000/60000 (83%)]\tLoss: 0.493622\tAccuracy: 0.551600\n",
      "Train Epoch: 1 [55000/60000 (92%)]\tLoss: 0.499388\tAccuracy: 0.469600\n",
      "Test set: Loss: 0.4996, Accuracy: 49.7446%\n",
      "Train Epoch: 2 [0/60000 (0%)]\tLoss: 0.501731\tAccuracy: 0.474200\n",
      "Train Epoch: 2 [5000/60000 (8%)]\tLoss: 0.501193\tAccuracy: 0.491800\n",
      "Train Epoch: 2 [10000/60000 (17%)]\tLoss: 0.502240\tAccuracy: 0.491200\n",
      "Train Epoch: 2 [15000/60000 (25%)]\tLoss: 0.496086\tAccuracy: 0.572000\n",
      "Train Epoch: 2 [20000/60000 (33%)]\tLoss: 0.502667\tAccuracy: 0.475400\n",
      "Train Epoch: 2 [25000/60000 (42%)]\tLoss: 0.503411\tAccuracy: 0.450800\n",
      "Train Epoch: 2 [30000/60000 (50%)]\tLoss: 0.500220\tAccuracy: 0.500000\n",
      "Train Epoch: 2 [35000/60000 (58%)]\tLoss: 0.496949\tAccuracy: 0.548000\n",
      "Train Epoch: 2 [40000/60000 (67%)]\tLoss: 0.502728\tAccuracy: 0.486000\n",
      "Train Epoch: 2 [45000/60000 (75%)]\tLoss: 0.500570\tAccuracy: 0.508800\n",
      "Train Epoch: 2 [50000/60000 (83%)]\tLoss: 0.495794\tAccuracy: 0.500000\n",
      "Train Epoch: 2 [55000/60000 (92%)]\tLoss: 0.502102\tAccuracy: 0.492000\n",
      "Test set: Loss: 0.5007, Accuracy: 49.1751%\n",
      "Train Epoch: 3 [0/60000 (0%)]\tLoss: 0.501169\tAccuracy: 0.500000\n",
      "Train Epoch: 3 [5000/60000 (8%)]\tLoss: 0.499844\tAccuracy: 0.492000\n",
      "Train Epoch: 3 [10000/60000 (17%)]\tLoss: 0.507060\tAccuracy: 0.449600\n",
      "Train Epoch: 3 [15000/60000 (25%)]\tLoss: 0.508601\tAccuracy: 0.466400\n",
      "Train Epoch: 3 [20000/60000 (33%)]\tLoss: 0.502789\tAccuracy: 0.500000\n",
      "Train Epoch: 3 [25000/60000 (42%)]\tLoss: 0.503481\tAccuracy: 0.464000\n",
      "Train Epoch: 3 [30000/60000 (50%)]\tLoss: 0.503158\tAccuracy: 0.507400\n",
      "Train Epoch: 3 [35000/60000 (58%)]\tLoss: 0.503709\tAccuracy: 0.508400\n",
      "Train Epoch: 3 [40000/60000 (67%)]\tLoss: 0.503635\tAccuracy: 0.470400\n",
      "Train Epoch: 3 [45000/60000 (75%)]\tLoss: 0.498345\tAccuracy: 0.500000\n",
      "Train Epoch: 3 [50000/60000 (83%)]\tLoss: 0.495245\tAccuracy: 0.539000\n",
      "Train Epoch: 3 [55000/60000 (92%)]\tLoss: 0.504540\tAccuracy: 0.500000\n",
      "Test set: Loss: 0.5007, Accuracy: 50.2915%\n",
      "Train Epoch: 4 [0/60000 (0%)]\tLoss: 0.505240\tAccuracy: 0.455600\n",
      "Train Epoch: 4 [5000/60000 (8%)]\tLoss: 0.486835\tAccuracy: 0.568800\n",
      "Train Epoch: 4 [10000/60000 (17%)]\tLoss: 0.498987\tAccuracy: 0.544400\n",
      "Train Epoch: 4 [15000/60000 (25%)]\tLoss: 0.501191\tAccuracy: 0.491400\n",
      "Train Epoch: 4 [20000/60000 (33%)]\tLoss: 0.502826\tAccuracy: 0.492600\n",
      "Train Epoch: 4 [25000/60000 (42%)]\tLoss: 0.505813\tAccuracy: 0.525800\n",
      "Train Epoch: 4 [30000/60000 (50%)]\tLoss: 0.490623\tAccuracy: 0.601200\n",
      "Train Epoch: 4 [35000/60000 (58%)]\tLoss: 0.506547\tAccuracy: 0.471800\n",
      "Train Epoch: 4 [40000/60000 (67%)]\tLoss: 0.503449\tAccuracy: 0.500000\n",
      "Train Epoch: 4 [45000/60000 (75%)]\tLoss: 0.502146\tAccuracy: 0.453200\n",
      "Train Epoch: 4 [50000/60000 (83%)]\tLoss: 0.497841\tAccuracy: 0.540000\n",
      "Train Epoch: 4 [55000/60000 (92%)]\tLoss: 0.487906\tAccuracy: 0.605600\n",
      "Test set: Loss: 0.5001, Accuracy: 50.3640%\n",
      "Train Epoch: 5 [0/60000 (0%)]\tLoss: 0.491096\tAccuracy: 0.562400\n",
      "Train Epoch: 5 [5000/60000 (8%)]\tLoss: 0.499526\tAccuracy: 0.552800\n",
      "Train Epoch: 5 [10000/60000 (17%)]\tLoss: 0.494508\tAccuracy: 0.573800\n",
      "Train Epoch: 5 [15000/60000 (25%)]\tLoss: 0.495422\tAccuracy: 0.512800\n",
      "Train Epoch: 5 [20000/60000 (33%)]\tLoss: 0.498338\tAccuracy: 0.476600\n",
      "Train Epoch: 5 [25000/60000 (42%)]\tLoss: 0.494177\tAccuracy: 0.508000\n",
      "Train Epoch: 5 [30000/60000 (50%)]\tLoss: 0.496908\tAccuracy: 0.506200\n",
      "Train Epoch: 5 [35000/60000 (58%)]\tLoss: 0.494941\tAccuracy: 0.491600\n",
      "Train Epoch: 5 [40000/60000 (67%)]\tLoss: 0.499142\tAccuracy: 0.525800\n",
      "Train Epoch: 5 [45000/60000 (75%)]\tLoss: 0.509817\tAccuracy: 0.483600\n",
      "Train Epoch: 5 [50000/60000 (83%)]\tLoss: 0.497579\tAccuracy: 0.557400\n",
      "Train Epoch: 5 [55000/60000 (92%)]\tLoss: 0.500737\tAccuracy: 0.523400\n",
      "Test set: Loss: 0.5008, Accuracy: 51.2474%\n",
      "Train Epoch: 6 [0/60000 (0%)]\tLoss: 0.499336\tAccuracy: 0.500000\n",
      "Train Epoch: 6 [5000/60000 (8%)]\tLoss: 0.494400\tAccuracy: 0.566600\n",
      "Train Epoch: 6 [10000/60000 (17%)]\tLoss: 0.494477\tAccuracy: 0.551600\n",
      "Train Epoch: 6 [15000/60000 (25%)]\tLoss: 0.500259\tAccuracy: 0.524000\n",
      "Train Epoch: 6 [20000/60000 (33%)]\tLoss: 0.496462\tAccuracy: 0.525800\n",
      "Train Epoch: 6 [25000/60000 (42%)]\tLoss: 0.497504\tAccuracy: 0.518000\n",
      "Train Epoch: 6 [30000/60000 (50%)]\tLoss: 0.500811\tAccuracy: 0.492400\n",
      "Train Epoch: 6 [35000/60000 (58%)]\tLoss: 0.507638\tAccuracy: 0.462000\n",
      "Train Epoch: 6 [40000/60000 (67%)]\tLoss: 0.506955\tAccuracy: 0.512800\n",
      "Train Epoch: 6 [45000/60000 (75%)]\tLoss: 0.504431\tAccuracy: 0.522200\n",
      "Train Epoch: 6 [50000/60000 (83%)]\tLoss: 0.512009\tAccuracy: 0.462000\n",
      "Train Epoch: 6 [55000/60000 (92%)]\tLoss: 0.497479\tAccuracy: 0.507600\n",
      "Test set: Loss: 0.4997, Accuracy: 50.0958%\n",
      "Train Epoch: 7 [0/60000 (0%)]\tLoss: 0.493946\tAccuracy: 0.524000\n",
      "Train Epoch: 7 [5000/60000 (8%)]\tLoss: 0.503876\tAccuracy: 0.490800\n",
      "Train Epoch: 7 [10000/60000 (17%)]\tLoss: 0.499396\tAccuracy: 0.492000\n",
      "Train Epoch: 7 [15000/60000 (25%)]\tLoss: 0.494104\tAccuracy: 0.546800\n",
      "Train Epoch: 7 [20000/60000 (33%)]\tLoss: 0.496961\tAccuracy: 0.536000\n",
      "Train Epoch: 7 [25000/60000 (42%)]\tLoss: 0.494047\tAccuracy: 0.543000\n",
      "Train Epoch: 7 [30000/60000 (50%)]\tLoss: 0.500230\tAccuracy: 0.492400\n",
      "Train Epoch: 7 [35000/60000 (58%)]\tLoss: 0.503873\tAccuracy: 0.516400\n",
      "Train Epoch: 7 [40000/60000 (67%)]\tLoss: 0.506590\tAccuracy: 0.500000\n",
      "Train Epoch: 7 [45000/60000 (75%)]\tLoss: 0.507104\tAccuracy: 0.443600\n",
      "Train Epoch: 7 [50000/60000 (83%)]\tLoss: 0.503144\tAccuracy: 0.474800\n",
      "Train Epoch: 7 [55000/60000 (92%)]\tLoss: 0.499879\tAccuracy: 0.517600\n",
      "Test set: Loss: 0.5012, Accuracy: 48.5463%\n",
      "\n"
     ]
    }
   ],
   "source": [
    "for lr in [0.0001]:\n",
    "    for wd in [0.001]:\n",
    "        loss_fn = hinge_loss_fn\n",
    "        model = torch.nn.Sequential(\n",
    "            torch.nn.Linear(D, 128),\n",
    "            torch.nn.BatchNorm1d(128),\n",
    "            torch.nn.ReLU(),\n",
    "            torch.nn.Linear(128, 64),\n",
    "            torch.nn.BatchNorm1d(64),\n",
    "            torch.nn.ReLU(),\n",
    "            torch.nn.Linear(64, 64),\n",
    "            torch.nn.BatchNorm1d(64),\n",
    "            torch.nn.ReLU(),\n",
    "            torch.nn.Linear(64, 3)\n",
    "        )   \n",
    "        optimizer = torch.optim.Adam(model.parameters(), lr = lr, weight_decay=wd)\n",
    "        print('hinge loss | lr: {}, weight_decay: {}'.format(lr, wd))\n",
    "        for epoch in range(8):\n",
    "            features_train(epoch, (batch_size_train, -1))\n",
    "            features_test((batch_size_test, -1))\n",
    "        print()\n",
    "dense = model"
   ]
  },
  {
   "cell_type": "code",
   "execution_count": 32,
   "metadata": {},
   "outputs": [
    {
     "name": "stdout",
     "output_type": "stream",
     "text": [
      "Train Epoch: 0 [0/60000 (0%)]\tLoss: 0.503746\tAccuracy: 0.120000\n",
      "Train Epoch: 0 [5000/60000 (8%)]\tLoss: 0.502998\tAccuracy: 0.160000\n",
      "Train Epoch: 0 [10000/60000 (17%)]\tLoss: 0.503127\tAccuracy: 0.116000\n",
      "Train Epoch: 0 [15000/60000 (25%)]\tLoss: 0.502551\tAccuracy: 0.100000\n",
      "Train Epoch: 0 [20000/60000 (33%)]\tLoss: 0.502409\tAccuracy: 0.090000\n",
      "Train Epoch: 0 [25000/60000 (42%)]\tLoss: 0.502317\tAccuracy: 0.068800\n",
      "Train Epoch: 0 [30000/60000 (50%)]\tLoss: 0.501889\tAccuracy: 0.120000\n",
      "Train Epoch: 0 [35000/60000 (58%)]\tLoss: 0.501781\tAccuracy: 0.098200\n",
      "Train Epoch: 0 [40000/60000 (67%)]\tLoss: 0.501801\tAccuracy: 0.110000\n",
      "Train Epoch: 0 [45000/60000 (75%)]\tLoss: 0.501638\tAccuracy: 0.127600\n",
      "Train Epoch: 0 [50000/60000 (83%)]\tLoss: 0.501580\tAccuracy: 0.110000\n",
      "Train Epoch: 0 [55000/60000 (92%)]\tLoss: 0.501322\tAccuracy: 0.130000\n",
      "Test set: Loss: 0.5009, Accuracy: 9.7600%\n",
      "Train Epoch: 1 [0/60000 (0%)]\tLoss: 0.501194\tAccuracy: 0.140000\n",
      "Train Epoch: 1 [5000/60000 (8%)]\tLoss: 0.501265\tAccuracy: 0.090000\n",
      "Train Epoch: 1 [10000/60000 (17%)]\tLoss: 0.501272\tAccuracy: 0.110000\n",
      "Train Epoch: 1 [15000/60000 (25%)]\tLoss: 0.501145\tAccuracy: 0.090000\n",
      "Train Epoch: 1 [20000/60000 (33%)]\tLoss: 0.501090\tAccuracy: 0.090000\n",
      "Train Epoch: 1 [25000/60000 (42%)]\tLoss: 0.501008\tAccuracy: 0.110000\n",
      "Train Epoch: 1 [30000/60000 (50%)]\tLoss: 0.501048\tAccuracy: 0.070000\n",
      "Train Epoch: 1 [35000/60000 (58%)]\tLoss: 0.500930\tAccuracy: 0.090000\n",
      "Train Epoch: 1 [40000/60000 (67%)]\tLoss: 0.500880\tAccuracy: 0.090000\n",
      "Train Epoch: 1 [45000/60000 (75%)]\tLoss: 0.500940\tAccuracy: 0.080000\n",
      "Train Epoch: 1 [50000/60000 (83%)]\tLoss: 0.500779\tAccuracy: 0.110000\n",
      "Train Epoch: 1 [55000/60000 (92%)]\tLoss: 0.500847\tAccuracy: 0.080000\n",
      "Test set: Loss: 0.5006, Accuracy: 10.0800%\n",
      "Train Epoch: 2 [0/60000 (0%)]\tLoss: 0.500760\tAccuracy: 0.100000\n",
      "Train Epoch: 2 [5000/60000 (8%)]\tLoss: 0.500797\tAccuracy: 0.060000\n",
      "Train Epoch: 2 [10000/60000 (17%)]\tLoss: 0.500599\tAccuracy: 0.150000\n",
      "Train Epoch: 2 [15000/60000 (25%)]\tLoss: 0.500597\tAccuracy: 0.130000\n",
      "Train Epoch: 2 [20000/60000 (33%)]\tLoss: 0.500678\tAccuracy: 0.070000\n",
      "Train Epoch: 2 [25000/60000 (42%)]\tLoss: 0.500653\tAccuracy: 0.070000\n",
      "Train Epoch: 2 [30000/60000 (50%)]\tLoss: 0.500681\tAccuracy: 0.040000\n",
      "Train Epoch: 2 [35000/60000 (58%)]\tLoss: 0.500621\tAccuracy: 0.060000\n",
      "Train Epoch: 2 [40000/60000 (67%)]\tLoss: 0.500537\tAccuracy: 0.120000\n",
      "Train Epoch: 2 [45000/60000 (75%)]\tLoss: 0.500582\tAccuracy: 0.070000\n",
      "Train Epoch: 2 [50000/60000 (83%)]\tLoss: 0.500574\tAccuracy: 0.080000\n",
      "Train Epoch: 2 [55000/60000 (92%)]\tLoss: 0.500447\tAccuracy: 0.150000\n",
      "Test set: Loss: 0.5005, Accuracy: 10.3600%\n",
      "Train Epoch: 3 [0/60000 (0%)]\tLoss: 0.500560\tAccuracy: 0.060000\n",
      "Train Epoch: 3 [5000/60000 (8%)]\tLoss: 0.500486\tAccuracy: 0.110000\n",
      "Train Epoch: 3 [10000/60000 (17%)]\tLoss: 0.500430\tAccuracy: 0.140000\n",
      "Train Epoch: 3 [15000/60000 (25%)]\tLoss: 0.500478\tAccuracy: 0.100000\n",
      "Train Epoch: 3 [20000/60000 (33%)]\tLoss: 0.500485\tAccuracy: 0.080000\n",
      "Train Epoch: 3 [25000/60000 (42%)]\tLoss: 0.500450\tAccuracy: 0.100000\n",
      "Train Epoch: 3 [30000/60000 (50%)]\tLoss: 0.500460\tAccuracy: 0.090000\n",
      "Train Epoch: 3 [35000/60000 (58%)]\tLoss: 0.500444\tAccuracy: 0.090000\n",
      "Train Epoch: 3 [40000/60000 (67%)]\tLoss: 0.500471\tAccuracy: 0.060000\n",
      "Train Epoch: 3 [45000/60000 (75%)]\tLoss: 0.500370\tAccuracy: 0.150000\n",
      "Train Epoch: 3 [50000/60000 (83%)]\tLoss: 0.500421\tAccuracy: 0.090000\n",
      "Train Epoch: 3 [55000/60000 (92%)]\tLoss: 0.500404\tAccuracy: 0.090000\n",
      "Test set: Loss: 0.5004, Accuracy: 10.4200%\n",
      "Train Epoch: 4 [0/60000 (0%)]\tLoss: 0.500428\tAccuracy: 0.070000\n",
      "Train Epoch: 4 [5000/60000 (8%)]\tLoss: 0.500362\tAccuracy: 0.130000\n",
      "Train Epoch: 4 [10000/60000 (17%)]\tLoss: 0.500392\tAccuracy: 0.080000\n",
      "Train Epoch: 4 [15000/60000 (25%)]\tLoss: 0.500365\tAccuracy: 0.100000\n",
      "Train Epoch: 4 [20000/60000 (33%)]\tLoss: 0.500384\tAccuracy: 0.070000\n",
      "Train Epoch: 4 [25000/60000 (42%)]\tLoss: 0.500397\tAccuracy: 0.060000\n",
      "Train Epoch: 4 [30000/60000 (50%)]\tLoss: 0.500304\tAccuracy: 0.150000\n",
      "Train Epoch: 4 [35000/60000 (58%)]\tLoss: 0.500318\tAccuracy: 0.130000\n",
      "Train Epoch: 4 [40000/60000 (67%)]\tLoss: 0.500297\tAccuracy: 0.150000\n",
      "Train Epoch: 4 [45000/60000 (75%)]\tLoss: 0.500330\tAccuracy: 0.100000\n",
      "Train Epoch: 4 [50000/60000 (83%)]\tLoss: 0.500304\tAccuracy: 0.120000\n",
      "Train Epoch: 4 [55000/60000 (92%)]\tLoss: 0.500309\tAccuracy: 0.110000\n",
      "Test set: Loss: 0.5003, Accuracy: 9.4800%\n",
      "\n"
     ]
    }
   ],
   "source": [
    "class conv_net(nn.Module):\n",
    "    def __init__(self, num_classes=1000):\n",
    "        super(conv_net, self).__init__()\n",
    "        self.features = nn.Sequential(\n",
    "            nn.Conv2d(1, 16, 3),\n",
    "            nn.ReLU(inplace=True),\n",
    "            nn.Conv2d(16, 32, 3),\n",
    "            nn.ReLU(inplace=True),\n",
    "            nn.MaxPool2d(kernel_size=2, stride=1),\n",
    "            nn.Conv2d(32, 64, 3),\n",
    "            nn.ReLU(inplace=True),\n",
    "            nn.MaxPool2d(kernel_size=2),\n",
    "        )\n",
    "        self.classifier = nn.Sequential(\n",
    "            nn.Dropout(),\n",
    "            nn.Linear(64 * 10 * 10, 512),\n",
    "            nn.ReLU(inplace=True),\n",
    "            nn.Dropout(),\n",
    "            nn.Linear(512, 128),\n",
    "            nn.ReLU(inplace=True),\n",
    "            nn.Linear(128, 3),\n",
    "        )\n",
    "    def forward(self, x):\n",
    "        x = self.features(x)\n",
    "        x = x.view(x.size(0), 64 * 10 * 10)\n",
    "        x = self.classifier(x)\n",
    "        return x\n",
    "model = conv_net()\n",
    "loss_fn = hinge_loss_fn\n",
    "optimizer = torch.optim.Adam(model.parameters(), lr = 0.00001, weight_decay=1)\n",
    "for epoch in range(5):\n",
    "    features_train(epoch, (batch_size_train, 1, 28, 28))\n",
    "    features_test((batch_size_test, 1, 28, 28))\n",
    "print()\n",
    "conv = model"
   ]
  },
  {
   "cell_type": "markdown",
   "metadata": {},
   "source": [
    "# Train linear classifier"
   ]
  },
  {
   "cell_type": "code",
   "execution_count": null,
   "metadata": {
    "collapsed": true
   },
   "outputs": [],
   "source": [
    "import tensorflow as tf\n",
    "from sklearn.svm import LinearSVC\n",
    "mnist = tf.contrib.learn.datasets.load_dataset(\"mnist\")\n",
    "train_data = mnist.train.images # Returns np.array\n",
    "train_labels = np.asarray(mnist.train.labels, dtype=np.int32)\n",
    "test_data = mnist.test.images # Returns np.array\n",
    "test_labels = np.asarray(mnist.test.labels, dtype=np.int32)"
   ]
  },
  {
   "cell_type": "code",
   "execution_count": 30,
   "metadata": {},
   "outputs": [
    {
     "name": "stdout",
     "output_type": "stream",
     "text": [
      "test accuracy: 0.1135\n"
     ]
    }
   ],
   "source": [
    "svc = LinearSVC(random_state=0)\n",
    "# features_train = model(Variable(torch.from_numpy(train_data.reshape(train_data.shape[0],1,28,28)))).data.numpy()\n",
    "f = model(Variable(torch.from_numpy(test_data.reshape(test_data.shape[0],1,28,28)))).data.numpy()\n",
    "svc.fit(f, test_labels)\n",
    "# print(\"train accuracy: {:.4f}\".format(svc.score(features_train, train_labels)))\n",
    "print(\"test accuracy: {:.4f}\".format(svc.score(f, test_labels)))"
   ]
  },
  {
   "cell_type": "code",
   "execution_count": null,
   "metadata": {
    "collapsed": true
   },
   "outputs": [],
   "source": []
  }
 ],
 "metadata": {
  "kernelspec": {
   "display_name": "Python 3",
   "language": "python",
   "name": "python3"
  },
  "language_info": {
   "codemirror_mode": {
    "name": "ipython",
    "version": 3
   },
   "file_extension": ".py",
   "mimetype": "text/x-python",
   "name": "python",
   "nbconvert_exporter": "python",
   "pygments_lexer": "ipython3",
   "version": "3.6.3"
  }
 },
 "nbformat": 4,
 "nbformat_minor": 2
}
