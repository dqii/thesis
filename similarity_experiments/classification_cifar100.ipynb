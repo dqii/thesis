{
 "cells": [
  {
   "cell_type": "code",
   "execution_count": 9,
   "metadata": {},
   "outputs": [
    {
     "name": "stdout",
     "output_type": "stream",
     "text": [
      "The autoreload extension is already loaded. To reload it, use:\n",
      "  %reload_ext autoreload\n"
     ]
    }
   ],
   "source": [
    "%load_ext autoreload\n",
    "%autoreload 2\n",
    "import numpy as np\n",
    "import tensorflow as tf\n",
    "from features.settings import Baseline_Settings, Triplet_Hinge_Settings, Triplet_Log_Settings, Triplet_Distance_Settings\n",
    "from features.models import CNNSmall0, CNNSmall1, CNNSmall2, CNNMedium0, CNNMedium1, CNNLarge0, CNNLarge1\n",
    "from features.models import STNCNNSmall0, STNCNNSmall1, STNCNNSmall2, STNCNNMedium0, STNCNNMedium1\n",
    "from features.models import GCNNSmall0, GCNNMedium0, GCNNMedium1, GCNNLarge0\n",
    "from classes.models import LinearClassifier0, LinearClassifier1, LinearClassifier2, LinearClassifier3, TwoLayerClassifier0\n",
    "from learn import get_feature_model, get_classifier, train_features, train_classifier, test_model, test_features\n",
    "from datasets import load_cifar100"
   ]
  },
  {
   "cell_type": "markdown",
   "metadata": {},
   "source": [
    "# Feature Evaluation"
   ]
  },
  {
   "cell_type": "code",
   "execution_count": 4,
   "metadata": {},
   "outputs": [
    {
     "name": "stdout",
     "output_type": "stream",
     "text": [
      "CIFAR-100 loaded in 102 seconds\n"
     ]
    }
   ],
   "source": [
    "data, samplers, pair_samplers, triplet_samplers = load_cifar100(augment=True)\n",
    "d = data; s=triplet_samplers"
   ]
  },
  {
   "cell_type": "code",
   "execution_count": 5,
   "metadata": {},
   "outputs": [
    {
     "name": "stdout",
     "output_type": "stream",
     "text": [
      "INFO:tensorflow:Restoring parameters from ./models/cifar100/f_gl0_cifar100_10_.ckpt\n"
     ]
    },
    {
     "name": "stderr",
     "output_type": "stream",
     "text": [
      "INFO:tensorflow:Restoring parameters from ./models/cifar100/f_gl0_cifar100_10_.ckpt\n"
     ]
    },
    {
     "name": "stdout",
     "output_type": "stream",
     "text": [
      "test set error: 0.1114 // time elapsed: 48.4686 s\n"
     ]
    }
   ],
   "source": [
    "tf.reset_default_graph()\n",
    "f, f_params = get_feature_model(feature_model=GCNNLarge0, settings=Triplet_Hinge_Settings,\n",
    "                                num_features=10, data_format=[32, 32, 3],\n",
    "                                f_lr=0.07, f_reg=0.001, f_scope=\"f_gl0_cifar100_10\")\n",
    "fs = tf.train.Saver(tf.get_collection(tf.GraphKeys.GLOBAL_VARIABLES, \"f_gl0_cifar100_10\"))\n",
    "\n",
    "with tf.Session() as sess:\n",
    "    sess.run(tf.global_variables_initializer())\n",
    "    fs.restore(sess, \"./models/cifar100/f_gl0_cifar100_10_.ckpt\")\n",
    "    test_features(sess=sess, feature_model=f, samplers=s, f_params=f_params)"
   ]
  },
  {
   "cell_type": "code",
   "execution_count": 6,
   "metadata": {},
   "outputs": [
    {
     "name": "stdout",
     "output_type": "stream",
     "text": [
      "INFO:tensorflow:Restoring parameters from ./models/cifar100/f_gl0_cifar100_20_.ckpt\n"
     ]
    },
    {
     "name": "stderr",
     "output_type": "stream",
     "text": [
      "INFO:tensorflow:Restoring parameters from ./models/cifar100/f_gl0_cifar100_20_.ckpt\n"
     ]
    },
    {
     "name": "stdout",
     "output_type": "stream",
     "text": [
      "test set error: 0.1131 // time elapsed: 47.8773 s\n"
     ]
    }
   ],
   "source": [
    "tf.reset_default_graph()\n",
    "f, f_params = get_feature_model(feature_model=GCNNLarge0, settings=Triplet_Hinge_Settings,\n",
    "                                num_features=20, data_format=[32, 32, 3],\n",
    "                                f_lr=0.07, f_reg=0.001, f_scope=\"f_gl0_cifar100_20\")\n",
    "fs = tf.train.Saver(tf.get_collection(tf.GraphKeys.GLOBAL_VARIABLES, \"f_gl0_cifar100_20\"))\n",
    "\n",
    "with tf.Session() as sess:\n",
    "    sess.run(tf.global_variables_initializer())\n",
    "    fs.restore(sess, \"./models/cifar100/f_gl0_cifar100_20_.ckpt\")\n",
    "    test_features(sess=sess, feature_model=f, samplers=s, f_params=f_params)"
   ]
  },
  {
   "cell_type": "code",
   "execution_count": 7,
   "metadata": {},
   "outputs": [
    {
     "name": "stdout",
     "output_type": "stream",
     "text": [
      "INFO:tensorflow:Restoring parameters from ./models/cifar100/f_gl0_cifar100_40_.ckpt\n"
     ]
    },
    {
     "name": "stderr",
     "output_type": "stream",
     "text": [
      "INFO:tensorflow:Restoring parameters from ./models/cifar100/f_gl0_cifar100_40_.ckpt\n"
     ]
    },
    {
     "name": "stdout",
     "output_type": "stream",
     "text": [
      "test set error: 0.1219 // time elapsed: 47.8423 s\n"
     ]
    }
   ],
   "source": [
    "tf.reset_default_graph()\n",
    "f, f_params = get_feature_model(feature_model=GCNNLarge0, settings=Triplet_Hinge_Settings,\n",
    "                                num_features=40, data_format=[32, 32, 3],\n",
    "                                f_lr=0.07, f_reg=0.001, f_scope=\"f_gl0_cifar100_40\")\n",
    "fs = tf.train.Saver(tf.get_collection(tf.GraphKeys.GLOBAL_VARIABLES, \"f_gl0_cifar100_40\"))\n",
    "\n",
    "with tf.Session() as sess:\n",
    "    sess.run(tf.global_variables_initializer())\n",
    "    fs.restore(sess, \"./models/cifar100/f_gl0_cifar100_40_.ckpt\")\n",
    "    test_features(sess=sess, feature_model=f, samplers=s, f_params=f_params)"
   ]
  },
  {
   "cell_type": "code",
   "execution_count": 12,
   "metadata": {},
   "outputs": [
    {
     "name": "stdout",
     "output_type": "stream",
     "text": [
      "INFO:tensorflow:Restoring parameters from ./models/cifar100/d_gl0_cifar100_10.ckpt\n"
     ]
    },
    {
     "name": "stderr",
     "output_type": "stream",
     "text": [
      "INFO:tensorflow:Restoring parameters from ./models/cifar100/d_gl0_cifar100_10.ckpt\n"
     ]
    },
    {
     "name": "stdout",
     "output_type": "stream",
     "text": [
      "test set error: 0.1183 // time elapsed: 48.0845 s\n"
     ]
    }
   ],
   "source": [
    "tf.reset_default_graph()\n",
    "f, f_params = get_feature_model(feature_model=GCNNLarge0, settings=Triplet_Distance_Settings,\n",
    "                                num_features=10, data_format=[32, 32, 3],\n",
    "                                f_lr=0.03, f_reg=0.001, f_scope=\"d_gl0_cifar100_10\")\n",
    "fs = tf.train.Saver(tf.get_collection(tf.GraphKeys.GLOBAL_VARIABLES, \"d_gl0_cifar100_10\"))\n",
    "\n",
    "with tf.Session() as sess:\n",
    "    sess.run(tf.global_variables_initializer())\n",
    "    fs.restore(sess, \"./models/cifar100/d_gl0_cifar100_10.ckpt\")\n",
    "    test_features(sess=sess, feature_model=f, samplers=s, f_params=f_params)"
   ]
  },
  {
   "cell_type": "markdown",
   "metadata": {},
   "source": [
    "# Classification Evaluation"
   ]
  },
  {
   "cell_type": "code",
   "execution_count": 14,
   "metadata": {
    "collapsed": true
   },
   "outputs": [],
   "source": [
    "d = data; s=samplers"
   ]
  },
  {
   "cell_type": "code",
   "execution_count": 32,
   "metadata": {},
   "outputs": [
    {
     "name": "stdout",
     "output_type": "stream",
     "text": [
      "INFO:tensorflow:Restoring parameters from ./models/cifar100/f_gl0_cifar100_10_.ckpt\n"
     ]
    },
    {
     "name": "stderr",
     "output_type": "stream",
     "text": [
      "INFO:tensorflow:Restoring parameters from ./models/cifar100/f_gl0_cifar100_10_.ckpt\n"
     ]
    },
    {
     "name": "stdout",
     "output_type": "stream",
     "text": [
      "begin training classifier\n",
      "\tstep 0: train loss 4.67513, train error 0.98\n",
      "\tstep 100: train loss 4.65814, train error 0.987143\n",
      "\tstep 200: train loss 4.65397, train error 0.991429\n",
      "\tstep 300: train loss 4.6261, train error 0.992857\n",
      "\tstep 400: train loss 4.59766, train error 0.975714\n",
      "\tstep 500: train loss 4.56211, train error 0.978571\n",
      "\tstep 600: train loss 4.52303, train error 0.954286\n",
      "\tstep 700: train loss 4.52706, train error 0.964286\n",
      "\tstep 800: train loss 4.50706, train error 0.957143\n",
      "\tstep 900: train loss 4.47159, train error 0.942857\n",
      "\tstep 1000: train loss 4.47424, train error 0.95\n",
      "\tstep 1100: train loss 4.42484, train error 0.944286\n",
      "\tstep 1200: train loss 4.40016, train error 0.937143\n",
      "\tstep 1300: train loss 4.40144, train error 0.945\n",
      "\tstep 1400: train loss 4.33846, train error 0.914286\n",
      "\tstep 1500: train loss 4.33168, train error 0.92\n",
      "\tstep 1600: train loss 4.30323, train error 0.888571\n",
      "\tstep 1700: train loss 4.31434, train error 0.898571\n",
      "\tstep 1800: train loss 4.28381, train error 0.885714\n",
      "\tstep 1900: train loss 4.26116, train error 0.907143\n",
      "\tstep 2000: train loss 4.22882, train error 0.875714\n",
      "\tstep 2100: train loss 4.2059, train error 0.867143\n",
      "\tstep 2200: train loss 4.17678, train error 0.841429\n",
      "\tstep 2300: train loss 4.18534, train error 0.867143\n",
      "\tstep 2400: train loss 4.15721, train error 0.868571\n",
      "\tstep 2500: train loss 4.14481, train error 0.86\n",
      "\tstep 2600: train loss 4.12601, train error 0.85\n",
      "\tstep 2700: train loss 4.12106, train error 0.861429\n",
      "\tstep 2800: train loss 4.10528, train error 0.861429\n",
      "\tstep 2900: train loss 4.08723, train error 0.877143\n",
      "\tstep 3000: train loss 4.07953, train error 0.867143\n",
      "\tstep 3100: train loss 4.04755, train error 0.851429\n",
      "\tstep 3200: train loss 4.00107, train error 0.842857\n",
      "\tstep 3300: train loss 3.99449, train error 0.821429\n",
      "\tstep 3400: train loss 3.99463, train error 0.854286\n",
      "\tstep 3500: train loss 3.95205, train error 0.82\n",
      "\tstep 3600: train loss 3.98422, train error 0.855714\n",
      "\tstep 3700: train loss 3.96369, train error 0.865714\n",
      "\tstep 3800: train loss 3.90801, train error 0.822857\n",
      "\tstep 3900: train loss 3.91202, train error 0.832857\n",
      "\tstep 4000: train loss 3.90662, train error 0.827143\n",
      "\tstep 4100: train loss 3.89195, train error 0.825714\n",
      "\tstep 4200: train loss 3.88254, train error 0.837143\n",
      "\tstep 4300: train loss 3.88879, train error 0.835714\n",
      "\tstep 4400: train loss 3.85915, train error 0.817143\n",
      "\tstep 4500: train loss 3.86128, train error 0.824286\n",
      "\tstep 4600: train loss 3.80406, train error 0.832857\n",
      "\tstep 4700: train loss 3.82459, train error 0.8\n",
      "\tstep 4800: train loss 3.82433, train error 0.801429\n",
      "\tstep 4900: train loss 3.76629, train error 0.808571\n",
      "\tstep 5000: train loss 3.78285, train error 0.802857\n",
      "\tstep 5100: train loss 3.73827, train error 0.798571\n",
      "\tstep 5200: train loss 3.7322, train error 0.798571\n",
      "\tstep 5300: train loss 3.7666, train error 0.781429\n",
      "\tstep 5400: train loss 3.72968, train error 0.81\n",
      "\tstep 5500: train loss 3.70173, train error 0.782857\n",
      "\tstep 5600: train loss 3.71205, train error 0.782857\n",
      "\tstep 5700: train loss 3.7039, train error 0.805714\n",
      "\tstep 5800: train loss 3.66341, train error 0.8\n",
      "\tstep 5900: train loss 3.67358, train error 0.792857\n",
      "\tstep 6000: train loss 3.6907, train error 0.821429\n",
      "\tstep 6100: train loss 3.65886, train error 0.801429\n",
      "\tstep 6200: train loss 3.67976, train error 0.788571\n",
      "\tstep 6300: train loss 3.65111, train error 0.788571\n",
      "\tstep 6400: train loss 3.64282, train error 0.797143\n",
      "\tstep 6500: train loss 3.65533, train error 0.784286\n",
      "\tstep 6600: train loss 3.63615, train error 0.792857\n",
      "\tstep 6700: train loss 3.60039, train error 0.797143\n",
      "\tstep 6800: train loss 3.61006, train error 0.762857\n",
      "\tstep 6900: train loss 3.5678, train error 0.745714\n",
      "\tstep 7000: train loss 3.553, train error 0.747143\n",
      "\tstep 7100: train loss 3.56384, train error 0.77\n",
      "\tstep 7200: train loss 3.57671, train error 0.78\n",
      "\tstep 7300: train loss 3.52946, train error 0.772857\n",
      "\tstep 7400: train loss 3.51622, train error 0.755714\n",
      "\tstep 7500: train loss 3.56592, train error 0.772857\n",
      "\tstep 7600: train loss 3.45253, train error 0.737143\n",
      "\tstep 7700: train loss 3.53105, train error 0.787143\n",
      "\tstep 7800: train loss 3.50209, train error 0.764286\n",
      "\tstep 7900: train loss 3.53205, train error 0.751429\n",
      "\tstep 8000: train loss 3.48895, train error 0.768571\n",
      "\tstep 8100: train loss 3.51835, train error 0.788571\n",
      "\tstep 8200: train loss 3.51078, train error 0.765714\n",
      "\tstep 8300: train loss 3.42712, train error 0.765714\n",
      "\tstep 8400: train loss 3.42373, train error 0.745714\n",
      "\tstep 8500: train loss 3.45552, train error 0.778571\n",
      "\tstep 8600: train loss 3.47002, train error 0.754286\n",
      "\tstep 8700: train loss 3.37932, train error 0.764286\n",
      "\tstep 8800: train loss 3.43955, train error 0.758571\n",
      "\tstep 8900: train loss 3.46857, train error 0.728571\n",
      "\tstep 9000: train loss 3.41946, train error 0.734286\n",
      "\tstep 9100: train loss 3.3731, train error 0.735714\n",
      "\tstep 9200: train loss 3.37417, train error 0.727143\n",
      "\tstep 9300: train loss 3.44544, train error 0.745714\n",
      "\tstep 9400: train loss 3.44004, train error 0.762857\n",
      "\tstep 9500: train loss 3.43907, train error 0.77\n",
      "\tstep 9600: train loss 3.38847, train error 0.748571\n",
      "\tstep 9700: train loss 3.37359, train error 0.727143\n",
      "\tstep 9800: train loss 3.40617, train error 0.731429\n",
      "\tstep 9900: train loss 3.38329, train error 0.731429\n",
      "end training classifier // time elapsed: 1098.3388 s\n",
      "validation set error: 0.7022 // time elapsed: 0.7754 s\n",
      "train set error: 0.7334 // time elapsed: 12.9683 s\n",
      "validation set error: 0.7022 // time elapsed: 0.7506 s\n",
      "test set error: 0.7525 // time elapsed: 1.5013 s\n"
     ]
    }
   ],
   "source": [
    "tf.reset_default_graph()\n",
    "f, f_params = get_feature_model(feature_model=GCNNLarge0, settings=Triplet_Hinge_Settings,\n",
    "                                num_features=10, data_format=[32, 32, 3],\n",
    "                                f_lr=0.07, f_reg=0.001, f_scope=\"f_gl0_cifar100_10\")\n",
    "c, c_params = get_classifier(classifier=LinearClassifier0, num_features=10, num_classes=100, \n",
    "                             c_lr=0.01, c_reg=0.001, c_scope=\"meh\", f_params=f_params)\n",
    "fs = tf.train.Saver(tf.get_collection(tf.GraphKeys.GLOBAL_VARIABLES, \"f_gl0_cifar100_10\"))\n",
    "\n",
    "with tf.Session() as sess:\n",
    "    sess.run(tf.global_variables_initializer())\n",
    "    fs.restore(sess, \"./models/cifar100/f_gl0_cifar100_10_.ckpt\")\n",
    "    train_classifier(sess=sess, feature_model=f, classifier=c, data=d, samplers=s, num_steps=10000, \n",
    "                     f_params=f_params, c_params=c_params)\n",
    "    test_model(sess=sess, feature_model=f, classifier=c, samplers=s, data=d, f_params=f_params, c_params=c_params)"
   ]
  },
  {
   "cell_type": "code",
   "execution_count": 33,
   "metadata": {},
   "outputs": [
    {
     "name": "stdout",
     "output_type": "stream",
     "text": [
      "INFO:tensorflow:Restoring parameters from ./models/cifar100/f_gl0_cifar100_10_.ckpt\n"
     ]
    },
    {
     "name": "stderr",
     "output_type": "stream",
     "text": [
      "INFO:tensorflow:Restoring parameters from ./models/cifar100/f_gl0_cifar100_10_.ckpt\n"
     ]
    },
    {
     "name": "stdout",
     "output_type": "stream",
     "text": [
      "begin training classifier\n",
      "\tstep 0: train loss 4.64323, train error 0.994286\n",
      "\tstep 100: train loss 4.59744, train error 0.994286\n",
      "\tstep 200: train loss 4.54543, train error 0.992857\n",
      "\tstep 300: train loss 4.50267, train error 0.97\n",
      "\tstep 400: train loss 4.49177, train error 0.977143\n",
      "\tstep 500: train loss 4.42635, train error 0.974286\n",
      "\tstep 600: train loss 4.37941, train error 0.97\n",
      "\tstep 700: train loss 4.33703, train error 0.961429\n",
      "\tstep 800: train loss 4.27563, train error 0.94\n",
      "\tstep 900: train loss 4.242, train error 0.96\n",
      "\tstep 1000: train loss 4.15034, train error 0.935714\n",
      "\tstep 1100: train loss 4.09815, train error 0.928571\n",
      "\tstep 1200: train loss 3.9895, train error 0.934286\n",
      "\tstep 1300: train loss 3.98366, train error 0.928571\n",
      "\tstep 1400: train loss 3.94662, train error 0.932857\n",
      "\tstep 1500: train loss 3.82553, train error 0.91\n",
      "\tstep 1600: train loss 3.78282, train error 0.907143\n",
      "\tstep 1700: train loss 3.69528, train error 0.874286\n",
      "\tstep 1800: train loss 3.68137, train error 0.877143\n",
      "\tstep 1900: train loss 3.60149, train error 0.881429\n",
      "\tstep 2000: train loss 3.60515, train error 0.878571\n",
      "\tstep 2100: train loss 3.51831, train error 0.848571\n",
      "\tstep 2200: train loss 3.4554, train error 0.845714\n",
      "\tstep 2300: train loss 3.38852, train error 0.835714\n",
      "\tstep 2400: train loss 3.36239, train error 0.81\n",
      "\tstep 2500: train loss 3.31821, train error 0.84\n",
      "\tstep 2600: train loss 3.30081, train error 0.787143\n",
      "\tstep 2700: train loss 3.2226, train error 0.742857\n",
      "\tstep 2800: train loss 3.19998, train error 0.755714\n",
      "\tstep 2900: train loss 3.12446, train error 0.78\n",
      "\tstep 3000: train loss 3.10457, train error 0.767143\n",
      "\tstep 3100: train loss 3.03584, train error 0.75\n",
      "\tstep 3200: train loss 3.09925, train error 0.741429\n",
      "\tstep 3300: train loss 3.04025, train error 0.757143\n",
      "\tstep 3400: train loss 3.03462, train error 0.727143\n",
      "\tstep 3500: train loss 2.97089, train error 0.72\n",
      "\tstep 3600: train loss 2.99118, train error 0.74\n",
      "\tstep 3700: train loss 2.91148, train error 0.721429\n",
      "\tstep 3800: train loss 2.97049, train error 0.722857\n",
      "\tstep 3900: train loss 2.91598, train error 0.704286\n",
      "\tstep 4000: train loss 2.83421, train error 0.717143\n",
      "\tstep 4100: train loss 2.83799, train error 0.692857\n",
      "\tstep 4200: train loss 2.95079, train error 0.7425\n",
      "\tstep 4300: train loss 2.76131, train error 0.695714\n",
      "\tstep 4400: train loss 2.77223, train error 0.695714\n",
      "\tstep 4500: train loss 2.7605, train error 0.698571\n",
      "\tstep 4600: train loss 2.7618, train error 0.711429\n",
      "\tstep 4700: train loss 2.75358, train error 0.691429\n",
      "\tstep 4800: train loss 2.7555, train error 0.718571\n",
      "\tstep 4900: train loss 2.76726, train error 0.724286\n",
      "\tstep 5000: train loss 2.75313, train error 0.655714\n",
      "\tstep 5100: train loss 2.73184, train error 0.7\n",
      "\tstep 5200: train loss 2.70919, train error 0.675714\n",
      "\tstep 5300: train loss 2.67084, train error 0.687143\n",
      "\tstep 5400: train loss 2.70837, train error 0.674286\n",
      "\tstep 5500: train loss 2.66012, train error 0.687143\n",
      "\tstep 5600: train loss 2.66537, train error 0.671429\n",
      "\tstep 5700: train loss 2.71594, train error 0.702857\n",
      "\tstep 5800: train loss 2.63429, train error 0.657143\n",
      "\tstep 5900: train loss 2.67242, train error 0.688571\n",
      "\tstep 6000: train loss 2.69013, train error 0.685714\n",
      "\tstep 6100: train loss 2.61939, train error 0.67\n",
      "\tstep 6200: train loss 2.62997, train error 0.685714\n",
      "\tstep 6300: train loss 2.58297, train error 0.698571\n",
      "\tstep 6400: train loss 2.61632, train error 0.69\n",
      "\tstep 6500: train loss 2.64889, train error 0.682857\n",
      "\tstep 6600: train loss 2.58499, train error 0.665714\n",
      "\tstep 6700: train loss 2.67426, train error 0.697143\n",
      "\tstep 6800: train loss 2.49222, train error 0.627143\n",
      "\tstep 6900: train loss 2.58894, train error 0.67\n",
      "\tstep 7000: train loss 2.60412, train error 0.681429\n",
      "\tstep 7100: train loss 2.56766, train error 0.672857\n",
      "\tstep 7200: train loss 2.57925, train error 0.652857\n",
      "\tstep 7300: train loss 2.6226, train error 0.691429\n",
      "\tstep 7400: train loss 2.5484, train error 0.648571\n",
      "\tstep 7500: train loss 2.59771, train error 0.662857\n",
      "\tstep 7600: train loss 2.54753, train error 0.625714\n",
      "\tstep 7700: train loss 2.59735, train error 0.697143\n",
      "\tstep 7800: train loss 2.59467, train error 0.672857\n",
      "\tstep 7900: train loss 2.56245, train error 0.664286\n",
      "\tstep 8000: train loss 2.53353, train error 0.66\n",
      "\tstep 8100: train loss 2.53745, train error 0.662857\n",
      "\tstep 8200: train loss 2.55474, train error 0.66\n",
      "\tstep 8300: train loss 2.52223, train error 0.661429\n",
      "\tstep 8400: train loss 2.55595, train error 0.645714\n",
      "\tstep 8500: train loss 2.51092, train error 0.652857\n",
      "\tstep 8600: train loss 2.5165, train error 0.66\n",
      "\tstep 8700: train loss 2.5078, train error 0.654286\n",
      "\tstep 8800: train loss 2.55291, train error 0.65\n",
      "\tstep 8900: train loss 2.48723, train error 0.655714\n",
      "\tstep 9000: train loss 2.52632, train error 0.637143\n",
      "\tstep 9100: train loss 2.57838, train error 0.664286\n",
      "\tstep 9200: train loss 2.39391, train error 0.624286\n",
      "\tstep 9300: train loss 2.56931, train error 0.684286\n",
      "\tstep 9400: train loss 2.52341, train error 0.654286\n",
      "\tstep 9500: train loss 2.49309, train error 0.681429\n",
      "\tstep 9600: train loss 2.52505, train error 0.65\n",
      "\tstep 9700: train loss 2.50372, train error 0.641429\n",
      "\tstep 9800: train loss 2.53162, train error 0.664286\n",
      "\tstep 9900: train loss 2.45807, train error 0.645714\n",
      "end training classifier // time elapsed: 1099.1098 s\n",
      "validation set error: 0.6098 // time elapsed: 0.7707 s\n",
      "train set error: 0.6107 // time elapsed: 12.9726 s\n",
      "validation set error: 0.6098 // time elapsed: 0.7519 s\n",
      "test set error: 0.6558 // time elapsed: 1.5036 s\n"
     ]
    }
   ],
   "source": [
    "tf.reset_default_graph()\n",
    "f, f_params = get_feature_model(feature_model=GCNNLarge0, settings=Triplet_Hinge_Settings,\n",
    "                                num_features=10, data_format=[32, 32, 3],\n",
    "                                f_lr=0.07, f_reg=0.001, f_scope=\"f_gl0_cifar100_10\")\n",
    "c, c_params = get_classifier(classifier=TwoLayerClassifier0, num_features=10, num_classes=100, \n",
    "                             c_lr=0.01, c_reg=0.001, c_scope=\"meh\", f_params=f_params)\n",
    "fs = tf.train.Saver(tf.get_collection(tf.GraphKeys.GLOBAL_VARIABLES, \"f_gl0_cifar100_10\"))\n",
    "\n",
    "with tf.Session() as sess:\n",
    "    sess.run(tf.global_variables_initializer())\n",
    "    fs.restore(sess, \"./models/cifar100/f_gl0_cifar100_10_.ckpt\")\n",
    "    train_classifier(sess=sess, feature_model=f, classifier=c, data=d, samplers=s, num_steps=10000, \n",
    "                     f_params=f_params, c_params=c_params)\n",
    "    test_model(sess=sess, feature_model=f, classifier=c, samplers=s, data=d, f_params=f_params, c_params=c_params)"
   ]
  },
  {
   "cell_type": "code",
   "execution_count": 17,
   "metadata": {
    "collapsed": true
   },
   "outputs": [
    {
     "name": "stdout",
     "output_type": "stream",
     "text": [
      "INFO:tensorflow:Restoring parameters from ./models/cifar100/f_gl0_cifar100_20_.ckpt\n"
     ]
    },
    {
     "name": "stderr",
     "output_type": "stream",
     "text": [
      "INFO:tensorflow:Restoring parameters from ./models/cifar100/f_gl0_cifar100_20_.ckpt\n"
     ]
    },
    {
     "name": "stdout",
     "output_type": "stream",
     "text": [
      "begin training classifier\n",
      "\tstep 0: train loss 4.70921, train error 0.982857\n",
      "\tstep 100: train loss 4.64438, train error 0.972857\n",
      "\tstep 200: train loss 4.63852, train error 0.977143\n",
      "\tstep 300: train loss 4.5983, train error 0.974286\n",
      "\tstep 400: train loss 4.59676, train error 0.977143\n",
      "\tstep 500: train loss 4.54906, train error 0.974286\n",
      "\tstep 600: train loss 4.52971, train error 0.957143\n",
      "\tstep 700: train loss 4.49768, train error 0.955714\n",
      "\tstep 800: train loss 4.48314, train error 0.945714\n",
      "\tstep 900: train loss 4.47154, train error 0.9675\n",
      "\tstep 1000: train loss 4.45016, train error 0.958571\n",
      "\tstep 1100: train loss 4.41369, train error 0.935714\n",
      "\tstep 1200: train loss 4.40582, train error 0.94\n",
      "\tstep 1300: train loss 4.37453, train error 0.931429\n",
      "\tstep 1400: train loss 4.34826, train error 0.924286\n",
      "\tstep 1500: train loss 4.32178, train error 0.922857\n",
      "\tstep 1600: train loss 4.28933, train error 0.898571\n",
      "\tstep 1700: train loss 4.26078, train error 0.9\n",
      "\tstep 1800: train loss 4.25068, train error 0.904286\n",
      "\tstep 1900: train loss 4.22653, train error 0.898571\n",
      "\tstep 2000: train loss 4.23143, train error 0.908571\n",
      "\tstep 2100: train loss 4.19386, train error 0.882857\n",
      "\tstep 2200: train loss 4.18298, train error 0.901429\n",
      "\tstep 2300: train loss 4.1511, train error 0.864286\n",
      "\tstep 2400: train loss 4.15558, train error 0.884286\n",
      "\tstep 2500: train loss 4.13932, train error 0.882857\n",
      "\tstep 2600: train loss 4.11301, train error 0.868571\n",
      "\tstep 2700: train loss 4.08998, train error 0.885714\n",
      "\tstep 2800: train loss 4.08674, train error 0.867143\n",
      "\tstep 2900: train loss 4.03631, train error 0.85\n",
      "\tstep 3000: train loss 4.01947, train error 0.858571\n",
      "\tstep 3100: train loss 4.01406, train error 0.847143\n",
      "\tstep 3200: train loss 4.00163, train error 0.858571\n",
      "\tstep 3300: train loss 3.99972, train error 0.825714\n",
      "\tstep 3400: train loss 3.96368, train error 0.848571\n",
      "\tstep 3500: train loss 3.9284, train error 0.827143\n",
      "\tstep 3600: train loss 3.92642, train error 0.834286\n",
      "\tstep 3700: train loss 3.92103, train error 0.811429\n",
      "\tstep 3800: train loss 3.88155, train error 0.837143\n",
      "\tstep 3900: train loss 3.88156, train error 0.854286\n",
      "\tstep 4000: train loss 3.90668, train error 0.827143\n",
      "\tstep 4100: train loss 3.86387, train error 0.827143\n",
      "\tstep 4200: train loss 3.83327, train error 0.798571\n",
      "\tstep 4300: train loss 3.82868, train error 0.798571\n",
      "\tstep 4400: train loss 3.78934, train error 0.787143\n",
      "\tstep 4500: train loss 3.81993, train error 0.805714\n",
      "\tstep 4600: train loss 3.77694, train error 0.815714\n",
      "\tstep 4700: train loss 3.78264, train error 0.811429\n",
      "\tstep 4800: train loss 3.77085, train error 0.755714\n",
      "\tstep 4900: train loss 3.73646, train error 0.79\n",
      "\tstep 5000: train loss 3.7763, train error 0.807143\n",
      "\tstep 5100: train loss 3.72905, train error 0.782857\n",
      "\tstep 5200: train loss 3.72169, train error 0.768571\n",
      "\tstep 5300: train loss 3.72408, train error 0.784286\n",
      "\tstep 5400: train loss 3.6832, train error 0.784286\n",
      "\tstep 5500: train loss 3.70743, train error 0.768571\n",
      "\tstep 5600: train loss 3.64455, train error 0.771429\n",
      "\tstep 5700: train loss 3.64855, train error 0.771429\n",
      "\tstep 5800: train loss 3.63946, train error 0.757143\n",
      "\tstep 5900: train loss 3.61281, train error 0.748571\n",
      "\tstep 6000: train loss 3.64537, train error 0.778571\n",
      "\tstep 6100: train loss 3.65233, train error 0.787143\n",
      "\tstep 6200: train loss 3.62121, train error 0.771429\n",
      "\tstep 6300: train loss 3.62946, train error 0.772857\n",
      "\tstep 6400: train loss 3.60899, train error 0.774286\n",
      "\tstep 6500: train loss 3.57781, train error 0.75\n",
      "\tstep 6600: train loss 3.57411, train error 0.772857\n",
      "\tstep 6700: train loss 3.56496, train error 0.77\n",
      "\tstep 6800: train loss 3.55611, train error 0.754286\n",
      "\tstep 6900: train loss 3.55569, train error 0.771429\n",
      "\tstep 7000: train loss 3.53761, train error 0.754286\n",
      "\tstep 7100: train loss 3.59563, train error 0.761429\n",
      "\tstep 7200: train loss 3.49917, train error 0.744286\n",
      "\tstep 7300: train loss 3.53843, train error 0.772857\n",
      "\tstep 7400: train loss 3.51112, train error 0.741429\n",
      "\tstep 7500: train loss 3.48827, train error 0.751429\n",
      "\tstep 7600: train loss 3.47896, train error 0.725714\n",
      "\tstep 7700: train loss 3.50044, train error 0.784286\n",
      "\tstep 7800: train loss 3.52147, train error 0.768571\n",
      "\tstep 7900: train loss 3.47506, train error 0.72\n",
      "\tstep 8000: train loss 3.46339, train error 0.782857\n",
      "\tstep 8100: train loss 3.46852, train error 0.741429\n",
      "\tstep 8200: train loss 3.41576, train error 0.762857\n",
      "\tstep 8300: train loss 3.4644, train error 0.737143\n",
      "\tstep 8400: train loss 3.43013, train error 0.742857\n",
      "\tstep 8500: train loss 3.38714, train error 0.704286\n",
      "\tstep 8600: train loss 3.3611, train error 0.71\n",
      "\tstep 8700: train loss 3.43617, train error 0.737143\n",
      "\tstep 8800: train loss 3.35901, train error 0.715714\n",
      "\tstep 8900: train loss 3.40837, train error 0.737143\n",
      "\tstep 9000: train loss 3.3811, train error 0.745714\n",
      "\tstep 9100: train loss 3.42448, train error 0.74\n",
      "\tstep 9200: train loss 3.40507, train error 0.758571\n",
      "\tstep 9300: train loss 3.34127, train error 0.728571\n",
      "\tstep 9400: train loss 3.35706, train error 0.715714\n",
      "\tstep 9500: train loss 3.33873, train error 0.734286\n",
      "\tstep 9600: train loss 3.31389, train error 0.721429\n",
      "\tstep 9700: train loss 3.31336, train error 0.712857\n",
      "\tstep 9800: train loss 3.31349, train error 0.704286\n",
      "\tstep 9900: train loss 3.32944, train error 0.72\n",
      "end training classifier // time elapsed: 1097.7970 s\n",
      "validation set error: 0.6864 // time elapsed: 1.0276 s\n",
      "train set error: 0.7038 // time elapsed: 12.9622 s\n",
      "validation set error: 0.6864 // time elapsed: 0.7506 s\n",
      "test set error: 0.6980 // time elapsed: 1.5007 s\n"
     ]
    }
   ],
   "source": [
    "tf.reset_default_graph()\n",
    "f, f_params = get_feature_model(feature_model=GCNNLarge0, settings=Triplet_Hinge_Settings,\n",
    "                                num_features=20, data_format=[32, 32, 3],\n",
    "                                f_lr=0.07, f_reg=0.001, f_scope=\"f_gl0_cifar100_20\")\n",
    "c, c_params = get_classifier(classifier=LinearClassifier0, num_features=20, num_classes=100, \n",
    "                             c_lr=0.01, c_reg=0.001, c_scope=\"meh\", f_params=f_params)\n",
    "fs = tf.train.Saver(tf.get_collection(tf.GraphKeys.GLOBAL_VARIABLES, \"f_gl0_cifar100_20\"))\n",
    "\n",
    "with tf.Session() as sess:\n",
    "    sess.run(tf.global_variables_initializer())\n",
    "    fs.restore(sess, \"./models/cifar100/f_gl0_cifar100_20_.ckpt\")\n",
    "    train_classifier(sess=sess, feature_model=f, classifier=c, data=d, samplers=s, num_steps=10000, \n",
    "                     f_params=f_params, c_params=c_params)\n",
    "    test_model(sess=sess, feature_model=f, classifier=c, samplers=s, data=d, f_params=f_params, c_params=c_params)"
   ]
  },
  {
   "cell_type": "code",
   "execution_count": 28,
   "metadata": {
    "collapsed": true
   },
   "outputs": [
    {
     "name": "stdout",
     "output_type": "stream",
     "text": [
      "INFO:tensorflow:Restoring parameters from ./models/cifar100/f_gl0_cifar100_20_.ckpt\n"
     ]
    },
    {
     "name": "stderr",
     "output_type": "stream",
     "text": [
      "INFO:tensorflow:Restoring parameters from ./models/cifar100/f_gl0_cifar100_20_.ckpt\n"
     ]
    },
    {
     "name": "stdout",
     "output_type": "stream",
     "text": [
      "begin training classifier\n",
      "\tstep 0: train loss 4.66455, train error 0.987143\n",
      "\tstep 100: train loss 4.55288, train error 0.98\n",
      "\tstep 200: train loss 4.46529, train error 0.962857\n",
      "\tstep 300: train loss 4.34645, train error 0.935714\n",
      "\tstep 400: train loss 4.25992, train error 0.892857\n",
      "\tstep 500: train loss 4.19282, train error 0.892857\n",
      "\tstep 600: train loss 4.12243, train error 0.867143\n",
      "\tstep 700: train loss 4.02573, train error 0.834286\n",
      "\tstep 800: train loss 3.95994, train error 0.828571\n",
      "\tstep 900: train loss 3.9065, train error 0.817143\n",
      "\tstep 1000: train loss 3.8532, train error 0.831429\n",
      "\tstep 1100: train loss 3.81201, train error 0.797143\n",
      "\tstep 1200: train loss 3.75688, train error 0.768571\n",
      "\tstep 1300: train loss 3.68581, train error 0.792857\n",
      "\tstep 1400: train loss 3.58453, train error 0.712857\n",
      "\tstep 1500: train loss 3.56436, train error 0.757143\n",
      "\tstep 1600: train loss 3.54566, train error 0.742857\n",
      "\tstep 1700: train loss 3.53793, train error 0.742857\n",
      "\tstep 1800: train loss 3.49999, train error 0.74\n",
      "\tstep 1900: train loss 3.47103, train error 0.725714\n",
      "\tstep 2000: train loss 3.44519, train error 0.724286\n",
      "\tstep 2100: train loss 3.38493, train error 0.715714\n",
      "\tstep 2200: train loss 3.39363, train error 0.755714\n",
      "\tstep 2300: train loss 3.32783, train error 0.725714\n",
      "\tstep 2400: train loss 3.33595, train error 0.7075\n",
      "\tstep 2500: train loss 3.30785, train error 0.712857\n",
      "\tstep 2600: train loss 3.32122, train error 0.734286\n",
      "\tstep 2700: train loss 3.27338, train error 0.7\n",
      "\tstep 2800: train loss 3.21377, train error 0.705714\n",
      "\tstep 2900: train loss 3.20806, train error 0.704286\n",
      "\tstep 3000: train loss 3.14909, train error 0.671429\n",
      "\tstep 3100: train loss 3.20033, train error 0.71\n",
      "\tstep 3200: train loss 3.19982, train error 0.694286\n",
      "\tstep 3300: train loss 3.19871, train error 0.692857\n",
      "\tstep 3400: train loss 3.10898, train error 0.684286\n",
      "\tstep 3500: train loss 3.1233, train error 0.691429\n",
      "\tstep 3600: train loss 3.06312, train error 0.672857\n",
      "\tstep 3700: train loss 3.09422, train error 0.675714\n",
      "\tstep 3800: train loss 3.13258, train error 0.688571\n",
      "\tstep 3900: train loss 3.05194, train error 0.662857\n",
      "\tstep 4000: train loss 3.14181, train error 0.687143\n",
      "\tstep 4100: train loss 3.06381, train error 0.67\n",
      "\tstep 4200: train loss 3.07914, train error 0.702857\n",
      "\tstep 4300: train loss 3.08695, train error 0.704286\n",
      "\tstep 4400: train loss 3.05886, train error 0.677143\n",
      "\tstep 4500: train loss 3.05896, train error 0.695714\n",
      "\tstep 4600: train loss 2.99389, train error 0.67\n",
      "\tstep 4700: train loss 2.99495, train error 0.678571\n",
      "\tstep 4800: train loss 2.99844, train error 0.648571\n",
      "\tstep 4900: train loss 2.96523, train error 0.652857\n",
      "\tstep 5000: train loss 2.92823, train error 0.651429\n",
      "\tstep 5100: train loss 2.93314, train error 0.645714\n",
      "\tstep 5200: train loss 2.99005, train error 0.638571\n",
      "\tstep 5300: train loss 2.93409, train error 0.642857\n",
      "\tstep 5400: train loss 2.92638, train error 0.645714\n",
      "\tstep 5500: train loss 2.95748, train error 0.668571\n",
      "\tstep 5600: train loss 2.9034, train error 0.621429\n",
      "\tstep 5700: train loss 2.94691, train error 0.642857\n",
      "\tstep 5800: train loss 2.91831, train error 0.65\n",
      "\tstep 5900: train loss 2.97349, train error 0.674286\n",
      "\tstep 6000: train loss 2.909, train error 0.667143\n",
      "\tstep 6100: train loss 2.90078, train error 0.635714\n",
      "\tstep 6200: train loss 2.90942, train error 0.642857\n",
      "\tstep 6300: train loss 2.94677, train error 0.63\n",
      "\tstep 6400: train loss 2.86334, train error 0.632857\n",
      "\tstep 6500: train loss 2.9267, train error 0.628571\n",
      "\tstep 6600: train loss 2.95252, train error 0.664286\n",
      "\tstep 6700: train loss 2.85854, train error 0.645714\n",
      "\tstep 6800: train loss 2.87096, train error 0.637143\n",
      "\tstep 6900: train loss 2.90722, train error 0.647143\n",
      "\tstep 7000: train loss 2.84324, train error 0.661429\n",
      "\tstep 7100: train loss 2.87674, train error 0.654286\n",
      "\tstep 7200: train loss 2.86823, train error 0.65\n",
      "\tstep 7300: train loss 2.89891, train error 0.634286\n",
      "\tstep 7400: train loss 2.89179, train error 0.654286\n",
      "\tstep 7500: train loss 2.85315, train error 0.61\n",
      "\tstep 7600: train loss 2.82023, train error 0.607143\n",
      "\tstep 7700: train loss 2.84837, train error 0.628571\n",
      "\tstep 7800: train loss 2.85459, train error 0.635714\n",
      "\tstep 7900: train loss 2.82933, train error 0.604286\n",
      "\tstep 8000: train loss 2.86575, train error 0.634286\n",
      "\tstep 8100: train loss 2.85791, train error 0.64\n",
      "\tstep 8200: train loss 2.92074, train error 0.651429\n",
      "\tstep 8300: train loss 2.83666, train error 0.622857\n",
      "\tstep 8400: train loss 2.85035, train error 0.66\n",
      "\tstep 8500: train loss 2.80591, train error 0.618571\n",
      "\tstep 8600: train loss 2.86792, train error 0.644286\n",
      "\tstep 8700: train loss 2.827, train error 0.642857\n",
      "\tstep 8800: train loss 2.82428, train error 0.638571\n",
      "\tstep 8900: train loss 2.85251, train error 0.665714\n",
      "\tstep 9000: train loss 2.8481, train error 0.657143\n",
      "\tstep 9100: train loss 2.85501, train error 0.665714\n",
      "\tstep 9200: train loss 2.84372, train error 0.637143\n",
      "\tstep 9300: train loss 2.82201, train error 0.608571\n",
      "\tstep 9400: train loss 2.80369, train error 0.635714\n",
      "\tstep 9500: train loss 2.84112, train error 0.645714\n",
      "\tstep 9600: train loss 2.83402, train error 0.621429\n",
      "\tstep 9700: train loss 2.77882, train error 0.611429\n",
      "\tstep 9800: train loss 2.83134, train error 0.638571\n",
      "\tstep 9900: train loss 2.75532, train error 0.604286\n",
      "end training classifier // time elapsed: 1096.9104 s\n",
      "validation set error: 0.5902 // time elapsed: 0.7728 s\n",
      "train set error: 0.5912 // time elapsed: 12.9660 s\n",
      "validation set error: 0.5902 // time elapsed: 0.7523 s\n",
      "test set error: 0.6296 // time elapsed: 1.4994 s\n"
     ]
    }
   ],
   "source": [
    "tf.reset_default_graph()\n",
    "f, f_params = get_feature_model(feature_model=GCNNLarge0, settings=Triplet_Hinge_Settings,\n",
    "                                num_features=20, data_format=[32, 32, 3],\n",
    "                                f_lr=0.07, f_reg=0.001, f_scope=\"f_gl0_cifar100_20\")\n",
    "c, c_params = get_classifier(classifier=LinearClassifier0, num_features=20, num_classes=100, \n",
    "                             c_lr=0.04, c_reg=0.001, c_scope=\"meh\", f_params=f_params)\n",
    "fs = tf.train.Saver(tf.get_collection(tf.GraphKeys.GLOBAL_VARIABLES, \"f_gl0_cifar100_20\"))\n",
    "\n",
    "with tf.Session() as sess:\n",
    "    sess.run(tf.global_variables_initializer())\n",
    "    fs.restore(sess, \"./models/cifar100/f_gl0_cifar100_20_.ckpt\")\n",
    "    train_classifier(sess=sess, feature_model=f, classifier=c, data=d, samplers=s, num_steps=10000, \n",
    "                     f_params=f_params, c_params=c_params)\n",
    "    test_model(sess=sess, feature_model=f, classifier=c, samplers=s, data=d, f_params=f_params, c_params=c_params)"
   ]
  },
  {
   "cell_type": "code",
   "execution_count": 25,
   "metadata": {
    "collapsed": true
   },
   "outputs": [
    {
     "name": "stdout",
     "output_type": "stream",
     "text": [
      "INFO:tensorflow:Restoring parameters from ./models/cifar100/f_gl0_cifar100_40_.ckpt\n"
     ]
    },
    {
     "name": "stderr",
     "output_type": "stream",
     "text": [
      "INFO:tensorflow:Restoring parameters from ./models/cifar100/f_gl0_cifar100_40_.ckpt\n"
     ]
    },
    {
     "name": "stdout",
     "output_type": "stream",
     "text": [
      "begin training classifier\n",
      "\tstep 0: train loss 4.69393, train error 0.991429\n",
      "\tstep 100: train loss 4.61533, train error 0.978571\n",
      "\tstep 200: train loss 4.52391, train error 0.984286\n",
      "\tstep 300: train loss 4.43568, train error 0.957143\n",
      "\tstep 400: train loss 4.36673, train error 0.934286\n",
      "\tstep 500: train loss 4.28601, train error 0.914286\n",
      "\tstep 600: train loss 4.23104, train error 0.882857\n",
      "\tstep 700: train loss 4.15542, train error 0.875714\n",
      "\tstep 800: train loss 4.07606, train error 0.841429\n",
      "\tstep 900: train loss 4.05686, train error 0.842857\n",
      "\tstep 1000: train loss 3.97827, train error 0.79\n",
      "\tstep 1100: train loss 3.91807, train error 0.792857\n",
      "\tstep 1200: train loss 3.90165, train error 0.817143\n",
      "\tstep 1300: train loss 3.82414, train error 0.774286\n",
      "\tstep 1400: train loss 3.74418, train error 0.81\n",
      "\tstep 1500: train loss 3.78372, train error 0.81\n",
      "\tstep 1600: train loss 3.70892, train error 0.78\n",
      "\tstep 1700: train loss 3.65973, train error 0.778571\n",
      "\tstep 1800: train loss 3.64257, train error 0.754286\n",
      "\tstep 1900: train loss 3.6117, train error 0.742857\n",
      "\tstep 2000: train loss 3.56271, train error 0.765714\n",
      "\tstep 2100: train loss 3.51152, train error 0.734286\n",
      "\tstep 2200: train loss 3.54375, train error 0.767143\n",
      "\tstep 2300: train loss 3.52307, train error 0.771429\n",
      "\tstep 2400: train loss 3.50675, train error 0.725714\n",
      "\tstep 2500: train loss 3.442, train error 0.741429\n",
      "\tstep 2600: train loss 3.47047, train error 0.757143\n",
      "\tstep 2700: train loss 3.42791, train error 0.73\n",
      "\tstep 2800: train loss 3.33841, train error 0.691429\n",
      "\tstep 2900: train loss 3.37637, train error 0.727143\n",
      "\tstep 3000: train loss 3.39772, train error 0.737143\n",
      "\tstep 3100: train loss 3.38529, train error 0.742857\n",
      "\tstep 3200: train loss 3.31279, train error 0.74\n",
      "\tstep 3300: train loss 3.28411, train error 0.738571\n",
      "\tstep 3400: train loss 3.28329, train error 0.711429\n",
      "\tstep 3500: train loss 3.31171, train error 0.717143\n",
      "\tstep 3600: train loss 3.32164, train error 0.745714\n",
      "\tstep 3700: train loss 3.25377, train error 0.741429\n",
      "\tstep 3800: train loss 3.24882, train error 0.732857\n",
      "\tstep 3900: train loss 3.28454, train error 0.724286\n",
      "\tstep 4000: train loss 3.24918, train error 0.712857\n",
      "\tstep 4100: train loss 3.18112, train error 0.697143\n",
      "\tstep 4200: train loss 3.2096, train error 0.708571\n",
      "\tstep 4300: train loss 3.16488, train error 0.71\n",
      "\tstep 4400: train loss 3.19809, train error 0.728571\n",
      "\tstep 4500: train loss 3.17498, train error 0.701429\n",
      "\tstep 4600: train loss 3.1507, train error 0.725714\n",
      "\tstep 4700: train loss 3.21234, train error 0.717143\n",
      "\tstep 4800: train loss 3.09369, train error 0.697143\n",
      "\tstep 4900: train loss 3.13456, train error 0.688571\n",
      "\tstep 5000: train loss 3.09079, train error 0.725714\n",
      "\tstep 5100: train loss 3.20291, train error 0.734286\n",
      "\tstep 5200: train loss 3.15235, train error 0.725714\n",
      "\tstep 5300: train loss 3.16804, train error 0.732857\n",
      "\tstep 5400: train loss 3.15789, train error 0.714286\n",
      "\tstep 5500: train loss 3.10018, train error 0.702857\n",
      "\tstep 5600: train loss 3.08952, train error 0.714286\n",
      "\tstep 5700: train loss 3.0678, train error 0.672857\n",
      "\tstep 5800: train loss 3.00545, train error 0.67\n",
      "\tstep 5900: train loss 3.05052, train error 0.698571\n",
      "\tstep 6000: train loss 3.10782, train error 0.711429\n",
      "\tstep 6100: train loss 3.10429, train error 0.698571\n",
      "\tstep 6200: train loss 3.02277, train error 0.668571\n",
      "\tstep 6300: train loss 3.05676, train error 0.687143\n",
      "\tstep 6400: train loss 3.06222, train error 0.682857\n",
      "\tstep 6500: train loss 3.1036, train error 0.695714\n",
      "\tstep 6600: train loss 3.07712, train error 0.712857\n",
      "\tstep 6700: train loss 3.05871, train error 0.695714\n",
      "\tstep 6800: train loss 3.01732, train error 0.668571\n",
      "\tstep 6900: train loss 3.04666, train error 0.687143\n",
      "\tstep 7000: train loss 3.01385, train error 0.695714\n",
      "\tstep 7100: train loss 3.0854, train error 0.71\n",
      "\tstep 7200: train loss 3.04056, train error 0.688571\n",
      "\tstep 7300: train loss 3.01965, train error 0.687143\n",
      "\tstep 7400: train loss 3.03179, train error 0.668571\n",
      "\tstep 7500: train loss 2.99611, train error 0.71\n",
      "\tstep 7600: train loss 3.03714, train error 0.662857\n",
      "\tstep 7700: train loss 2.99161, train error 0.642857\n",
      "\tstep 7800: train loss 3.00619, train error 0.654286\n",
      "\tstep 7900: train loss 2.99203, train error 0.652857\n",
      "\tstep 8000: train loss 2.95757, train error 0.651429\n",
      "\tstep 8100: train loss 2.98971, train error 0.652857\n",
      "\tstep 8200: train loss 3.02293, train error 0.692857\n",
      "\tstep 8300: train loss 2.95914, train error 0.695714\n",
      "\tstep 8400: train loss 2.96291, train error 0.668571\n",
      "\tstep 8500: train loss 2.98923, train error 0.647143\n",
      "\tstep 8600: train loss 2.95528, train error 0.701429\n",
      "\tstep 8700: train loss 2.96271, train error 0.681429\n",
      "\tstep 8800: train loss 3.00813, train error 0.668571\n",
      "\tstep 8900: train loss 2.99665, train error 0.69\n",
      "\tstep 9000: train loss 2.98697, train error 0.684286\n",
      "\tstep 9100: train loss 2.93946, train error 0.652857\n",
      "\tstep 9200: train loss 2.99295, train error 0.668571\n",
      "\tstep 9300: train loss 2.98223, train error 0.657143\n",
      "\tstep 9400: train loss 2.98126, train error 0.655714\n",
      "\tstep 9500: train loss 2.98451, train error 0.7\n",
      "\tstep 9600: train loss 2.95819, train error 0.645714\n",
      "\tstep 9700: train loss 3.02893, train error 0.677143\n",
      "\tstep 9800: train loss 2.97036, train error 0.657143\n",
      "\tstep 9900: train loss 3.0134, train error 0.661429\n",
      "end training classifier // time elapsed: 1098.8016 s\n",
      "validation set error: 0.6332 // time elapsed: 0.7682 s\n",
      "train set error: 0.6459 // time elapsed: 12.9715 s\n",
      "validation set error: 0.6332 // time elapsed: 0.7532 s\n",
      "test set error: 0.6662 // time elapsed: 1.5039 s\n"
     ]
    }
   ],
   "source": [
    "tf.reset_default_graph()\n",
    "f, f_params = get_feature_model(feature_model=GCNNLarge0, settings=Triplet_Hinge_Settings,\n",
    "                                num_features=40, data_format=[32, 32, 3],\n",
    "                                f_lr=0.07, f_reg=0.001, f_scope=\"f_gl0_cifar100_40\")\n",
    "c, c_params = get_classifier(classifier=LinearClassifier0, num_features=40, num_classes=100, \n",
    "                             c_lr=0.04, c_reg=0.001, c_scope=\"meh\", f_params=f_params)\n",
    "fs = tf.train.Saver(tf.get_collection(tf.GraphKeys.GLOBAL_VARIABLES, \"f_gl0_cifar100_40\"))\n",
    "\n",
    "with tf.Session() as sess:\n",
    "    sess.run(tf.global_variables_initializer())\n",
    "    fs.restore(sess, \"./models/cifar100/f_gl0_cifar100_40_.ckpt\")\n",
    "    train_classifier(sess=sess, feature_model=f, classifier=c, data=d, samplers=s, num_steps=10000, \n",
    "                     f_params=f_params, c_params=c_params)\n",
    "    test_model(sess=sess, feature_model=f, classifier=c, samplers=s, data=d, f_params=f_params, c_params=c_params)"
   ]
  },
  {
   "cell_type": "code",
   "execution_count": 24,
   "metadata": {},
   "outputs": [
    {
     "name": "stdout",
     "output_type": "stream",
     "text": [
      "INFO:tensorflow:Restoring parameters from ./models/cifar100/d_gl0_cifar100_10.ckpt\n"
     ]
    },
    {
     "name": "stderr",
     "output_type": "stream",
     "text": [
      "INFO:tensorflow:Restoring parameters from ./models/cifar100/d_gl0_cifar100_10.ckpt\n"
     ]
    },
    {
     "name": "stdout",
     "output_type": "stream",
     "text": [
      "begin training classifier\n",
      "\tstep 0: train loss 4.62445, train error 0.997143\n",
      "\tstep 100: train loss 4.58532, train error 0.985714\n",
      "\tstep 200: train loss 4.53069, train error 0.97\n",
      "\tstep 300: train loss 4.51721, train error 0.958571\n",
      "\tstep 400: train loss 4.46734, train error 0.935714\n",
      "\tstep 500: train loss 4.42834, train error 0.922857\n",
      "\tstep 600: train loss 4.40206, train error 0.928571\n",
      "\tstep 700: train loss 4.34931, train error 0.914286\n",
      "\tstep 800: train loss 4.31638, train error 0.905714\n",
      "\tstep 900: train loss 4.29936, train error 0.895714\n",
      "\tstep 1000: train loss 4.28661, train error 0.897143\n",
      "\tstep 1100: train loss 4.23337, train error 0.888571\n",
      "\tstep 1200: train loss 4.21588, train error 0.875714\n",
      "\tstep 1300: train loss 4.18145, train error 0.871429\n",
      "\tstep 1400: train loss 4.1661, train error 0.88\n",
      "\tstep 1500: train loss 4.12545, train error 0.865714\n",
      "\tstep 1600: train loss 4.11524, train error 0.868571\n",
      "\tstep 1700: train loss 4.0993, train error 0.87\n",
      "\tstep 1800: train loss 4.05092, train error 0.852857\n",
      "\tstep 1900: train loss 4.04103, train error 0.851429\n",
      "\tstep 2000: train loss 4.02323, train error 0.857143\n",
      "\tstep 2100: train loss 4.004, train error 0.837143\n",
      "\tstep 2200: train loss 3.97773, train error 0.841429\n",
      "\tstep 2300: train loss 3.95433, train error 0.86\n",
      "\tstep 2400: train loss 3.94907, train error 0.824286\n",
      "\tstep 2500: train loss 3.90501, train error 0.818571\n",
      "\tstep 2600: train loss 3.89822, train error 0.834286\n",
      "\tstep 2700: train loss 3.90736, train error 0.822857\n",
      "\tstep 2800: train loss 3.88597, train error 0.844286\n",
      "\tstep 2900: train loss 3.83211, train error 0.805714\n",
      "\tstep 3000: train loss 3.84506, train error 0.807143\n",
      "\tstep 3100: train loss 3.82658, train error 0.815714\n",
      "\tstep 3200: train loss 3.83765, train error 0.812857\n",
      "\tstep 3300: train loss 3.8042, train error 0.814286\n",
      "\tstep 3400: train loss 3.80544, train error 0.82\n",
      "\tstep 3500: train loss 3.78289, train error 0.818571\n",
      "\tstep 3600: train loss 3.76269, train error 0.805714\n",
      "\tstep 3700: train loss 3.73303, train error 0.831429\n",
      "\tstep 3800: train loss 3.72789, train error 0.818571\n",
      "\tstep 3900: train loss 3.71863, train error 0.784286\n",
      "\tstep 4000: train loss 3.70739, train error 0.815714\n",
      "\tstep 4100: train loss 3.6991, train error 0.768571\n",
      "\tstep 4200: train loss 3.68456, train error 0.798571\n",
      "\tstep 4300: train loss 3.656, train error 0.79\n",
      "\tstep 4400: train loss 3.65445, train error 0.788571\n",
      "\tstep 4500: train loss 3.6799, train error 0.802857\n",
      "\tstep 4600: train loss 3.6643, train error 0.79\n",
      "\tstep 4700: train loss 3.66601, train error 0.814286\n",
      "\tstep 4800: train loss 3.60997, train error 0.791429\n",
      "\tstep 4900: train loss 3.65946, train error 0.79\n",
      "\tstep 5000: train loss 3.64176, train error 0.784286\n",
      "\tstep 5100: train loss 3.57993, train error 0.794286\n",
      "\tstep 5200: train loss 3.60622, train error 0.76\n",
      "\tstep 5300: train loss 3.57478, train error 0.79\n",
      "\tstep 5400: train loss 3.61485, train error 0.804286\n",
      "\tstep 5500: train loss 3.59791, train error 0.807143\n",
      "\tstep 5600: train loss 3.54821, train error 0.775714\n",
      "\tstep 5700: train loss 3.55928, train error 0.778571\n",
      "\tstep 5800: train loss 3.57681, train error 0.754286\n",
      "\tstep 5900: train loss 3.53549, train error 0.762857\n",
      "\tstep 6000: train loss 3.56561, train error 0.77\n",
      "\tstep 6100: train loss 3.52656, train error 0.78\n",
      "\tstep 6200: train loss 3.55899, train error 0.764286\n",
      "\tstep 6300: train loss 3.50814, train error 0.782857\n",
      "\tstep 6400: train loss 3.57922, train error 0.787143\n",
      "\tstep 6500: train loss 3.49768, train error 0.76\n",
      "\tstep 6600: train loss 3.51776, train error 0.744286\n",
      "\tstep 6700: train loss 3.49911, train error 0.764286\n",
      "\tstep 6800: train loss 3.48582, train error 0.755714\n",
      "\tstep 6900: train loss 3.52616, train error 0.76\n",
      "\tstep 7000: train loss 3.47149, train error 0.745714\n",
      "\tstep 7100: train loss 3.49667, train error 0.765714\n",
      "\tstep 7200: train loss 3.46739, train error 0.75\n",
      "\tstep 7300: train loss 3.4807, train error 0.775714\n",
      "\tstep 7400: train loss 3.46433, train error 0.77\n",
      "\tstep 7500: train loss 3.46117, train error 0.732857\n",
      "\tstep 7600: train loss 3.3876, train error 0.748571\n",
      "\tstep 7700: train loss 3.50116, train error 0.745714\n",
      "\tstep 7800: train loss 3.44768, train error 0.718571\n",
      "\tstep 7900: train loss 3.42026, train error 0.732857\n",
      "\tstep 8000: train loss 3.45329, train error 0.788571\n",
      "\tstep 8100: train loss 3.45757, train error 0.762857\n",
      "\tstep 8200: train loss 3.38361, train error 0.73\n",
      "\tstep 8300: train loss 3.4777, train error 0.767143\n",
      "\tstep 8400: train loss 3.43335, train error 0.771429\n",
      "\tstep 8500: train loss 3.48595, train error 0.754286\n",
      "\tstep 8600: train loss 3.3912, train error 0.761429\n",
      "\tstep 8700: train loss 3.4526, train error 0.772857\n",
      "\tstep 8800: train loss 3.43168, train error 0.738571\n",
      "\tstep 8900: train loss 3.44562, train error 0.734286\n",
      "\tstep 9000: train loss 3.42395, train error 0.742857\n",
      "\tstep 9100: train loss 3.40316, train error 0.728571\n",
      "\tstep 9200: train loss 3.39463, train error 0.728571\n",
      "\tstep 9300: train loss 3.43027, train error 0.767143\n",
      "\tstep 9400: train loss 3.37299, train error 0.711429\n",
      "\tstep 9500: train loss 3.36704, train error 0.74\n",
      "\tstep 9600: train loss 3.38208, train error 0.761429\n",
      "\tstep 9700: train loss 3.387, train error 0.74\n",
      "\tstep 9800: train loss 3.38194, train error 0.748571\n",
      "\tstep 9900: train loss 3.36374, train error 0.717143\n",
      "end training classifier // time elapsed: 1098.3921 s\n",
      "validation set error: 0.6942 // time elapsed: 0.7785 s\n",
      "train set error: 0.7371 // time elapsed: 12.9792 s\n",
      "validation set error: 0.6942 // time elapsed: 0.7520 s\n",
      "test set error: 0.7498 // time elapsed: 1.5005 s\n"
     ]
    }
   ],
   "source": [
    "tf.reset_default_graph()\n",
    "f, f_params = get_feature_model(feature_model=GCNNLarge0, settings=Triplet_Distance_Settings,\n",
    "                                num_features=10, data_format=[32, 32, 3],\n",
    "                                f_lr=0.03, f_reg=0.001, f_scope=\"d_gl0_cifar100_10\")\n",
    "c, c_params = get_classifier(classifier=LinearClassifier0, num_features=10, num_classes=100, \n",
    "                             c_lr=0.04, c_reg=0.001, c_scope=\"meh\", f_params=f_params)\n",
    "fs = tf.train.Saver(tf.get_collection(tf.GraphKeys.GLOBAL_VARIABLES, \"d_gl0_cifar100_10\"))\n",
    "\n",
    "with tf.Session() as sess:\n",
    "    sess.run(tf.global_variables_initializer())\n",
    "    fs.restore(sess, \"./models/cifar100/d_gl0_cifar100_10.ckpt\")\n",
    "    train_classifier(sess=sess, feature_model=f, classifier=c, data=d, samplers=s, num_steps=10000, \n",
    "                     f_params=f_params, c_params=c_params)\n",
    "    test_model(sess=sess, feature_model=f, classifier=c, samplers=s, data=d, f_params=f_params, c_params=c_params)"
   ]
  },
  {
   "cell_type": "code",
   "execution_count": null,
   "metadata": {
    "collapsed": true
   },
   "outputs": [],
   "source": []
  }
 ],
 "metadata": {
  "kernelspec": {
   "display_name": "Python 3",
   "language": "python",
   "name": "python3"
  }
 },
 "nbformat": 4,
 "nbformat_minor": 2
}
