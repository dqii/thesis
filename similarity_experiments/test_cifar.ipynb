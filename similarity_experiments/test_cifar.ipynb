{
 "cells": [
  {
   "cell_type": "code",
   "execution_count": 1,
   "metadata": {},
   "outputs": [
    {
     "name": "stderr",
     "output_type": "stream",
     "text": [
      "/home/dqi/.conda/envs/py36/lib/python3.6/importlib/_bootstrap.py:219: RuntimeWarning: compiletime version 3.5 of module 'tensorflow.python.framework.fast_tensor_util' does not match runtime version 3.6\n",
      "  return f(*args, **kwds)\n",
      "/home/dqi/.conda/envs/py36/lib/python3.6/site-packages/h5py/__init__.py:34: FutureWarning: Conversion of the second argument of issubdtype from `float` to `np.floating` is deprecated. In future, it will be treated as `np.float64 == np.dtype(float).type`.\n",
      "  from ._conv import register_converters as _register_converters\n",
      "Using TensorFlow backend.\n"
     ]
    }
   ],
   "source": [
    "%load_ext autoreload\n",
    "%autoreload 2\n",
    "import numpy as np\n",
    "import tensorflow as tf\n",
    "from features.settings import Baseline_Settings, Pair_Hinge_Settings, Pair_Log_Settings, Triplet_Hinge_Settings, Triplet_Log_Settings\n",
    "from features.models import ConvModelSmall, ConvModelMedium, ConvModelLarge\n",
    "from features.models import GCNNModelSmall, GCNNModelMedium\n",
    "from classes.models import LinearClassifier\n",
    "from datasets import load_cifar, load_cifar10, load_cifar100\n",
    "from sklearn.svm import LinearSVC\n",
    "import time"
   ]
  },
  {
   "cell_type": "code",
   "execution_count": 2,
   "metadata": {},
   "outputs": [
    {
     "name": "stdout",
     "output_type": "stream",
     "text": [
      "CIFAR-10 loaded in 115 seconds\n"
     ]
    }
   ],
   "source": [
    "data, samplers, pair_samplers, triplet_samplers = load_cifar10(augment=True)"
   ]
  },
  {
   "cell_type": "code",
   "execution_count": 3,
   "metadata": {
    "collapsed": true
   },
   "outputs": [],
   "source": [
    "def test_model(model, settings, data, feature_samplers, classification_samplers, num_features, num_steps, lr, keep_prob, reg):\n",
    "    tf.reset_default_graph()\n",
    "    f_train, f_test = feature_samplers\n",
    "    c_train, c_test = classification_samplers\n",
    "    (x_train, y_train), (x_test, y_test) = data\n",
    "    _, H, W, C = x_train.shape\n",
    "    \n",
    "    x = tf.placeholder(tf.float32, shape=[None, H, W, C])\n",
    "    y = tf.placeholder(tf.int64, shape=[None])\n",
    "    dropout = tf.placeholder(tf.float32)\n",
    "    training = tf.placeholder(tf.bool)\n",
    "    m = model(x=x, y=y, settings=settings, num_chan=C, num_features=num_features, \n",
    "              lr=lr, reg=reg, dropout=dropout, training=training)\n",
    "    \n",
    "    with tf.Session() as sess:\n",
    "        sess.run(tf.global_variables_initializer())\n",
    "        \n",
    "        print(\"begin training features // num_features: %g, lr: %g, reg: %g\"%(num_features, lr, reg))\n",
    "        train_time = time.time()\n",
    "        for step in range(num_steps):        \n",
    "            x_, y_ = f_train.sample(200)\n",
    "            sess.run(m.optimize, feed_dict={x:x_, y:y_, dropout:keep_prob, training:True})     \n",
    "            if step % 4000 == 0:\n",
    "                train_loss, train_acc = sess.run([m.loss, m.acc], feed_dict={x:x_, y:y_, dropout:1.0, training:False})\n",
    "                print(\"\\tstep %d: train loss %g, train error %g\"%(step, train_loss, 1 - train_acc))  \n",
    "        train_time = time.time() - train_time\n",
    "        print(\"end training features // time elapsed: %.4f s\"%(train_time))\n",
    "        \n",
    "        eval_test_time = time.time()\n",
    "        x_, y_ = f_test.sample(5000)\n",
    "        test_error = 1 - sess.run(m.acc, feed_dict={x:x_, y:y_, dropout:1.0, training:False})\n",
    "        eval_test_time = time.time() - eval_test_time\n",
    "        print(\"test set error: %.4f // time elapsed: %.4f s\"%(test_error, eval_test_time))\n",
    "        \n",
    "        svc = LinearSVC(random_state=0)\n",
    "        x_, y_ = c_train.sample(20000)\n",
    "        features_train = sess.run(m.features, feed_dict={x:x_, y:y_, dropout:1.0, training:False})\n",
    "        svc.fit(features_train, y_)\n",
    "        features_test = sess.run(m.features, feed_dict={x:x_test, y:y_test, dropout:1.0, training:False})\n",
    "        print(\"classification accuracy: {:.4f}\\n\".format(svc.score(features_test, y_test)))"
   ]
  },
  {
   "cell_type": "markdown",
   "metadata": {},
   "source": [
    "# CIFAR 10"
   ]
  },
  {
   "cell_type": "code",
   "execution_count": 5,
   "metadata": {
    "collapsed": true
   },
   "outputs": [
    {
     "name": "stdout",
     "output_type": "stream",
     "text": [
      "begin training features // num_features: 10, lr: 0.07, reg: 0\n",
      "\tstep 0: train loss 2.27743, train error 0.915\n",
      "\tstep 4000: train loss 0.995881, train error 0.365\n",
      "\tstep 8000: train loss 0.956203, train error 0.345\n",
      "\tstep 12000: train loss 0.93045, train error 0.35\n",
      "\tstep 16000: train loss 0.787815, train error 0.285\n",
      "\tstep 20000: train loss 0.527499, train error 0.185\n",
      "\tstep 24000: train loss 0.576886, train error 0.205\n",
      "\tstep 28000: train loss 0.556494, train error 0.2\n",
      "\tstep 32000: train loss 0.487627, train error 0.145\n",
      "\tstep 36000: train loss 0.476234, train error 0.175\n",
      "end training features // time elapsed: 741.2900 s\n",
      "test set error: 0.1952 // time elapsed: 0.2801 s\n",
      "classification accuracy: 0.8026\n",
      "\n"
     ]
    }
   ],
   "source": [
    "test_model(model=GCNNModelSmall, settings=Baseline_Settings, \n",
    "           data=data['cifar10'], feature_samplers=samplers['cifar10'],\n",
    "           classification_samplers=samplers['cifar10'],\n",
    "           num_features=10, num_steps=40000, lr=0.07, keep_prob=0.5, reg=0)"
   ]
  },
  {
   "cell_type": "code",
   "execution_count": 4,
   "metadata": {},
   "outputs": [
    {
     "name": "stdout",
     "output_type": "stream",
     "text": [
      "begin training features // num_features: 10, lr: 0.07, reg: 0\n",
      "\tstep 0: train loss 2.40137, train error 0.885\n",
      "\tstep 4000: train loss 0.809548, train error 0.325\n",
      "\tstep 8000: train loss 0.435607, train error 0.135\n",
      "\tstep 12000: train loss 0.305689, train error 0.1\n",
      "\tstep 16000: train loss 0.208463, train error 0.06\n",
      "\tstep 20000: train loss 0.104655, train error 0.015\n",
      "\tstep 24000: train loss 0.068234, train error 0.00999999\n",
      "\tstep 28000: train loss 0.0471136, train error 0.005\n",
      "\tstep 32000: train loss 0.0297929, train error 0\n",
      "\tstep 36000: train loss 0.0248514, train error 0.005\n",
      "end training features // time elapsed: 785.9561 s\n",
      "test set error: 0.1888 // time elapsed: 0.3274 s\n",
      "classification accuracy: 0.8188\n",
      "\n"
     ]
    }
   ],
   "source": [
    "test_model(model=GCNNModelSmall, settings=Baseline_Settings, \n",
    "           data=data['cifar10'], feature_samplers=samplers['cifar10'],\n",
    "           classification_samplers=samplers['cifar10'],\n",
    "           num_features=10, num_steps=40000, lr=0.07, keep_prob=0.7, reg=0)"
   ]
  },
  {
   "cell_type": "code",
   "execution_count": 5,
   "metadata": {
    "collapsed": true
   },
   "outputs": [
    {
     "name": "stdout",
     "output_type": "stream",
     "text": [
      "begin training features // num_features: 10, lr: 0.05, reg: 0\n",
      "\tstep 0: train loss 6.03827, train error 0.58\n",
      "\tstep 4000: train loss 0.441758, train error 0.225\n",
      "\tstep 8000: train loss 0.366362, train error 0.17\n",
      "\tstep 12000: train loss 0.220132, train error 0.09\n",
      "\tstep 16000: train loss 0.363013, train error 0.13\n",
      "\tstep 20000: train loss 0.193634, train error 0.06\n",
      "\tstep 24000: train loss 0.19811, train error 0.075\n",
      "\tstep 28000: train loss 0.110381, train error 0.045\n",
      "\tstep 32000: train loss 0.099821, train error 0.045\n",
      "\tstep 36000: train loss 0.121917, train error 0.06\n",
      "\tstep 40000: train loss 0.135041, train error 0.05\n",
      "\tstep 44000: train loss 0.130919, train error 0.055\n",
      "\tstep 48000: train loss 0.160531, train error 0.075\n",
      "end training features // time elapsed: 2334.3376 s\n",
      "test set error: 0.0678 // time elapsed: 1.1123 s\n",
      "classification accuracy: 0.7859\n",
      "\n"
     ]
    }
   ],
   "source": [
    "test_model(model=GCNNModelSmall, settings=Triplet_Hinge_Settings, \n",
    "           data=data['cifar10'], feature_samplers=triplet_samplers['cifar10'],\n",
    "           classification_samplers=samplers['cifar10'],\n",
    "           num_features=10, num_steps=50000, lr=0.05, keep_prob=0.7, reg=0)"
   ]
  },
  {
   "cell_type": "code",
   "execution_count": 6,
   "metadata": {
    "collapsed": true
   },
   "outputs": [
    {
     "name": "stdout",
     "output_type": "stream",
     "text": [
      "begin training features // num_features: 10, lr: 0.002, reg: 0\n",
      "\tstep 0: train loss 2.43421, train error 0.89\n",
      "\tstep 4000: train loss 1.00583, train error 0.51\n",
      "\tstep 8000: train loss 0.972453, train error 0.45\n",
      "\tstep 12000: train loss 0.914387, train error 0.44\n",
      "\tstep 16000: train loss 0.961901, train error 0.45\n",
      "end training features // time elapsed: 656.4830 s\n",
      "test set error: 0.4436 // time elapsed: 0.4432 s\n",
      "classification accuracy: 0.2872\n",
      "\n"
     ]
    }
   ],
   "source": [
    "test_model(model=GCNNModelSmall, settings=Pair_Hinge_Settings, \n",
    "           data=data['cifar10'], feature_samplers=pair_samplers['cifar10'],\n",
    "           classification_samplers=samplers['cifar10'],\n",
    "           num_features=10, num_steps=20000, lr=0.002, keep_prob=0.8, reg=0)"
   ]
  },
  {
   "cell_type": "code",
   "execution_count": null,
   "metadata": {
    "collapsed": true
   },
   "outputs": [],
   "source": [
    "test_model(model=GCNNModelSmall, settings=Pair_Hinge_Settings, \n",
    "           data=data['cifar10'], feature_samplers=pair_samplers['cifar10'],\n",
    "           classification_samplers=samplers['cifar10'],\n",
    "           num_features=10, num_steps=20000, lr=0.001, keep_prob=0.8, reg=0)"
   ]
  },
  {
   "cell_type": "code",
   "execution_count": null,
   "metadata": {
    "collapsed": true
   },
   "outputs": [],
   "source": []
  },
  {
   "cell_type": "code",
   "execution_count": null,
   "metadata": {
    "collapsed": true
   },
   "outputs": [],
   "source": []
  },
  {
   "cell_type": "code",
   "execution_count": 8,
   "metadata": {
    "collapsed": true
   },
   "outputs": [
    {
     "name": "stdout",
     "output_type": "stream",
     "text": [
      "begin training features // num_features: 10, lr: 0.035, reg: 0\n",
      "\tstep 0: train loss 2.34671, train error 0.91\n",
      "\tstep 4000: train loss 1.53022, train error 0.55\n",
      "\tstep 8000: train loss 1.33492, train error 0.465\n",
      "\tstep 12000: train loss 1.27821, train error 0.485\n",
      "\tstep 16000: train loss 1.31745, train error 0.47\n",
      "\tstep 20000: train loss 1.29156, train error 0.5\n",
      "\tstep 24000: train loss 1.24193, train error 0.48\n",
      "\tstep 28000: train loss 1.20333, train error 0.49\n",
      "\tstep 32000: train loss 1.23702, train error 0.44\n",
      "\tstep 36000: train loss 1.06758, train error 0.395\n",
      "end training features // time elapsed: 331.7826 s\n",
      "test set error: 0.3920 // time elapsed: 0.1231 s\n",
      "classification accuracy: 0.6131\n",
      "\n"
     ]
    }
   ],
   "source": [
    "test_model(model=ConvModelSmall, settings=Baseline_Settings, \n",
    "           data=data['cifar10'], feature_samplers=samplers['cifar10'],\n",
    "           classification_samplers=samplers['cifar10'],\n",
    "           num_features=10, num_steps=40000, lr=0.035, keep_prob=0.6, reg=0)"
   ]
  },
  {
   "cell_type": "code",
   "execution_count": 9,
   "metadata": {
    "collapsed": true
   },
   "outputs": [
    {
     "name": "stdout",
     "output_type": "stream",
     "text": [
      "begin training features // num_features: 10, lr: 0.035, reg: 0\n",
      "\tstep 0: train loss 0.994673, train error 0.455\n",
      "\tstep 4000: train loss 0.642121, train error 0.265\n",
      "\tstep 8000: train loss 0.514736, train error 0.215\n",
      "\tstep 12000: train loss 0.552468, train error 0.23\n",
      "\tstep 16000: train loss 0.442118, train error 0.16\n",
      "\tstep 20000: train loss 0.37763, train error 0.165\n",
      "\tstep 24000: train loss 0.449363, train error 0.2\n",
      "\tstep 28000: train loss 0.393079, train error 0.16\n",
      "\tstep 32000: train loss 0.407762, train error 0.185\n",
      "\tstep 36000: train loss 0.292668, train error 0.135\n",
      "end training features // time elapsed: 683.7065 s\n",
      "test set error: 0.1628 // time elapsed: 0.6199 s\n",
      "classification accuracy: 0.5940\n",
      "\n"
     ]
    }
   ],
   "source": [
    "test_model(model=ConvModelSmall, settings=Triplet_Hinge_Settings, \n",
    "           data=data['cifar10'], feature_samplers=triplet_samplers['cifar10'],\n",
    "           classification_samplers=samplers['cifar10'],\n",
    "           num_features=10, num_steps=40000, lr=0.035, keep_prob=0.8, reg=0)"
   ]
  },
  {
   "cell_type": "code",
   "execution_count": null,
   "metadata": {
    "collapsed": true
   },
   "outputs": [],
   "source": [
    "test_model(model=ConvModelSmall, settings=Triplet_Hinge_Settings, \n",
    "           data=data['cifar10'], feature_samplers=triplet_samplers['cifar10'],\n",
    "           classification_samplers=samplers['cifar10'],\n",
    "           num_features=10, num_steps=50000, lr=0.035, keep_prob=0.8, reg=0)"
   ]
  },
  {
   "cell_type": "code",
   "execution_count": 7,
   "metadata": {
    "collapsed": true
   },
   "outputs": [
    {
     "name": "stdout",
     "output_type": "stream",
     "text": [
      "begin training features // num_features: 10, lr: 0.05, reg: 0\n",
      "\tstep 0: train loss 2.33664, train error 0.925\n",
      "\tstep 4000: train loss 0.914061, train error 0.33\n",
      "\tstep 8000: train loss 0.762235, train error 0.245\n",
      "\tstep 12000: train loss 0.695487, train error 0.24\n",
      "\tstep 16000: train loss 0.5237, train error 0.185\n",
      "\tstep 20000: train loss 0.38993, train error 0.16\n",
      "\tstep 24000: train loss 0.345014, train error 0.125\n",
      "\tstep 28000: train loss 0.350183, train error 0.115\n",
      "\tstep 32000: train loss 0.266992, train error 0.11\n",
      "\tstep 36000: train loss 0.324013, train error 0.125\n",
      "end training features // time elapsed: 607.5023 s\n",
      "test set error: 0.1974 // time elapsed: 0.3194 s\n",
      "classification accuracy: 0.8053\n",
      "\n"
     ]
    }
   ],
   "source": [
    "test_model(model=ConvModelMedium, settings=Baseline_Settings, \n",
    "           data=data['cifar10'], feature_samplers=samplers['cifar10'],\n",
    "           classification_samplers=samplers['cifar10'],\n",
    "           num_features=10, num_steps=40000, lr=0.05, keep_prob=0.7, reg=0)"
   ]
  },
  {
   "cell_type": "code",
   "execution_count": null,
   "metadata": {
    "collapsed": true
   },
   "outputs": [
    {
     "name": "stdout",
     "output_type": "stream",
     "text": [
      "begin training features // num_features: 10, lr: 0.055, reg: 0\n",
      "\tstep 0: train loss 0.961764, train error 0.435\n",
      "\tstep 4000: train loss 0.470443, train error 0.21\n",
      "\tstep 8000: train loss 0.440299, train error 0.19\n",
      "\tstep 12000: train loss 0.343401, train error 0.15\n",
      "\tstep 16000: train loss 0.379978, train error 0.145\n",
      "\tstep 20000: train loss 0.276982, train error 0.11\n",
      "\tstep 24000: train loss 0.234762, train error 0.085\n",
      "\tstep 28000: train loss 0.257317, train error 0.1\n",
      "\tstep 32000: train loss 0.233478, train error 0.105\n",
      "\tstep 36000: train loss 0.260139, train error 0.11\n",
      "\tstep 40000: train loss 0.211513, train error 0.08\n"
     ]
    }
   ],
   "source": [
    "test_model(model=ConvModelMedium, settings=Triplet_Hinge_Settings, \n",
    "           data=data['cifar10'], feature_samplers=triplet_samplers['cifar10'],\n",
    "           classification_samplers=samplers['cifar10'],\n",
    "           num_features=10, num_steps=50000, lr=0.055, keep_prob=0.7, reg=0)"
   ]
  },
  {
   "cell_type": "code",
   "execution_count": 4,
   "metadata": {
    "collapsed": true
   },
   "outputs": [
    {
     "name": "stdout",
     "output_type": "stream",
     "text": [
      "begin training features // num_features: 10, lr: 0.06, reg: 0\n",
      "\tstep 0: train loss 1.74911, train error 0.485\n",
      "\tstep 4000: train loss 0.543454, train error 0.235\n",
      "\tstep 8000: train loss 0.431922, train error 0.185\n",
      "\tstep 12000: train loss 0.48555, train error 0.19\n",
      "\tstep 16000: train loss 0.296074, train error 0.105\n",
      "\tstep 20000: train loss 0.25537, train error 0.09\n",
      "\tstep 24000: train loss 0.258988, train error 0.115\n",
      "\tstep 28000: train loss 0.243715, train error 0.11\n",
      "\tstep 32000: train loss 0.229151, train error 0.095\n",
      "\tstep 36000: train loss 0.206, train error 0.07\n",
      "\tstep 40000: train loss 0.222944, train error 0.09\n",
      "\tstep 44000: train loss 0.147414, train error 0.06\n",
      "\tstep 48000: train loss 0.2713, train error 0.125\n",
      "end training features // time elapsed: 1905.8077 s\n",
      "test set error: 0.1064 // time elapsed: 0.9640 s\n",
      "classification accuracy: 0.7307\n",
      "\n"
     ]
    }
   ],
   "source": [
    "test_model(model=ConvModelMedium, settings=Triplet_Hinge_Settings, \n",
    "           data=data['cifar10'], feature_samplers=triplet_samplers['cifar10'],\n",
    "           classification_samplers=samplers['cifar10'],\n",
    "           num_features=10, num_steps=50000, lr=0.05, keep_prob=0.7, reg=0)"
   ]
  },
  {
   "cell_type": "code",
   "execution_count": null,
   "metadata": {
    "collapsed": true
   },
   "outputs": [],
   "source": [
    "test_model(model=ConvModelMedium, settings=Baseline_Settings, \n",
    "           data=data['cifar10'], feature_samplers=samplers['cifar10'],\n",
    "           classification_samplers=samplers['cifar10'],\n",
    "           num_features=10, num_steps=50000, lr=0.045, keep_prob=0.7, reg=0)"
   ]
  },
  {
   "cell_type": "code",
   "execution_count": null,
   "metadata": {
    "collapsed": true
   },
   "outputs": [],
   "source": []
  },
  {
   "cell_type": "markdown",
   "metadata": {},
   "source": [
    "# CIFAR-100"
   ]
  },
  {
   "cell_type": "code",
   "execution_count": null,
   "metadata": {
    "collapsed": true
   },
   "outputs": [],
   "source": [
    "test_model(model=ConvModelLarge, settings=Triplet_Hinge_Settings, \n",
    "           data=data['cifar100'], feature_samplers=triplet_samplers['cifar100'],\n",
    "           classification_samplers=samplers['cifar100'],\n",
    "           num_features=10, num_steps=15000, lr=0.01, keep_prob=0.8, reg=0)"
   ]
  },
  {
   "cell_type": "markdown",
   "metadata": {},
   "source": [
    "# Past experiment results"
   ]
  },
  {
   "cell_type": "code",
   "execution_count": 10,
   "metadata": {},
   "outputs": [
    {
     "name": "stdout",
     "output_type": "stream",
     "text": [
      "begin training features // num_features: 10, lr: 0.07, reg: 0\n",
      "\tstep 0: train loss 0.987092, train error 0.465\n",
      "\tstep 1000: train loss 0.514236, train error 0.205\n",
      "\tstep 2000: train loss 0.539344, train error 0.23\n",
      "\tstep 3000: train loss 0.525026, train error 0.22\n",
      "\tstep 4000: train loss 0.414221, train error 0.18\n",
      "\tstep 5000: train loss 0.490698, train error 0.21\n",
      "\tstep 6000: train loss 0.380224, train error 0.17\n",
      "\tstep 7000: train loss 0.337057, train error 0.125\n",
      "\tstep 8000: train loss 0.303571, train error 0.135\n",
      "\tstep 9000: train loss 0.45559, train error 0.175\n",
      "\tstep 10000: train loss 0.383477, train error 0.14\n",
      "\tstep 11000: train loss 0.46602, train error 0.175\n",
      "\tstep 12000: train loss 0.226437, train error 0.1\n",
      "\tstep 13000: train loss 0.218105, train error 0.075\n",
      "\tstep 14000: train loss 0.23236, train error 0.1\n",
      "\tstep 15000: train loss 0.270004, train error 0.115\n",
      "\tstep 16000: train loss 0.275902, train error 0.105\n",
      "\tstep 17000: train loss 0.266374, train error 0.12\n",
      "\tstep 18000: train loss 0.230734, train error 0.1\n",
      "\tstep 19000: train loss 0.182977, train error 0.065\n",
      "end training features // time elapsed: 771.2545 s\n",
      "test set error: 0.1032 // time elapsed: 0.9494 s\n",
      "classification accuracy: 0.7121\n",
      "\n"
     ]
    }
   ],
   "source": [
    "test_model(model=ConvModelMedium, settings=Triplet_Hinge_Settings, \n",
    "           data=data['cifar10'], feature_samplers=triplet_samplers['cifar10'],\n",
    "           classification_samplers=samplers['cifar10'],\n",
    "           num_features=10, num_steps=20000, lr=0.07, keep_prob=0.8, reg=0)"
   ]
  },
  {
   "cell_type": "code",
   "execution_count": 4,
   "metadata": {},
   "outputs": [
    {
     "name": "stdout",
     "output_type": "stream",
     "text": [
      "begin training features // num_features: 10, lr: 0.08, reg: 0\n",
      "\tstep 0: train loss 32.3909, train error 0.53\n",
      "\tstep 1000: train loss 0.741538, train error 0.36\n",
      "\tstep 2000: train loss 0.523078, train error 0.24\n",
      "\tstep 3000: train loss 0.435838, train error 0.2\n",
      "\tstep 4000: train loss 0.397323, train error 0.17\n",
      "\tstep 5000: train loss 0.428458, train error 0.185\n",
      "\tstep 6000: train loss 0.364371, train error 0.175\n",
      "\tstep 7000: train loss 0.385899, train error 0.18\n",
      "\tstep 8000: train loss 0.30985, train error 0.105\n",
      "\tstep 9000: train loss 0.363459, train error 0.18\n",
      "\tstep 10000: train loss 0.300627, train error 0.1\n",
      "\tstep 11000: train loss 0.363923, train error 0.15\n",
      "\tstep 12000: train loss 0.274563, train error 0.115\n",
      "\tstep 13000: train loss 0.275265, train error 0.11\n",
      "\tstep 14000: train loss 0.282712, train error 0.125\n",
      "\tstep 15000: train loss 0.261695, train error 0.1\n",
      "\tstep 16000: train loss 0.258976, train error 0.115\n",
      "\tstep 17000: train loss 0.194663, train error 0.065\n",
      "\tstep 18000: train loss 0.277359, train error 0.115\n",
      "\tstep 19000: train loss 0.170863, train error 0.06\n",
      "end training features // time elapsed: 755.1407 s\n",
      "test set error: 0.1062 // time elapsed: 0.9320 s\n",
      "classification accuracy: 0.7082\n",
      "\n"
     ]
    }
   ],
   "source": [
    "test_model(model=ConvModelMedium, settings=Triplet_Hinge_Settings, \n",
    "           data=data['cifar10'], feature_samplers=triplet_samplers['cifar10'],\n",
    "           classification_samplers=samplers['cifar10'],\n",
    "           num_features=10, num_steps=20000, lr=0.08, keep_prob=0.8, reg=0)"
   ]
  },
  {
   "cell_type": "code",
   "execution_count": 5,
   "metadata": {},
   "outputs": [
    {
     "name": "stdout",
     "output_type": "stream",
     "text": [
      "begin training features // num_features: 40, lr: 0.06, reg: 0\n",
      "\tstep 0: train loss 0.973856, train error 0.445\n",
      "\tstep 1000: train loss 0.752369, train error 0.325\n",
      "\tstep 2000: train loss 0.640358, train error 0.29\n",
      "\tstep 3000: train loss 0.490557, train error 0.21\n",
      "\tstep 4000: train loss 0.524109, train error 0.195\n",
      "\tstep 5000: train loss 0.403861, train error 0.165\n",
      "\tstep 6000: train loss 0.390046, train error 0.145\n",
      "\tstep 7000: train loss 0.469466, train error 0.2\n",
      "\tstep 8000: train loss 0.331546, train error 0.155\n",
      "\tstep 9000: train loss 0.340558, train error 0.145\n",
      "\tstep 10000: train loss 0.363098, train error 0.145\n",
      "\tstep 11000: train loss 0.3749, train error 0.14\n",
      "\tstep 12000: train loss 0.243341, train error 0.1\n",
      "\tstep 13000: train loss 0.24419, train error 0.1\n",
      "\tstep 14000: train loss 0.316556, train error 0.125\n",
      "end training features // time elapsed: 573.8584 s\n",
      "test set error: 0.1306 // time elapsed: 0.7965 s\n",
      "classification accuracy: 0.6765\n",
      "\n"
     ]
    }
   ],
   "source": [
    "test_model(model=ConvModelMedium, settings=Triplet_Hinge_Settings, \n",
    "           data=data['cifar10'], feature_samplers=triplet_samplers['cifar10'],\n",
    "           classification_samplers=samplers['cifar10'],\n",
    "           num_features=40, num_steps=20000, lr=0.06, keep_prob=0.8, reg=0)"
   ]
  },
  {
   "cell_type": "code",
   "execution_count": 4,
   "metadata": {},
   "outputs": [
    {
     "name": "stdout",
     "output_type": "stream",
     "text": [
      "begin training features // num_features: 40, lr: 0.05, reg: 0\n",
      "\tstep 0: train loss 4.37407, train error 0.525\n",
      "\tstep 1000: train loss 0.593437, train error 0.25\n",
      "\tstep 2000: train loss 0.537254, train error 0.225\n",
      "\tstep 3000: train loss 0.692266, train error 0.27\n",
      "\tstep 4000: train loss 0.444745, train error 0.175\n",
      "\tstep 5000: train loss 0.480615, train error 0.2\n",
      "\tstep 6000: train loss 0.546736, train error 0.23\n",
      "\tstep 7000: train loss 0.413727, train error 0.17\n",
      "\tstep 8000: train loss 0.433921, train error 0.2\n",
      "\tstep 9000: train loss 0.348098, train error 0.155\n",
      "\tstep 10000: train loss 0.363398, train error 0.135\n",
      "\tstep 11000: train loss 0.309652, train error 0.145\n",
      "\tstep 12000: train loss 0.303834, train error 0.13\n",
      "\tstep 13000: train loss 0.304189, train error 0.125\n",
      "\tstep 14000: train loss 0.337917, train error 0.14\n",
      "\tstep 15000: train loss 0.321549, train error 0.14\n",
      "\tstep 16000: train loss 0.316696, train error 0.13\n",
      "\tstep 17000: train loss 0.258314, train error 0.085\n",
      "\tstep 18000: train loss 0.295046, train error 0.155\n",
      "\tstep 19000: train loss 0.207978, train error 0.08\n",
      "end training features // time elapsed: 765.5736 s\n",
      "test set error: 0.1152 // time elapsed: 0.9265 s\n",
      "classification accuracy: 0.7029\n",
      "\n"
     ]
    }
   ],
   "source": [
    "test_model(model=ConvModelMedium, settings=Triplet_Hinge_Settings, \n",
    "           data=data['cifar10'], feature_samplers=triplet_samplers['cifar10'],\n",
    "           classification_samplers=samplers['cifar10'],\n",
    "           num_features=40, num_steps=20000, lr=0.05, keep_prob=0.8, reg=0)"
   ]
  },
  {
   "cell_type": "code",
   "execution_count": 5,
   "metadata": {},
   "outputs": [
    {
     "name": "stdout",
     "output_type": "stream",
     "text": [
      "begin training features // num_features: 40, lr: 0.07, reg: 0\n",
      "\tstep 0: train loss 20.7745, train error 0.495\n",
      "\tstep 1000: train loss 0.617854, train error 0.245\n",
      "\tstep 2000: train loss 0.486558, train error 0.2\n",
      "\tstep 3000: train loss 0.540014, train error 0.205\n",
      "\tstep 4000: train loss 0.399299, train error 0.16\n",
      "\tstep 5000: train loss 0.454911, train error 0.195\n",
      "\tstep 6000: train loss 0.524553, train error 0.23\n",
      "\tstep 7000: train loss 0.348629, train error 0.135\n",
      "\tstep 8000: train loss 0.312973, train error 0.115\n",
      "\tstep 9000: train loss 0.294735, train error 0.14\n",
      "\tstep 10000: train loss 0.268463, train error 0.115\n",
      "\tstep 11000: train loss 0.36601, train error 0.14\n",
      "\tstep 12000: train loss 0.329385, train error 0.12\n",
      "\tstep 13000: train loss 0.292969, train error 0.12\n",
      "\tstep 14000: train loss 0.274964, train error 0.105\n",
      "\tstep 15000: train loss 0.215314, train error 0.09\n",
      "\tstep 16000: train loss 0.296537, train error 0.12\n",
      "\tstep 17000: train loss 0.170805, train error 0.035\n",
      "\tstep 18000: train loss 0.191181, train error 0.08\n",
      "\tstep 19000: train loss 0.224285, train error 0.08\n",
      "end training features // time elapsed: 759.4444 s\n",
      "test set error: 0.1226 // time elapsed: 0.7510 s\n",
      "classification accuracy: 0.7206\n",
      "\n"
     ]
    }
   ],
   "source": [
    "test_model(model=ConvModelMedium, settings=Triplet_Hinge_Settings, \n",
    "           data=data['cifar10'], feature_samplers=triplet_samplers['cifar10'],\n",
    "           classification_samplers=samplers['cifar10'],\n",
    "           num_features=40, num_steps=20000, lr=0.07, keep_prob=0.8, reg=0)"
   ]
  },
  {
   "cell_type": "code",
   "execution_count": 4,
   "metadata": {},
   "outputs": [
    {
     "name": "stdout",
     "output_type": "stream",
     "text": [
      "begin training features // num_features: 40, lr: 0.09, reg: 0\n",
      "\tstep 0: train loss 286.387, train error 0.515\n",
      "\tstep 1000: train loss 0.635977, train error 0.28\n",
      "\tstep 2000: train loss 0.533994, train error 0.255\n",
      "\tstep 3000: train loss 0.563628, train error 0.26\n",
      "\tstep 4000: train loss 0.445742, train error 0.2\n",
      "\tstep 5000: train loss 0.409173, train error 0.175\n",
      "\tstep 6000: train loss 0.506018, train error 0.205\n",
      "\tstep 7000: train loss 0.480688, train error 0.21\n",
      "\tstep 8000: train loss 0.373947, train error 0.175\n",
      "\tstep 9000: train loss 0.335161, train error 0.15\n",
      "\tstep 10000: train loss 0.31254, train error 0.13\n",
      "\tstep 11000: train loss 0.393818, train error 0.155\n",
      "\tstep 12000: train loss 0.305246, train error 0.135\n",
      "\tstep 13000: train loss 0.336285, train error 0.11\n",
      "\tstep 14000: train loss 0.246613, train error 0.08\n",
      "\tstep 15000: train loss 0.270262, train error 0.125\n",
      "\tstep 16000: train loss 0.314392, train error 0.14\n",
      "\tstep 17000: train loss 0.334245, train error 0.145\n",
      "\tstep 18000: train loss 0.221124, train error 0.08\n",
      "\tstep 19000: train loss 0.249122, train error 0.105\n",
      "end training features // time elapsed: 761.6735 s\n",
      "test set error: 0.1142 // time elapsed: 0.9345 s\n",
      "classification accuracy: 0.7130\n",
      "\n"
     ]
    }
   ],
   "source": [
    "test_model(model=ConvModelMedium, settings=Triplet_Hinge_Settings, \n",
    "           data=data['cifar10'], feature_samplers=triplet_samplers['cifar10'],\n",
    "           classification_samplers=samplers['cifar10'],\n",
    "           num_features=40, num_steps=20000, lr=0.09, keep_prob=0.8, reg=0)"
   ]
  },
  {
   "cell_type": "code",
   "execution_count": 5,
   "metadata": {},
   "outputs": [
    {
     "name": "stdout",
     "output_type": "stream",
     "text": [
      "begin training features // num_features: 40, lr: 0.06, reg: 0\n",
      "\tstep 0: train loss 15.5351, train error 0.455\n",
      "\tstep 1000: train loss 0.719534, train error 0.265\n",
      "\tstep 2000: train loss 0.521983, train error 0.21\n",
      "\tstep 3000: train loss 0.496413, train error 0.205\n",
      "\tstep 4000: train loss 0.388437, train error 0.14\n",
      "\tstep 5000: train loss 0.40976, train error 0.195\n",
      "\tstep 6000: train loss 0.436177, train error 0.185\n",
      "\tstep 7000: train loss 0.473556, train error 0.195\n",
      "\tstep 8000: train loss 0.335537, train error 0.165\n",
      "\tstep 9000: train loss 0.301007, train error 0.125\n",
      "\tstep 10000: train loss 0.407019, train error 0.175\n",
      "\tstep 11000: train loss 0.257525, train error 0.11\n",
      "\tstep 12000: train loss 0.346975, train error 0.135\n",
      "\tstep 13000: train loss 0.298068, train error 0.115\n",
      "\tstep 14000: train loss 0.292826, train error 0.12\n",
      "\tstep 15000: train loss 0.324778, train error 0.14\n",
      "\tstep 16000: train loss 0.192168, train error 0.075\n",
      "\tstep 17000: train loss 0.300938, train error 0.11\n",
      "\tstep 18000: train loss 0.232908, train error 0.075\n",
      "\tstep 19000: train loss 0.206554, train error 0.065\n",
      "end training features // time elapsed: 758.1108 s\n",
      "test set error: 0.1256 // time elapsed: 0.7487 s\n",
      "classification accuracy: 0.7018\n",
      "\n"
     ]
    }
   ],
   "source": [
    "test_model(model=ConvModelMedium, settings=Triplet_Hinge_Settings, \n",
    "           data=data['cifar10'], feature_samplers=triplet_samplers['cifar10'],\n",
    "           classification_samplers=samplers['cifar10'],\n",
    "           num_features=40, num_steps=20000, lr=0.06, keep_prob=0.8, reg=0)"
   ]
  },
  {
   "cell_type": "code",
   "execution_count": 6,
   "metadata": {},
   "outputs": [
    {
     "name": "stdout",
     "output_type": "stream",
     "text": [
      "begin training features // num_features: 40, lr: 0.06, reg: 0\n",
      "\tstep 0: train loss 30.0057, train error 0.505\n",
      "\tstep 1000: train loss 0.633051, train error 0.28\n",
      "\tstep 2000: train loss 0.567546, train error 0.23\n",
      "\tstep 3000: train loss 0.473136, train error 0.2\n",
      "\tstep 4000: train loss 0.473553, train error 0.225\n",
      "\tstep 5000: train loss 0.469023, train error 0.155\n",
      "\tstep 6000: train loss 0.394022, train error 0.19\n",
      "\tstep 7000: train loss 0.436986, train error 0.165\n",
      "\tstep 8000: train loss 0.513546, train error 0.21\n",
      "\tstep 9000: train loss 0.371871, train error 0.16\n",
      "\tstep 10000: train loss 0.366107, train error 0.15\n",
      "\tstep 11000: train loss 0.393364, train error 0.18\n",
      "\tstep 12000: train loss 0.364603, train error 0.15\n",
      "\tstep 13000: train loss 0.363729, train error 0.16\n",
      "\tstep 14000: train loss 0.292048, train error 0.115\n",
      "\tstep 15000: train loss 0.327261, train error 0.145\n",
      "\tstep 16000: train loss 0.347884, train error 0.125\n",
      "\tstep 17000: train loss 0.218298, train error 0.1\n",
      "\tstep 18000: train loss 0.290394, train error 0.115\n",
      "\tstep 19000: train loss 0.252547, train error 0.095\n",
      "end training features // time elapsed: 757.2789 s\n",
      "test set error: 0.1256 // time elapsed: 0.7559 s\n",
      "classification accuracy: 0.6886\n",
      "\n"
     ]
    }
   ],
   "source": [
    "test_model(model=ConvModelMedium, settings=Triplet_Hinge_Settings, \n",
    "           data=data['cifar10'], feature_samplers=triplet_samplers['cifar10'],\n",
    "           classification_samplers=samplers['cifar10'],\n",
    "           num_features=40, num_steps=20000, lr=0.06, keep_prob=0.75, reg=0)"
   ]
  },
  {
   "cell_type": "code",
   "execution_count": null,
   "metadata": {},
   "outputs": [
    {
     "name": "stdout",
     "output_type": "stream",
     "text": [
      "begin training features // num_features: 20, lr: 0.06, reg: 0\n",
      "\tstep 0: train loss 3.57412, train error 0.47\n",
      "\tstep 1000: train loss 0.738974, train error 0.335\n",
      "\tstep 2000: train loss 0.55301, train error 0.235\n",
      "\tstep 3000: train loss 0.502972, train error 0.21\n",
      "\tstep 4000: train loss 0.398825, train error 0.185\n",
      "\tstep 5000: train loss 0.511164, train error 0.2\n",
      "\tstep 6000: train loss 0.413415, train error 0.16\n",
      "\tstep 7000: train loss 0.455252, train error 0.2\n",
      "\tstep 8000: train loss 0.503895, train error 0.22\n",
      "\tstep 9000: train loss 0.401057, train error 0.16\n"
     ]
    }
   ],
   "source": [
    "test_model(model=ConvModelMedium, settings=Triplet_Hinge_Settings, \n",
    "           data=data['cifar10'], feature_samplers=triplet_samplers['cifar10'],\n",
    "           classification_samplers=samplers['cifar10'],\n",
    "           num_features=20, num_steps=20000, lr=0.06, keep_prob=0.75, reg=0)"
   ]
  },
  {
   "cell_type": "code",
   "execution_count": null,
   "metadata": {
    "collapsed": true
   },
   "outputs": [],
   "source": []
  }
 ],
 "metadata": {
  "kernelspec": {
   "display_name": "Python 3",
   "language": "python",
   "name": "python3"
  },
  "language_info": {
   "codemirror_mode": {
    "name": "ipython",
    "version": 3
   },
   "file_extension": ".py",
   "mimetype": "text/x-python",
   "name": "python",
   "nbconvert_exporter": "python",
   "pygments_lexer": "ipython3",
   "version": "3.6.3"
  }
 },
 "nbformat": 4,
 "nbformat_minor": 2
}
