{
 "cells": [
  {
   "cell_type": "code",
   "execution_count": 1,
   "metadata": {},
   "outputs": [
    {
     "name": "stderr",
     "output_type": "stream",
     "text": [
      "/home/dqi/.conda/envs/py36/lib/python3.6/importlib/_bootstrap.py:219: RuntimeWarning: compiletime version 3.5 of module 'tensorflow.python.framework.fast_tensor_util' does not match runtime version 3.6\n",
      "  return f(*args, **kwds)\n",
      "/home/dqi/.conda/envs/py36/lib/python3.6/site-packages/h5py/__init__.py:34: FutureWarning: Conversion of the second argument of issubdtype from `float` to `np.floating` is deprecated. In future, it will be treated as `np.float64 == np.dtype(float).type`.\n",
      "  from ._conv import register_converters as _register_converters\n",
      "Using TensorFlow backend.\n"
     ]
    }
   ],
   "source": [
    "%load_ext autoreload\n",
    "%autoreload 2\n",
    "import numpy as np\n",
    "import tensorflow as tf\n",
    "from features.settings import Baseline_Settings, Pair_Hinge_Settings, Pair_Log_Settings, Triplet_Hinge_Settings, Triplet_Log_Settings\n",
    "from features.models import ConvModelSmall, ConvModelMedium, ConvModelLarge\n",
    "from features.models import GCNNModelSmall, GCNNModelMedium, GCNNModelLarge\n",
    "from classes.models import LinearClassifier\n",
    "from datasets import load_mnist_datasets, load_cifar10\n",
    "import time"
   ]
  },
  {
   "cell_type": "code",
   "execution_count": 2,
   "metadata": {},
   "outputs": [
    {
     "name": "stdout",
     "output_type": "stream",
     "text": [
      "MNIST loaded in 18 seconds\n",
      "Fashion MNIST loaded in 35 seconds\n"
     ]
    }
   ],
   "source": [
    "data, samplers, pair_samplers, triplet_samplers = load_mnist_datasets(augment=True)"
   ]
  },
  {
   "cell_type": "code",
   "execution_count": 3,
   "metadata": {
    "collapsed": true
   },
   "outputs": [],
   "source": [
    "def test_model(feature_model, settings, data, num_features, num_classes, feature_samplers, classification_samplers,\n",
    "               f_num_steps, f_lr, f_keep_prob, f_reg, c_num_steps, c_lr, c_reg):\n",
    "    \n",
    "    tf.reset_default_graph()\n",
    "    \n",
    "    f_train, f_test = feature_samplers\n",
    "    c_train, c_test = classification_samplers\n",
    "    (x_train, y_train), (x_valid, y_valid), (x_test, y_test) = data\n",
    "    _, H, W, C = x_train.shape\n",
    "    \n",
    "    x = tf.placeholder(tf.float32, shape=[None, H, W, C])\n",
    "    y = tf.placeholder(tf.int64, shape=[None])    \n",
    "    dropout = tf.placeholder(tf.float32)\n",
    "    training = tf.placeholder(tf.bool)\n",
    "    f_model = feature_model(x=x, y=y, settings=settings, num_chan=C, num_features=num_features, \n",
    "              lr=f_lr, reg=f_reg, dropout=dropout, training=training)\n",
    "    \n",
    "    features = tf.placeholder(tf.float32, shape=[None, num_features])\n",
    "    c_model = LinearClassifier(x=features, y=y, num_features=num_features, num_classes=num_features, \n",
    "                               lr=c_lr, reg=c_reg)\n",
    "    \n",
    "    with tf.Session() as sess:\n",
    "        sess.run(tf.global_variables_initializer())\n",
    "        \n",
    "        print(\"begin training features // num_features: %g, lr: %g, reg: %g, dropout: %g\" %(num_features, f_lr, f_reg, f_keep_prob))\n",
    "        train_time = time.time()\n",
    "        for step in range(f_num_steps):        \n",
    "            x_, y_ = f_train.sample(700)\n",
    "            sess.run(f_model.optimize, feed_dict={x:x_, y:y_, dropout:f_keep_prob, training:True})     \n",
    "            if step % 5000 == 0:\n",
    "                train_loss, train_acc = sess.run([f_model.loss, f_model.acc], \n",
    "                                                 feed_dict={x:x_, y:y_, dropout:1.0, training:False})\n",
    "                print(\"\\tstep %d: train loss %g, train error %g\"%(step, train_loss, 1 - train_acc))  \n",
    "        train_time = time.time() - train_time\n",
    "        print(\"end training features // time elapsed: %.4f s\"%(train_time))\n",
    "        \n",
    "        eval_test_time = time.time()\n",
    "        x_, y_ = f_test.sample(1000)\n",
    "        test_error = 1 - sess.run(f_model.acc, feed_dict={x:x_, y:y_, dropout:1.0, training:False})\n",
    "        eval_test_time = time.time() - eval_test_time\n",
    "        print(\"test set error: %.4f // time elapsed: %.4f s\"%(test_error, eval_test_time))\n",
    "        \n",
    "        print(\"begin training classifier\")\n",
    "        train_time = time.time()\n",
    "        for step in range(c_num_steps):        \n",
    "            x_, y_ = c_train.sample(700)\n",
    "            features_ = sess.run(f_model.features, feed_dict={x:x_, dropout:1.0, training:False})\n",
    "            sess.run(c_model.optimize, feed_dict={features:features_, y:y_, x:x_, dropout:1.0, training:False})\n",
    "            if step % 5000 == 0:\n",
    "                train_loss, train_acc = sess.run([c_model.loss, c_model.acc], feed_dict={features:features_, y:y_})\n",
    "                print(\"\\tstep %d: train loss %g, train error %g\"%(step, train_loss, 1 - train_acc))  \n",
    "        train_time = time.time() - train_time\n",
    "        print(\"end training classifier // time elapsed: %.4f s\"%(train_time))\n",
    "        \n",
    "        eval_test_time = time.time()\n",
    "        features_ = sess.run(f_model.features, feed_dict={x:x_valid, dropout:1.0, training:False})\n",
    "        test_error = 1 - sess.run(c_model.acc, feed_dict={features:features_, y:y_valid})\n",
    "        eval_test_time = time.time() - eval_test_time\n",
    "        print(\"validation set error: %.4f // time elapsed: %.4f s\"%(test_error, eval_test_time))\n",
    "        \n",
    "        eval_test_time = time.time()\n",
    "        features_ = sess.run(f_model.features, feed_dict={x:x_test, dropout:1.0, training:False})\n",
    "        test_error = 1 - sess.run(c_model.acc, feed_dict={features:features_, y:y_test})\n",
    "        eval_test_time = time.time() - eval_test_time\n",
    "        print(\"test set error: %.4f // time elapsed: %.4f s\"%(test_error, eval_test_time))"
   ]
  },
  {
   "cell_type": "markdown",
   "metadata": {},
   "source": [
    "# MNIST"
   ]
  },
  {
   "cell_type": "code",
   "execution_count": 9,
   "metadata": {},
   "outputs": [
    {
     "name": "stdout",
     "output_type": "stream",
     "text": [
      "begin training features // num_features: 10, lr: 0.07, reg: 0.001, dropout: 0.8\n",
      "\tstep 0: train loss 2.5844, train error 0.938571\n",
      "\tstep 5000: train loss 0.074062, train error 0.00857145\n",
      "\tstep 10000: train loss 0.0418246, train error 0.00428569\n",
      "\tstep 15000: train loss 0.0426467, train error 0.00142854\n",
      "\tstep 20000: train loss 0.0287257, train error 0\n",
      "\tstep 25000: train loss 0.0292975, train error 0\n",
      "\tstep 30000: train loss 0.0296211, train error 0.00142854\n",
      "\tstep 35000: train loss 0.0286408, train error 0.00142854\n",
      "\tstep 40000: train loss 0.0297514, train error 0.00285715\n",
      "\tstep 45000: train loss 0.0268356, train error 0\n",
      "end training features // time elapsed: 531.8733 s\n",
      "test set error: 0.0020 // time elapsed: 0.0313 s\n",
      "begin training classifier\n",
      "\tstep 0: train loss 4.10524, train error 0.665714\n",
      "\tstep 5000: train loss 0.0145175, train error 0.00285715\n",
      "\tstep 10000: train loss 0.0129495, train error 0.00428569\n",
      "end training classifier // time elapsed: 130.1927 s\n",
      "validation set error: 0.0077 // time elapsed: 0.0334 s\n",
      "test set error: 0.0076 // time elapsed: 0.0354 s\n"
     ]
    }
   ],
   "source": [
    "test_model(feature_model=ConvModelSmall, settings=Baseline_Settings, num_features=10, num_classes=10,\n",
    "           data=data['mnist'], feature_samplers=samplers['mnist'], classification_samplers=samplers['mnist'],           \n",
    "           f_num_steps=50000, f_lr=0.07, f_keep_prob=0.8, f_reg=0.001, \n",
    "           c_num_steps=15000, c_lr=0.02, c_reg=0.001)"
   ]
  },
  {
   "cell_type": "code",
   "execution_count": 6,
   "metadata": {
    "collapsed": true
   },
   "outputs": [
    {
     "name": "stdout",
     "output_type": "stream",
     "text": [
      "begin training features // num_features: 10, lr: 0.07, reg: 0.001, dropout: 0.8\n",
      "\tstep 0: train loss 1.22948, train error 0.48\n",
      "\tstep 5000: train loss 0.0383013, train error 0\n",
      "\tstep 10000: train loss 0.0156607, train error 0\n",
      "\tstep 15000: train loss 0.015407, train error 0.00142854\n",
      "\tstep 20000: train loss 0.0132827, train error 0\n",
      "\tstep 25000: train loss 0.0132661, train error 0\n",
      "\tstep 30000: train loss 0.0178738, train error 0.00142854\n",
      "\tstep 35000: train loss 0.0144385, train error 0.00142854\n",
      "\tstep 40000: train loss 0.0114285, train error 0\n",
      "\tstep 45000: train loss 0.0109364, train error 0\n",
      "end training features // time elapsed: 1444.4424 s\n",
      "test set error: 0.0010 // time elapsed: 0.0544 s\n",
      "begin training classifier\n",
      "\tstep 0: train loss 2.69781, train error 0.872857\n",
      "\tstep 5000: train loss 0.0695118, train error 0.0057143\n",
      "\tstep 10000: train loss 0.0475809, train error 0.00285715\n",
      "\tstep 15000: train loss 0.0643878, train error 0.00999999\n",
      "end training classifier // time elapsed: 173.2038 s\n",
      "validation set error: 0.0125 // time elapsed: 0.0384 s\n",
      "test set error: 0.0103 // time elapsed: 0.0435 s\n"
     ]
    }
   ],
   "source": [
    "test_model(feature_model=ConvModelSmall, settings=Triplet_Hinge_Settings, num_features=10, num_classes=10,\n",
    "           data=data['mnist'], feature_samplers=triplet_samplers['mnist'], classification_samplers=samplers['mnist'],           \n",
    "           f_num_steps=50000, f_lr=0.07, f_keep_prob=0.8, f_reg=0.001, \n",
    "           c_num_steps=20000, c_lr=0.005, c_reg=0.001)"
   ]
  },
  {
   "cell_type": "code",
   "execution_count": 5,
   "metadata": {
    "collapsed": true
   },
   "outputs": [
    {
     "name": "stdout",
     "output_type": "stream",
     "text": [
      "begin training features // num_features: 10, lr: 0.04, reg: 0.001, dropout: 0.8\n",
      "\tstep 0: train loss 2.79066, train error 0.931429\n",
      "\tstep 5000: train loss 0.169144, train error 0.00142854\n",
      "\tstep 10000: train loss 0.0591267, train error 0\n",
      "\tstep 15000: train loss 0.0287463, train error 0\n",
      "\tstep 20000: train loss 0.0199411, train error 0\n",
      "\tstep 25000: train loss 0.0171866, train error 0\n",
      "\tstep 30000: train loss 0.0155183, train error 0\n",
      "\tstep 35000: train loss 0.0146768, train error 0\n",
      "\tstep 40000: train loss 0.0143286, train error 0\n",
      "\tstep 45000: train loss 0.0136115, train error 0\n",
      "\tstep 50000: train loss 0.0131566, train error 0\n",
      "\tstep 55000: train loss 0.0127228, train error 0\n",
      "end training features // time elapsed: 2341.1535 s\n",
      "test set error: 0.0000 // time elapsed: 0.0467 s\n",
      "begin training classifier\n",
      "\tstep 0: train loss 6.2264, train error 0.921429\n",
      "\tstep 5000: train loss 0.00818373, train error 0\n",
      "\tstep 10000: train loss 0.00659444, train error 0\n",
      "\tstep 15000: train loss 0.00573866, train error 0\n",
      "\tstep 20000: train loss 0.00628374, train error 0\n",
      "\tstep 25000: train loss 0.00555228, train error 0\n",
      "end training classifier // time elapsed: 805.4894 s\n",
      "validation set error: 0.0055 // time elapsed: 0.1097 s\n",
      "test set error: 0.0052 // time elapsed: 0.1597 s\n"
     ]
    }
   ],
   "source": [
    "test_model(feature_model=GCNNModelSmall, settings=Baseline_Settings, num_features=10, num_classes=10,\n",
    "           data=data['mnist'], feature_samplers=samplers['mnist'], classification_samplers=samplers['mnist'],           \n",
    "           f_num_steps=60000, f_lr=0.04, f_keep_prob=0.8, f_reg=0.001, \n",
    "           c_num_steps=30000, c_lr=0.005, c_reg=0.001)"
   ]
  },
  {
   "cell_type": "code",
   "execution_count": 4,
   "metadata": {
    "collapsed": true
   },
   "outputs": [
    {
     "name": "stdout",
     "output_type": "stream",
     "text": [
      "begin training features // num_features: 10, lr: 0.04, reg: 0.001, dropout: 0.8\n",
      "\tstep 0: train loss 1.49302, train error 0.427143\n",
      "\tstep 5000: train loss 0.155671, train error 0.00142854\n",
      "\tstep 10000: train loss 0.0482894, train error 0\n",
      "\tstep 15000: train loss 0.0187268, train error 0\n",
      "\tstep 20000: train loss 0.0104779, train error 0\n",
      "\tstep 25000: train loss 0.00810195, train error 0\n",
      "\tstep 30000: train loss 0.00734568, train error 0\n",
      "\tstep 35000: train loss 0.00700255, train error 0\n",
      "\tstep 40000: train loss 0.00678346, train error 0\n",
      "\tstep 45000: train loss 0.00663847, train error 0\n",
      "\tstep 50000: train loss 0.00653485, train error 0\n",
      "\tstep 55000: train loss 0.00787598, train error 0\n",
      "end training features // time elapsed: 6788.8070 s\n",
      "test set error: 0.0010 // time elapsed: 0.1521 s\n",
      "begin training classifier\n",
      "\tstep 0: train loss 2.6431, train error 0.974286\n",
      "\tstep 5000: train loss 0.0577013, train error 0.00428569\n",
      "\tstep 10000: train loss 0.0428656, train error 0.00428569\n",
      "\tstep 15000: train loss 0.0321102, train error 0.00142854\n",
      "\tstep 20000: train loss 0.0237406, train error 0\n",
      "\tstep 25000: train loss 0.0279513, train error 0.00142854\n",
      "end training classifier // time elapsed: 877.3138 s\n",
      "validation set error: 0.0070 // time elapsed: 0.2047 s\n",
      "test set error: 0.0057 // time elapsed: 0.3189 s\n"
     ]
    }
   ],
   "source": [
    "test_model(feature_model=GCNNModelSmall, settings=Triplet_Hinge_Settings, num_features=10, num_classes=10,\n",
    "           data=data['mnist'], feature_samplers=triplet_samplers['mnist'], classification_samplers=samplers['mnist'],           \n",
    "           f_num_steps=60000, f_lr=0.04, f_keep_prob=0.8, f_reg=0.001, \n",
    "           c_num_steps=30000, c_lr=0.005, c_reg=0.001)"
   ]
  },
  {
   "cell_type": "markdown",
   "metadata": {},
   "source": [
    "# Fashion MNIST"
   ]
  },
  {
   "cell_type": "code",
   "execution_count": 13,
   "metadata": {
    "collapsed": true
   },
   "outputs": [
    {
     "name": "stdout",
     "output_type": "stream",
     "text": [
      "begin training features // num_features: 10, lr: 0.02, reg: 0.001, dropout: 0.8\n",
      "\tstep 0: train loss 2.84762, train error 0.898095\n",
      "\tstep 5000: train loss 0.531401, train error 0.0957143\n",
      "\tstep 10000: train loss 0.291648, train error 0.0457143\n",
      "\tstep 15000: train loss 0.13684, train error 0.00761902\n",
      "\tstep 20000: train loss 0.0928604, train error 0.00428569\n",
      "\tstep 25000: train loss 0.0619953, train error 0\n",
      "\tstep 30000: train loss 0.0510767, train error 0\n",
      "\tstep 35000: train loss 0.0449507, train error 0\n",
      "\tstep 40000: train loss 0.0413621, train error 0\n",
      "\tstep 45000: train loss 0.0384971, train error 0\n",
      "\tstep 50000: train loss 0.0364831, train error 0\n",
      "\tstep 55000: train loss 0.0346591, train error 0\n",
      "end training features // time elapsed: 6825.6095 s\n",
      "test set error: 0.0000 // time elapsed: 0.1499 s\n",
      "begin training classifier\n",
      "\tstep 0: train loss 5.4441, train error 0.855714\n",
      "\tstep 5000: train loss 0.00909003, train error 0\n",
      "\tstep 10000: train loss 0.00704249, train error 0\n",
      "\tstep 15000: train loss 0.00626098, train error 0\n",
      "\tstep 20000: train loss 0.00595092, train error 0\n",
      "\tstep 25000: train loss 0.00574985, train error 0\n",
      "end training classifier // time elapsed: 826.4435 s\n",
      "validation set error: 0.0567 // time elapsed: 0.2076 s\n",
      "test set error: 0.0638 // time elapsed: 0.3216 s\n"
     ]
    }
   ],
   "source": [
    "test_model(feature_model=GCNNModelSmall, settings=Baseline_Settings, num_features=10, num_classes=10,\n",
    "           data=data['fashion_mnist'], feature_samplers=triplet_samplers['fashion_mnist'], classification_samplers=samplers['fashion_mnist'],           \n",
    "           f_num_steps=60000, f_lr=0.02, f_keep_prob=0.8, f_reg=0.001, \n",
    "           c_num_steps=30000, c_lr=0.005, c_reg=0.001)"
   ]
  },
  {
   "cell_type": "code",
   "execution_count": 4,
   "metadata": {
    "collapsed": true
   },
   "outputs": [
    {
     "name": "stdout",
     "output_type": "stream",
     "text": [
      "begin training features // num_features: 10, lr: 0.02, reg: 0.001, dropout: 0.8\n",
      "\tstep 0: train loss 1.51831, train error 0.475714\n",
      "\tstep 5000: train loss 0.369853, train error 0.0357143\n",
      "\tstep 10000: train loss 0.227701, train error 0.0271429\n",
      "\tstep 15000: train loss 0.147775, train error 0.0171428\n",
      "\tstep 20000: train loss 0.0928849, train error 0.0114286\n",
      "\tstep 25000: train loss 0.0671487, train error 0.00714284\n",
      "\tstep 30000: train loss 0.0490085, train error 0.0057143\n",
      "\tstep 35000: train loss 0.0472363, train error 0.0057143\n",
      "\tstep 40000: train loss 0.032361, train error 0.00285715\n",
      "\tstep 45000: train loss 0.0367077, train error 0.00285715\n",
      "\tstep 50000: train loss 0.0407492, train error 0.00142854\n",
      "\tstep 55000: train loss 0.0287412, train error 0\n",
      "end training features // time elapsed: 6599.2968 s\n",
      "test set error: 0.0090 // time elapsed: 0.1349 s\n",
      "begin training classifier\n",
      "\tstep 0: train loss 2.8405, train error 0.884286\n",
      "\tstep 5000: train loss 0.150761, train error 0.0385714\n",
      "\tstep 10000: train loss 0.107452, train error 0.0285714\n",
      "\tstep 15000: train loss 0.0955203, train error 0.0242857\n",
      "\tstep 20000: train loss 0.112748, train error 0.0328571\n",
      "\tstep 25000: train loss 0.0891107, train error 0.0242857\n",
      "end training classifier // time elapsed: 801.1911 s\n",
      "validation set error: 0.0645 // time elapsed: 0.1956 s\n",
      "test set error: 0.0725 // time elapsed: 0.3114 s\n"
     ]
    }
   ],
   "source": [
    "test_model(feature_model=GCNNModelSmall, settings=Triplet_Hinge_Settings, num_features=10, num_classes=10,\n",
    "           data=data['fashion_mnist'], feature_samplers=triplet_samplers['fashion_mnist'], classification_samplers=samplers['fashion_mnist'],           \n",
    "           f_num_steps=60000, f_lr=0.02, f_keep_prob=0.8, f_reg=0.001, \n",
    "           c_num_steps=30000, c_lr=0.005, c_reg=0.001)"
   ]
  },
  {
   "cell_type": "code",
   "execution_count": 5,
   "metadata": {
    "collapsed": true
   },
   "outputs": [
    {
     "name": "stdout",
     "output_type": "stream",
     "text": [
      "begin training features // num_features: 10, lr: 0.04, reg: 0.001, dropout: 0.6\n",
      "\tstep 0: train loss 1.96235, train error 0.455\n",
      "\tstep 5000: train loss 0.443462, train error 0.045\n",
      "\tstep 10000: train loss 0.206735, train error 0.035\n",
      "\tstep 15000: train loss 0.217126, train error 0.065\n",
      "\tstep 20000: train loss 0.164178, train error 0.03\n",
      "\tstep 25000: train loss 0.0946572, train error 0.015\n",
      "\tstep 30000: train loss 0.0797289, train error 0.015\n",
      "\tstep 35000: train loss 0.0894754, train error 0.015\n",
      "\tstep 40000: train loss 0.12505, train error 0.045\n",
      "\tstep 45000: train loss 0.104694, train error 0.025\n",
      "\tstep 50000: train loss 0.0793989, train error 0.005\n",
      "\tstep 55000: train loss 0.0997846, train error 0.02\n",
      "end training features // time elapsed: 2244.5337 s\n",
      "test set error: 0.0340 // time elapsed: 0.0934 s\n",
      "begin training classifier\n",
      "\tstep 0: train loss 2.64429, train error 0.995\n",
      "\tstep 2000: train loss 0.383787, train error 0.11\n",
      "\tstep 4000: train loss 0.334439, train error 0.095\n",
      "\tstep 6000: train loss 0.327873, train error 0.11\n",
      "\tstep 8000: train loss 0.355805, train error 0.115\n",
      "\tstep 10000: train loss 0.375489, train error 0.155\n",
      "\tstep 12000: train loss 0.202846, train error 0.05\n",
      "\tstep 14000: train loss 0.247676, train error 0.07\n",
      "\tstep 16000: train loss 0.348123, train error 0.12\n",
      "\tstep 18000: train loss 0.316413, train error 0.1\n",
      "\tstep 20000: train loss 0.275931, train error 0.085\n",
      "\tstep 22000: train loss 0.240588, train error 0.065\n",
      "\tstep 24000: train loss 0.287558, train error 0.1\n",
      "\tstep 26000: train loss 0.261384, train error 0.09\n",
      "\tstep 28000: train loss 0.299699, train error 0.085\n",
      "end training classifier // time elapsed: 334.3469 s\n",
      "validation set error: 0.0848 // time elapsed: 0.1199 s\n",
      "test set error: 0.0932 // time elapsed: 0.1750 s\n"
     ]
    }
   ],
   "source": [
    "test_model(feature_model=GCNNModelMedium, settings=Triplet_Hinge_Settings, num_features=10, num_classes=10,\n",
    "           data=data['fashion_mnist'], feature_samplers=triplet_samplers['fashion_mnist'], classification_samplers=samplers['fashion_mnist'],           \n",
    "           f_num_steps=60000, f_lr=0.04, f_keep_prob=0.6, f_reg=0.001, \n",
    "           c_num_steps=30000, c_lr=0.01, c_reg=0.001)"
   ]
  },
  {
   "cell_type": "code",
   "execution_count": 6,
   "metadata": {
    "collapsed": true
   },
   "outputs": [
    {
     "name": "stdout",
     "output_type": "stream",
     "text": [
      "begin training features // num_features: 10, lr: 0.04, reg: 0.001, dropout: 0.7\n",
      "\tstep 0: train loss 1.99959, train error 0.504286\n",
      "\tstep 5000: train loss 0.394598, train error 0.0357143\n",
      "\tstep 10000: train loss 0.161082, train error 0.0271429\n",
      "\tstep 15000: train loss 0.107497, train error 0.03\n",
      "\tstep 20000: train loss 0.0648035, train error 0.0142857\n",
      "\tstep 25000: train loss 0.0617023, train error 0.0114286\n",
      "\tstep 30000: train loss 0.0529438, train error 0.00714284\n",
      "\tstep 35000: train loss 0.0467911, train error 0.00285715\n",
      "\tstep 40000: train loss 0.0522277, train error 0.00428569\n",
      "\tstep 45000: train loss 0.0626263, train error 0.00714284\n",
      "end training features // time elapsed: 5948.7038 s\n",
      "test set error: 0.0090 // time elapsed: 0.1406 s\n",
      "begin training classifier\n",
      "\tstep 0: train loss 2.49263, train error 0.922857\n",
      "\tstep 5000: train loss 0.150512, train error 0.0471429\n",
      "\tstep 10000: train loss 0.176452, train error 0.05\n",
      "\tstep 15000: train loss 0.177087, train error 0.0528572\n",
      "\tstep 20000: train loss 0.126776, train error 0.0328571\n",
      "\tstep 25000: train loss 0.163805, train error 0.0557143\n",
      "\tstep 30000: train loss 0.139182, train error 0.0442857\n",
      "\tstep 35000: train loss 0.150153, train error 0.0457143\n",
      "end training classifier // time elapsed: 1160.9931 s\n",
      "validation set error: 0.0703 // time elapsed: 0.2023 s\n",
      "test set error: 0.0740 // time elapsed: 0.3197 s\n"
     ]
    }
   ],
   "source": [
    "test_model(feature_model=GCNNModelMedium, settings=Triplet_Hinge_Settings, num_features=10, num_classes=10,\n",
    "           data=data['fashion_mnist'], feature_samplers=triplet_samplers['fashion_mnist'], classification_samplers=samplers['fashion_mnist'],           \n",
    "           f_num_steps=50000, f_lr=0.04, f_keep_prob=0.7, f_reg=0.001, \n",
    "           c_num_steps=40000, c_lr=0.01, c_reg=0.001)"
   ]
  },
  {
   "cell_type": "code",
   "execution_count": 4,
   "metadata": {
    "collapsed": true
   },
   "outputs": [
    {
     "name": "stdout",
     "output_type": "stream",
     "text": [
      "begin training features // num_features: 10, lr: 0.02, reg: 0.001, dropout: 0.7\n",
      "\tstep 0: train loss 2.02554, train error 0.405714\n",
      "\tstep 5000: train loss 0.701622, train error 0.0628572\n",
      "\tstep 10000: train loss 0.405892, train error 0.04\n",
      "\tstep 15000: train loss 0.26945, train error 0.0428572\n",
      "\tstep 20000: train loss 0.176762, train error 0.0271429\n",
      "\tstep 25000: train loss 0.105332, train error 0.0157143\n",
      "\tstep 30000: train loss 0.0898127, train error 0.0228571\n",
      "\tstep 35000: train loss 0.0651041, train error 0.0114286\n",
      "\tstep 40000: train loss 0.0592828, train error 0.00857145\n",
      "\tstep 45000: train loss 0.0489728, train error 0.0057143\n",
      "\tstep 50000: train loss 0.0471318, train error 0.0057143\n",
      "\tstep 55000: train loss 0.0515147, train error 0.0057143\n",
      "end training features // time elapsed: 7095.2122 s\n",
      "test set error: 0.0120 // time elapsed: 0.1412 s\n",
      "begin training classifier\n",
      "\tstep 0: train loss 2.83233, train error 0.988571\n",
      "\tstep 5000: train loss 0.150757, train error 0.03\n",
      "\tstep 10000: train loss 0.146549, train error 0.0428572\n",
      "\tstep 15000: train loss 0.159412, train error 0.05\n",
      "\tstep 20000: train loss 0.133008, train error 0.0414286\n",
      "\tstep 25000: train loss 0.119982, train error 0.0328571\n",
      "end training classifier // time elapsed: 871.9659 s\n",
      "validation set error: 0.0703 // time elapsed: 0.2046 s\n",
      "test set error: 0.0731 // time elapsed: 0.3175 s\n"
     ]
    }
   ],
   "source": [
    "test_model(feature_model=GCNNModelMedium, settings=Triplet_Hinge_Settings, num_features=10, num_classes=10,\n",
    "           data=data['fashion_mnist'], feature_samplers=triplet_samplers['fashion_mnist'], classification_samplers=samplers['fashion_mnist'],           \n",
    "           f_num_steps=60000, f_lr=0.02, f_keep_prob=0.7, f_reg=0.001, \n",
    "           c_num_steps=30000, c_lr=0.005, c_reg=0.001)"
   ]
  },
  {
   "cell_type": "code",
   "execution_count": null,
   "metadata": {
    "collapsed": true
   },
   "outputs": [],
   "source": []
  }
 ],
 "metadata": {
  "kernelspec": {
   "display_name": "Python 3",
   "language": "python",
   "name": "python3"
  },
  "language_info": {
   "codemirror_mode": {
    "name": "ipython",
    "version": 3
   },
   "file_extension": ".py",
   "mimetype": "text/x-python",
   "name": "python",
   "nbconvert_exporter": "python",
   "pygments_lexer": "ipython3",
   "version": "3.6.3"
  }
 },
 "nbformat": 4,
 "nbformat_minor": 2
}
