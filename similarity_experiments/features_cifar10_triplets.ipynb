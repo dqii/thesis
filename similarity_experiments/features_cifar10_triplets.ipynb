{
 "cells": [
  {
   "cell_type": "code",
   "execution_count": 1,
   "metadata": {},
   "outputs": [
    {
     "name": "stderr",
     "output_type": "stream",
     "text": [
      "/home/dqi/.conda/envs/py36/lib/python3.6/importlib/_bootstrap.py:219: RuntimeWarning: compiletime version 3.5 of module 'tensorflow.python.framework.fast_tensor_util' does not match runtime version 3.6\n",
      "  return f(*args, **kwds)\n",
      "/home/dqi/.conda/envs/py36/lib/python3.6/site-packages/h5py/__init__.py:34: FutureWarning: Conversion of the second argument of issubdtype from `float` to `np.floating` is deprecated. In future, it will be treated as `np.float64 == np.dtype(float).type`.\n",
      "  from ._conv import register_converters as _register_converters\n",
      "Using TensorFlow backend.\n"
     ]
    }
   ],
   "source": [
    "%load_ext autoreload\n",
    "%autoreload 2\n",
    "import numpy as np\n",
    "import tensorflow as tf\n",
    "from features.settings import Baseline_Settings, Triplet_Hinge_Settings, Triplet_Log_Settings, Pair_Hinge_Settings\n",
    "from features.models import GCNNSmall0, GCNNMedium0, GCNNMedium1, GCNNLarge0\n",
    "from learn import get_feature_model, train_features, test_features\n",
    "from datasets import load_cifar10"
   ]
  },
  {
   "cell_type": "code",
   "execution_count": 2,
   "metadata": {},
   "outputs": [
    {
     "name": "stdout",
     "output_type": "stream",
     "text": [
      "CIFAR-10 loaded in 106 seconds\n"
     ]
    }
   ],
   "source": [
    "data, samplers, pair_samplers, triplet_samplers = load_cifar10(augment=True)\n",
    "d=data; s=triplet_samplers"
   ]
  },
  {
   "cell_type": "code",
   "execution_count": 21,
   "metadata": {},
   "outputs": [
    {
     "name": "stdout",
     "output_type": "stream",
     "text": [
      "begin training features\n",
      "\tstep 0: train loss 1.42366, train error 0.475, valid loss 1.45114, valid error 0.485\n",
      "\tstep 10: train loss 1.43962, train error 0.465, valid loss 1.43754, valid error 0.46\n",
      "\tstep 20: train loss 1.45749, train error 0.5075, valid loss 1.4525, valid error 0.4625\n",
      "\tstep 30: train loss 1.45605, train error 0.485, valid loss 1.4521, valid error 0.5025\n",
      "\tstep 40: train loss 1.45986, train error 0.495, valid loss 1.46033, valid error 0.5025\n",
      "\tstep 50: train loss 1.45995, train error 0.5225, valid loss 1.46261, valid error 0.5475\n",
      "\tstep 60: train loss 1.46247, train error 0.545, valid loss 1.45717, valid error 0.495\n",
      "\tstep 70: train loss 1.45982, train error 0.5025, valid loss 1.45882, valid error 0.5275\n",
      "\tstep 80: train loss 1.45643, train error 0.495, valid loss 1.45571, valid error 0.5025\n",
      "\tstep 90: train loss 1.45896, train error 0.5125, valid loss 1.46349, valid error 0.5\n",
      "end training features // time elapsed: 56.4338 s\n"
     ]
    }
   ],
   "source": [
    "tf.reset_default_graph()\n",
    "f, f_params = get_feature_model(feature_model=GCNNLarge0, settings=Triplet_Hinge_Settings,\n",
    "                                num_features=10, data_format=[32, 32, 3],\n",
    "                                f_lr=0.03, f_reg=0.001, f_scope=\"f_gl0_cifar10_10_\")\n",
    "fs = tf.train.Saver(tf.get_collection(tf.GraphKeys.GLOBAL_VARIABLES, \"f_gl0_cifar10_10_\"))\n",
    "\n",
    "with tf.Session() as sess:\n",
    "    sess.run(tf.global_variables_initializer())\n",
    "    fs.restore(sess, \"./models/cifar10/f_gl0_cifar10_10_.ckpt\")\n",
    "    train_features(sess=sess, feature_model=f, samplers=s, num_steps=20000, keep_prob=0.7, f_params=f_params)\n",
    "    fs.save(sess, \"./models/cifar10/f_gl0_cifar10_10-.ckpt\")"
   ]
  },
  {
   "cell_type": "code",
   "execution_count": null,
   "metadata": {
    "collapsed": true
   },
   "outputs": [],
   "source": [
    "tf.reset_default_graph()\n",
    "f, f_params = get_feature_model(feature_model=GCNNLarge0, settings=Triplet_Hinge_Settings,\n",
    "                                num_features=20, data_format=[32, 32, 3],\n",
    "                                f_lr=0.03, f_reg=0.001, f_scope=\"f_gl0_cifar10_20\")\n",
    "fs = tf.train.Saver(tf.get_collection(tf.GraphKeys.GLOBAL_VARIABLES, \"f_gl0_cifar10_20\"))\n",
    "\n",
    "with tf.Session() as sess:\n",
    "    sess.run(tf.global_variables_initializer())\n",
    "    train_features(sess=sess, feature_model=f, samplers=s, num_steps=60000, keep_prob=0.7, f_params=f_params)\n",
    "    fs.save(sess, \"./models/cifar10/f_gl0_cifar10_20.ckpt\")"
   ]
  },
  {
   "cell_type": "code",
   "execution_count": null,
   "metadata": {
    "collapsed": true
   },
   "outputs": [],
   "source": [
    "tf.reset_default_graph()\n",
    "f, f_params = get_feature_model(feature_model=GCNNLarge0, settings=Triplet_Hinge_Settings,\n",
    "                                num_features=40, data_format=[32, 32, 3],\n",
    "                                f_lr=0.03, f_reg=0.001, f_scope=\"f_gl0_cifar10_40\")\n",
    "fs = tf.train.Saver(tf.get_collection(tf.GraphKeys.GLOBAL_VARIABLES, \"f_gl0_cifar10_40\"))\n",
    "\n",
    "with tf.Session() as sess:\n",
    "    sess.run(tf.global_variables_initializer())\n",
    "    train_features(sess=sess, feature_model=f, samplers=s, num_steps=60000, keep_prob=0.7, f_params=f_params)\n",
    "    fs.save(sess, \"./models/cifar10/f_gl0_cifar10_40.ckpt\")"
   ]
  }
 ],
 "metadata": {
  "kernelspec": {
   "display_name": "Python 3",
   "language": "python",
   "name": "python3"
  },
  "language_info": {
   "codemirror_mode": {
    "name": "ipython",
    "version": 3
   },
   "file_extension": ".py",
   "mimetype": "text/x-python",
   "name": "python",
   "nbconvert_exporter": "python",
   "pygments_lexer": "ipython3",
   "version": "3.6.3"
  }
 },
 "nbformat": 4,
 "nbformat_minor": 2
}
