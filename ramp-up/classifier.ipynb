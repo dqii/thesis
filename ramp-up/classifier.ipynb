{
 "cells": [
  {
   "cell_type": "code",
   "execution_count": 139,
   "metadata": {
    "collapsed": true
   },
   "outputs": [],
   "source": [
    "# original: https://machinelearningmastery.com/implement-logistic-regression-stochastic-gradient-descent-scratch-python/\n",
    "import random\n",
    "import numpy as np\n",
    "from csv import reader\n",
    "from sklearn.preprocessing import MinMaxScaler\n",
    "import matplotlib.pyplot as plt\n",
    "from sklearn.linear_model import LogisticRegression\n",
    "from sklearn.svm import SVC"
   ]
  },
  {
   "cell_type": "code",
   "execution_count": 140,
   "metadata": {},
   "outputs": [],
   "source": [
    "# HINGE / MAX MARGIN\n",
    "def get_hinge_prediction(w, x):\n",
    "    score = get_max_margin_score(w, x)\n",
    "    return np.argmax(score)\n",
    "\n",
    "def get_hinge_score(w, x):\n",
    "    return np.dot(w, x)\n",
    "\n",
    "def get_hinge_loss(y, p):\n",
    "    y = y*2 - 1\n",
    "    return np.sum(np.maximum(0, 1 - np.multiply(y,p)))\n",
    "\n",
    "def get_hinge_gradient(x, y, p):\n",
    "    y = y*2 - 1\n",
    "    gradient = -np.outer(y, x)\n",
    "    gradient[np.multiply(y,p) > 1] = 0\n",
    "    return gradient\n",
    "\n",
    "hinge = {'prediction': get_hinge_prediction, 'score': get_hinge_score, \n",
    "         'loss': get_hinge_loss, 'gradient': get_hinge_gradient}\n",
    "\n",
    "# LOGISTIC\n",
    "\n",
    "def get_logistic_prediction(w, x):\n",
    "    p = get_logistic_probs(w, x)\n",
    "    return np.argmax(p)\n",
    "\n",
    "def get_logistic_probs(w, x):\n",
    "    exp_terms = np.exp(np.dot(w, x))    \n",
    "    return exp_terms / sum(exp_terms)\n",
    "\n",
    "def get_log_loss(y, p):\n",
    "    return -np.dot(y, np.log(p))\n",
    "\n",
    "def get_log_loss_gradient(x, y, p):\n",
    "    return -np.outer(y - p, x)\n",
    "\n",
    "logistic = {'prediction': get_logistic_prediction, 'score': get_logistic_probs, \n",
    "            'loss': get_log_loss, 'gradient': get_log_loss_gradient}\n",
    "\n",
    "# SQUARE \n",
    "\n",
    "# BINARY "
   ]
  },
  {
   "cell_type": "code",
   "execution_count": 141,
   "metadata": {
    "collapsed": true
   },
   "outputs": [],
   "source": [
    "# Calculate accuracy percentage\n",
    "def accuracy_metric(actual, predicted):\n",
    "    return sum(actual == predicted) / float(len(actual)) * 100.0\n",
    "\n",
    "# Estimate logistic regression coefficients using stochastic gradient descent\n",
    "def sgd(train_x, train_y, lr, n_epoch, n_classes, alg):\n",
    "    \n",
    "    n_examples = len(train_y)\n",
    "    x_dim = len(train_x[0])\n",
    "    w = np.zeros((n_classes, x_dim))\n",
    "    loss = np.zeros(n_epoch)\n",
    "    \n",
    "    for epoch in range(n_epoch):\n",
    "        \n",
    "        shuffle = np.random.permutation(n_examples)\n",
    "        train_x = train_x[shuffle]\n",
    "        train_y = train_y[shuffle]\n",
    "        \n",
    "        for i in range(n_examples):\n",
    "            x = train_x[i,:]\n",
    "            y = np.zeros(n_classes)\n",
    "            y[train_y[i]] = 1\n",
    "            \n",
    "            score = alg['score'](w, x)    \n",
    "            loss[epoch] += alg['loss'](y, score)\n",
    "            gradient = alg['gradient'](x, y, score)\n",
    "            \n",
    "            w -= lr * gradient\n",
    "    return w, loss/n_examples\n",
    "\n",
    "# Run SGD over the cross-validation split\n",
    "def evaluate_split(train_x, train_y, test_x, lr, n_epoch, alg):    \n",
    "    n_classes = len(np.unique(train_y))\n",
    "    coef, loss = sgd(train_x, train_y, lr, n_epoch, n_classes, alg)\n",
    "    \n",
    "    train_predictions = list()\n",
    "    test_predictions = list()\n",
    "    for x in train_x:\n",
    "        prediction = alg['prediction'](coef, x)\n",
    "        train_predictions.append(prediction)\n",
    "    for x in test_x:\n",
    "        prediction = alg['prediction'](coef, x)\n",
    "        test_predictions.append(prediction)\n",
    "    return train_predictions, test_predictions, loss\n",
    "\n",
    "# Evaluate an algorithm using a cross validation split\n",
    "def evaluate(x, y, n_folds, lr, n_epoch, alg):\n",
    "    fold_size = int(len(dataset) / n_folds)\n",
    "    train_accuracy = list()\n",
    "    test_accuracy = list()\n",
    "    losses = list()\n",
    "    for i in range(n_folds):\n",
    "        idx = random.sample(range(len(y)), fold_size)\n",
    "        train_x = x[idx]\n",
    "        train_y = y[idx]\n",
    "        test_x = np.delete(x, idx, axis=0)\n",
    "        test_y = np.delete(y, idx, axis=0)\n",
    "\n",
    "        train_predictions, test_predictions, loss = evaluate_split(train_x, train_y, test_x, lr, n_epoch, alg)\n",
    "        train_accuracy.append(accuracy_metric(train_y, train_predictions))     \n",
    "        test_accuracy.append(accuracy_metric(test_y, test_predictions))\n",
    "        losses.append(loss)\n",
    "    return train_accuracy, test_accuracy, losses"
   ]
  },
  {
   "cell_type": "code",
   "execution_count": 142,
   "metadata": {
    "scrolled": false
   },
   "outputs": [],
   "source": [
    "# DIABETES DATASET, BINARY\n",
    "# load and prepare data\n",
    "filename = 'datasets/pima-indians-diabetes.csv'\n",
    "dataset = np.genfromtxt(filename, delimiter=',')\n",
    "np.array(dataset).astype(float)\n",
    "split = np.split(dataset, [-1], axis=1)\n",
    "x = np.insert(split[0], 0, 1, axis=1)\n",
    "y = np.ndarray.flatten(split[1]).astype(int)\n",
    "\n",
    "# normalize\n",
    "x = MinMaxScaler().fit_transform(x)\n",
    "\n",
    "# evaluation parameters\n",
    "n_folds = 5\n",
    "lr = 0.05\n",
    "n_epoch = 500"
   ]
  },
  {
   "cell_type": "code",
   "execution_count": 102,
   "metadata": {
    "scrolled": true
   },
   "outputs": [
    {
     "data": {
      "image/png": "[encoded data removed]",
      "text/plain": [
       "<matplotlib.figure.Figure at 0x11a647978>"
      ]
     },
     "metadata": {},
     "output_type": "display_data"
    },
    {
     "name": "stdout",
     "output_type": "stream",
     "text": [
      "Mean Training Accuracy for Logistic Loss: 71.503%\n",
      "Mean Testing Accuracy for Logistic Loss: 65.626%\n",
      "Baseline accuracy for Logistic Loss: 77.214%\n"
     ]
    }
   ],
   "source": [
    "# logistic loss\n",
    "train_accuracy, test_accuracy, loss = evaluate(x, y, n_folds, lr, n_epoch, logistic)\n",
    "plt.plot(np.mean(loss, axis=0))\n",
    "plt.title(\"Logistic Loss Plot\")\n",
    "plt.ylabel(\"Logistic Loss\")\n",
    "plt.xlabel(\"Epoch Number\")\n",
    "plt.show()\n",
    "\n",
    "LR = LogisticRegression()\n",
    "LR.fit(x,y)\n",
    "y_pred = LR.predict(x)\n",
    "\n",
    "print('Mean Training Accuracy for Logistic Loss: %.3f%%' % np.mean(train_accuracy))\n",
    "print('Mean Testing Accuracy for Logistic Loss: %.3f%%' % np.mean(test_accuracy))\n",
    "print(\"Baseline accuracy for Logistic Loss: %.3f%%\" % accuracy_metric(y, y_pred))"
   ]
  },
  {
   "cell_type": "code",
   "execution_count": 143,
   "metadata": {},
   "outputs": [
    {
     "data": {
      "image/png": "[encoded data removed]",
      "text/plain": [
       "<matplotlib.figure.Figure at 0x119dfb400>"
      ]
     },
     "metadata": {},
     "output_type": "display_data"
    },
    {
     "name": "stdout",
     "output_type": "stream",
     "text": [
      "Mean Training Accuracy for Hinge Loss: 72.157%\n",
      "Mean Testing Accuracy for Hinge Loss: 66.764%\n",
      "Baseline accuracy for Hinge Loss: 76.693%\n"
     ]
    }
   ],
   "source": [
    "# hinge / max margin loss\n",
    "train_accuracy, test_accuracy, loss = evaluate(x, y, n_folds, lr, n_epoch, hinge)\n",
    "plt.plot(np.mean(loss, axis=0))\n",
    "plt.title(\"Hinge Loss Plot\")\n",
    "plt.ylabel(\"Hinge Loss\")\n",
    "plt.xlabel(\"Epoch Number\")\n",
    "plt.show()\n",
    "\n",
    "svc = SVC()\n",
    "svc.fit(x,y)\n",
    "y_pred = svc.predict(x)\n",
    "\n",
    "print('Mean Training Accuracy for Hinge Loss: %.3f%%' % np.mean(train_accuracy))\n",
    "print('Mean Testing Accuracy for Hinge Loss: %.3f%%' % np.mean(test_accuracy))\n",
    "print(\"Baseline accuracy for Hinge Loss: %.3f%%\" % accuracy_metric(y, y_pred))"
   ]
  },
  {
   "cell_type": "code",
   "execution_count": 144,
   "metadata": {},
   "outputs": [],
   "source": [
    "# LETTER RECOGNITION, MULTICLASS\n",
    "\n",
    "# load and prepare data\n",
    "filename = 'datasets/letter-recognition.csv'\n",
    "dataset = np.genfromtxt(filename, delimiter=',', dtype='<U3')\n",
    "\n",
    "split = np.split(dataset, [1], axis=1)\n",
    "x = np.insert(split[1], 0, 1, axis=1).astype('float')\n",
    "x = MinMaxScaler().fit_transform(x)\n",
    "\n",
    "convert_to_num = np.vectorize(ord)\n",
    "y = convert_to_num(np.ndarray.flatten(split[0])) - ord('A')\n",
    "if min(y) != 0:\n",
    "    y -= min(y)"
   ]
  },
  {
   "cell_type": "code",
   "execution_count": 146,
   "metadata": {},
   "outputs": [
    {
     "data": {
      "image/png": "[encoded data removed]",
      "text/plain": [
       "<matplotlib.figure.Figure at 0x11a1b32e8>"
      ]
     },
     "metadata": {},
     "output_type": "display_data"
    },
    {
     "name": "stdout",
     "output_type": "stream",
     "text": [
      "Mean Training Accuracy: 76.935%\n",
      "Mean Testing Accuracy: 74.737%\n",
      "Baseline accuracy: 71.505%\n"
     ]
    }
   ],
   "source": [
    "train_accuracy, test_accuracy, loss = evaluate(x, y, n_folds, lr, n_epoch, logistic)\n",
    "plt.plot(np.mean(loss, axis=0))\n",
    "plt.title(\"Logistic Loss Plot\")\n",
    "plt.ylabel(\"Logistic Loss\")\n",
    "plt.xlabel(\"Epoch Number\")\n",
    "plt.show()\n",
    "\n",
    "LR = LogisticRegression()\n",
    "LR.fit(x,y)\n",
    "y_pred = LR.predict(x)\n",
    "\n",
    "print('Mean Training Accuracy: %.3f%%' % np.mean(train_accuracy))\n",
    "print('Mean Testing Accuracy: %.3f%%' % np.mean(test_accuracy))\n",
    "print(\"Baseline accuracy: %.3f%%\" % accuracy_metric(y, y_pred))"
   ]
  },
  {
   "cell_type": "code",
   "execution_count": 147,
   "metadata": {},
   "outputs": [
    {
     "data": {
      "image/png": "[encoded data removed]",
      "text/plain": [
       "<matplotlib.figure.Figure at 0x119d61b70>"
      ]
     },
     "metadata": {},
     "output_type": "display_data"
    },
    {
     "name": "stdout",
     "output_type": "stream",
     "text": [
      "Mean Training Accuracy for Hinge Loss: 62.900%\n",
      "Mean Testing Accuracy for Hinge Loss: 61.556%\n",
      "Baseline accuracy for Hinge Loss: 75.530%\n"
     ]
    }
   ],
   "source": [
    "train_accuracy, test_accuracy, loss = evaluate(x, y, n_folds, lr, n_epoch, hinge)\n",
    "plt.plot(np.mean(loss, axis=0))\n",
    "plt.title(\"Hinge Loss Plot\")\n",
    "plt.ylabel(\"Hinge Loss\")\n",
    "plt.xlabel(\"Epoch Number\")\n",
    "plt.show()\n",
    "\n",
    "svc = SVC()\n",
    "svc.fit(x,y)\n",
    "y_pred = svc.predict(x)\n",
    "\n",
    "print('Mean Training Accuracy for Hinge Loss: %.3f%%' % np.mean(train_accuracy))\n",
    "print('Mean Testing Accuracy for Hinge Loss: %.3f%%' % np.mean(test_accuracy))\n",
    "print(\"Baseline accuracy for Hinge Loss: %.3f%%\" % accuracy_metric(y, y_pred))"
   ]
  }
 ],
 "metadata": {
  "kernelspec": {
   "display_name": "Python 3",
   "language": "python",
   "name": "python3"
  },
  "language_info": {
   "codemirror_mode": {
    "name": "ipython",
    "version": 3
   },
   "file_extension": ".py",
   "mimetype": "text/x-python",
   "name": "python",
   "nbconvert_exporter": "python",
   "pygments_lexer": "ipython3",
   "version": "3.6.1"
  }
 },
 "nbformat": 4,
 "nbformat_minor": 2
}
