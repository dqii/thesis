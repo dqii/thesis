{
 "cells": [
  {
   "cell_type": "code",
   "execution_count": 1,
   "metadata": {
    "collapsed": true
   },
   "outputs": [],
   "source": [
    "import numpy as np\n",
    "from sklearn.preprocessing import MinMaxScaler\n",
    "import matplotlib.pyplot as plt\n",
    "from sklearn.svm import SVC\n",
    "import algs\n",
    "from learner import evaluate"
   ]
  },
  {
   "cell_type": "code",
   "execution_count": 2,
   "metadata": {
    "collapsed": true
   },
   "outputs": [],
   "source": [
    "# Calculate accuracy percentage\n",
    "def accuracy_metric(actual, predicted):\n",
    "    return sum(actual == predicted) / float(len(actual)) * 100.0\n",
    "\n",
    "# Plot results of training and print accuracy metrics\n",
    "def show_results(train_accuracy, test_accuracy, loss, loss_string, baseline_f):\n",
    "    plt.plot(np.mean(loss, axis=0))\n",
    "    plt.title(loss_string + \" Loss Plot\")\n",
    "    plt.ylabel(loss_string + \" Loss\")\n",
    "    plt.xlabel(\"Epoch Number\")\n",
    "    plt.show()\n",
    "    \n",
    "    baseline = baseline_f()\n",
    "    baseline.fit(x,y)\n",
    "    y_pred = baseline.predict(x)\n",
    "    \n",
    "    print(\"Mean Training Accuracy for \" + loss_string + \" Loss: %.3f%%\" % np.mean(train_accuracy))\n",
    "    print(\"Mean Testing Accuracy for \" + loss_string + \" Loss: %.3f%%\" % np.mean(test_accuracy))\n",
    "    print(\"Baseline accuracy for \" + loss_string + \" Loss: %.3f%%\" % accuracy_metric(y, y_pred))"
   ]
  },
  {
   "cell_type": "code",
   "execution_count": 3,
   "metadata": {
    "collapsed": true
   },
   "outputs": [],
   "source": [
    "# DIABETES DATASET, BINARY\n",
    "# load and prepare data\n",
    "filename = '../datasets/pima-indians-diabetes.csv'\n",
    "dataset = np.genfromtxt(filename, delimiter=',')\n",
    "np.array(dataset).astype(float)\n",
    "split = np.split(dataset, [-1], axis=1)\n",
    "diabetes_x = np.insert(split[0], 0, 1, axis=1)\n",
    "diabetes_x = MinMaxScaler().fit_transform(diabetes_x)\n",
    "diabetes_y = np.ndarray.flatten(split[1]).astype(int)\n",
    "diabetes = diabetes_x, diabetes_y"
   ]
  },
  {
   "cell_type": "code",
   "execution_count": null,
   "metadata": {
    "collapsed": true
   },
   "outputs": [],
   "source": [
    "# LETTER RECOGNITION, MULTICLASS\n",
    "# load and prepare data\n",
    "filename = '../datasets/letter-recognition.csv'\n",
    "dataset = np.genfromtxt(filename, delimiter=',', dtype='<U3')\n",
    "split = np.split(dataset, [1], axis=1)\n",
    "letter_x = np.insert(split[1], 0, 1, axis=1).astype('float')\n",
    "letter_x = MinMaxScaler().fit_transform(letter_x)\n",
    "convert_to_num = np.vectorize(ord)\n",
    "letter_y = convert_to_num(np.ndarray.flatten(split[0])) - ord('A')\n",
    "if min(letter_y) != 0:\n",
    "    letter_y -= min(letter_y)"
   ]
  },
  {
   "cell_type": "code",
   "execution_count": 4,
   "metadata": {
    "collapsed": true
   },
   "outputs": [],
   "source": [
    "# evaluation parameters\n",
    "n_folds = 5\n",
    "lr = 0.05\n",
    "n_epoch = 500\n",
    "\n",
    "# choose dataset\n",
    "x = diabetes_x\n",
    "y = diabetes_y"
   ]
  },
  {
   "cell_type": "code",
   "execution_count": 7,
   "metadata": {},
   "outputs": [
    {
     "data": {
      "image/png": "[encoded data removed]",
      "text/plain": [
       "<matplotlib.figure.Figure at 0x11886dc18>"
      ]
     },
     "metadata": {},
     "output_type": "display_data"
    },
    {
     "name": "stdout",
     "output_type": "stream",
     "text": [
      "Mean Training Accuracy for Logistic Loss: 71.242%\n",
      "Mean Testing Accuracy for Logistic Loss: 65.561%\n"
     ]
    },
    {
     "ename": "NameError",
     "evalue": "name 'accuracy_metric' is not defined",
     "output_type": "error",
     "traceback": [
      "\u001b[0;31m----------------------------------------------------------------\u001b[0m",
      "\u001b[0;31mNameError\u001b[0m                      Traceback (most recent call last)",
      "\u001b[0;32m<ipython-input-7-fa0da974cf06>\u001b[0m in \u001b[0;36m<module>\u001b[0;34m()\u001b[0m\n\u001b[1;32m      2\u001b[0m \u001b[0;32mfrom\u001b[0m \u001b[0msklearn\u001b[0m\u001b[0;34m.\u001b[0m\u001b[0mlinear_model\u001b[0m \u001b[0;32mimport\u001b[0m \u001b[0mLogisticRegression\u001b[0m\u001b[0;34m\u001b[0m\u001b[0m\n\u001b[1;32m      3\u001b[0m \u001b[0mtraining_accuracy\u001b[0m\u001b[0;34m,\u001b[0m \u001b[0mtesting_accuracy\u001b[0m\u001b[0;34m,\u001b[0m \u001b[0mloss\u001b[0m \u001b[0;34m=\u001b[0m \u001b[0mevaluate\u001b[0m\u001b[0;34m(\u001b[0m\u001b[0mx\u001b[0m\u001b[0;34m,\u001b[0m \u001b[0my\u001b[0m\u001b[0;34m,\u001b[0m \u001b[0mn_folds\u001b[0m\u001b[0;34m,\u001b[0m \u001b[0mlr\u001b[0m\u001b[0;34m,\u001b[0m \u001b[0mn_epoch\u001b[0m\u001b[0;34m,\u001b[0m \u001b[0malgs\u001b[0m\u001b[0;34m.\u001b[0m\u001b[0mhinge\u001b[0m\u001b[0;34m)\u001b[0m\u001b[0;34m\u001b[0m\u001b[0m\n\u001b[0;32m----> 4\u001b[0;31m \u001b[0mshow_results\u001b[0m\u001b[0;34m(\u001b[0m\u001b[0mtraining_accuracy\u001b[0m\u001b[0;34m,\u001b[0m \u001b[0mtesting_accuracy\u001b[0m\u001b[0;34m,\u001b[0m \u001b[0mloss\u001b[0m\u001b[0;34m,\u001b[0m \u001b[0;34m\"Logistic\"\u001b[0m\u001b[0;34m,\u001b[0m \u001b[0mLogisticRegression\u001b[0m\u001b[0;34m)\u001b[0m\u001b[0;34m\u001b[0m\u001b[0m\n\u001b[0m",
      "\u001b[0;32m<ipython-input-2-539b47212954>\u001b[0m in \u001b[0;36mshow_results\u001b[0;34m(train_accuracy, test_accuracy, loss, loss_string, baseline_f)\u001b[0m\n\u001b[1;32m     12\u001b[0m     \u001b[0mprint\u001b[0m\u001b[0;34m(\u001b[0m\u001b[0;34m\"Mean Training Accuracy for \"\u001b[0m \u001b[0;34m+\u001b[0m \u001b[0mloss_string\u001b[0m \u001b[0;34m+\u001b[0m \u001b[0;34m\" Loss: %.3f%%\"\u001b[0m \u001b[0;34m%\u001b[0m \u001b[0mnp\u001b[0m\u001b[0;34m.\u001b[0m\u001b[0mmean\u001b[0m\u001b[0;34m(\u001b[0m\u001b[0mtrain_accuracy\u001b[0m\u001b[0;34m)\u001b[0m\u001b[0;34m)\u001b[0m\u001b[0;34m\u001b[0m\u001b[0m\n\u001b[1;32m     13\u001b[0m     \u001b[0mprint\u001b[0m\u001b[0;34m(\u001b[0m\u001b[0;34m\"Mean Testing Accuracy for \"\u001b[0m \u001b[0;34m+\u001b[0m \u001b[0mloss_string\u001b[0m \u001b[0;34m+\u001b[0m \u001b[0;34m\" Loss: %.3f%%\"\u001b[0m \u001b[0;34m%\u001b[0m \u001b[0mnp\u001b[0m\u001b[0;34m.\u001b[0m\u001b[0mmean\u001b[0m\u001b[0;34m(\u001b[0m\u001b[0mtest_accuracy\u001b[0m\u001b[0;34m)\u001b[0m\u001b[0;34m)\u001b[0m\u001b[0;34m\u001b[0m\u001b[0m\n\u001b[0;32m---> 14\u001b[0;31m     \u001b[0mprint\u001b[0m\u001b[0;34m(\u001b[0m\u001b[0;34m\"Baseline accuracy for \"\u001b[0m \u001b[0;34m+\u001b[0m \u001b[0mloss_string\u001b[0m \u001b[0;34m+\u001b[0m \u001b[0;34m\" Loss: %.3f%%\"\u001b[0m \u001b[0;34m%\u001b[0m \u001b[0maccuracy_metric\u001b[0m\u001b[0;34m(\u001b[0m\u001b[0my\u001b[0m\u001b[0;34m,\u001b[0m \u001b[0my_pred\u001b[0m\u001b[0;34m)\u001b[0m\u001b[0;34m)\u001b[0m\u001b[0;34m\u001b[0m\u001b[0m\n\u001b[0m",
      "\u001b[0;31mNameError\u001b[0m: name 'accuracy_metric' is not defined"
     ]
    }
   ],
   "source": [
    "# logistic loss\n",
    "from sklearn.linear_model import LogisticRegression\n",
    "training_accuracy, testing_accuracy, loss = evaluate(x, y, n_folds, lr, n_epoch, algs.hinge)\n",
    "show_results(training_accuracy, testing_accuracy, loss, \"Logistic\", LogisticRegression)"
   ]
  },
  {
   "cell_type": "code",
   "execution_count": null,
   "metadata": {
    "collapsed": true
   },
   "outputs": [],
   "source": []
  }
 ],
 "metadata": {
  "kernelspec": {
   "display_name": "Python 3",
   "language": "python",
   "name": "python3"
  },
  "language_info": {
   "codemirror_mode": {
    "name": "ipython",
    "version": 3
   },
   "file_extension": ".py",
   "mimetype": "text/x-python",
   "name": "python",
   "nbconvert_exporter": "python",
   "pygments_lexer": "ipython3",
   "version": "3.6.1"
  }
 },
 "nbformat": 4,
 "nbformat_minor": 2
}
