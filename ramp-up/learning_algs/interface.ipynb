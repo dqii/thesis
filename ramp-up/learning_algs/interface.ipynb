{
 "cells": [
  {
   "cell_type": "code",
   "execution_count": 1,
   "metadata": {
    "collapsed": true
   },
   "outputs": [],
   "source": [
    "import numpy as np\n",
    "from sklearn.preprocessing import MinMaxScaler\n",
    "import matplotlib.pyplot as plt\n",
    "from sklearn.svm import SVC\n",
    "import algs\n",
    "from learner import evaluate"
   ]
  },
  {
   "cell_type": "code",
   "execution_count": 9,
   "metadata": {
    "collapsed": true
   },
   "outputs": [],
   "source": [
    "# Calculate accuracy percentage\n",
    "def accuracy_metric(actual, predicted):\n",
    "    return sum(actual == predicted) / float(len(actual)) * 100.0\n",
    "\n",
    "# Plot results of training and print accuracy metrics\n",
    "def show_results(train_accuracy, test_accuracy, loss, loss_string, baseline_f):\n",
    "    plt.plot(np.mean(loss, axis=0))\n",
    "    plt.title(loss_string + \" Loss Plot\")\n",
    "    plt.ylabel(loss_string + \" Loss\")\n",
    "    plt.xlabel(\"Epoch Number\")\n",
    "    plt.show()\n",
    "    \n",
    "    baseline = baseline_f()\n",
    "    baseline.fit(x,y)\n",
    "    y_pred = baseline.predict(x)\n",
    "    \n",
    "    print(\"Mean Training Accuracy for \" + loss_string + \" Loss: %.3f%%\" % np.mean(train_accuracy))\n",
    "    print(\"Mean Testing Accuracy for \" + loss_string + \" Loss: %.3f%%\" % np.mean(test_accuracy))\n",
    "    print(\"Baseline accuracy for \" + loss_string + \" Loss: %.3f%%\" % accuracy_metric(y, y_pred))"
   ]
  },
  {
   "cell_type": "code",
   "execution_count": 3,
   "metadata": {
    "collapsed": true
   },
   "outputs": [],
   "source": [
    "# DIABETES DATASET, BINARY\n",
    "# load and prepare data\n",
    "filename = '../datasets/pima-indians-diabetes.csv'\n",
    "dataset = np.genfromtxt(filename, delimiter=',')\n",
    "np.array(dataset).astype(float)\n",
    "split = np.split(dataset, [-1], axis=1)\n",
    "diabetes_x = np.insert(split[0], 0, 1, axis=1)\n",
    "diabetes_x = MinMaxScaler().fit_transform(diabetes_x)\n",
    "diabetes_y = np.ndarray.flatten(split[1]).astype(int)\n",
    "diabetes = diabetes_x, diabetes_y"
   ]
  },
  {
   "cell_type": "code",
   "execution_count": null,
   "metadata": {
    "collapsed": true
   },
   "outputs": [],
   "source": [
    "# LETTER RECOGNITION, MULTICLASS\n",
    "# load and prepare data\n",
    "filename = '../datasets/letter-recognition.csv'\n",
    "dataset = np.genfromtxt(filename, delimiter=',', dtype='<U3')\n",
    "split = np.split(dataset, [1], axis=1)\n",
    "letter_x = np.insert(split[1], 0, 1, axis=1).astype('float')\n",
    "letter_x = MinMaxScaler().fit_transform(letter_x)\n",
    "convert_to_num = np.vectorize(ord)\n",
    "letter_y = convert_to_num(np.ndarray.flatten(split[0])) - ord('A')\n",
    "if min(letter_y) != 0:\n",
    "    letter_y -= min(letter_y)"
   ]
  },
  {
   "cell_type": "code",
   "execution_count": 4,
   "metadata": {
    "collapsed": true
   },
   "outputs": [],
   "source": [
    "# evaluation parameters\n",
    "n_folds = 5\n",
    "lr = 0.05\n",
    "n_epoch = 500\n",
    "\n",
    "# choose dataset\n",
    "x = diabetes_x\n",
    "y = diabetes_y"
   ]
  },
  {
   "cell_type": "code",
   "execution_count": 10,
   "metadata": {},
   "outputs": [
    {
     "data": {
      "image/png": "[encoded data removed]",
      "text/plain": [
       "<matplotlib.figure.Figure at 0x118afda20>"
      ]
     },
     "metadata": {},
     "output_type": "display_data"
    },
    {
     "name": "stdout",
     "output_type": "stream",
     "text": [
      "Mean Training Accuracy for Logistic Loss: 70.327%\n",
      "Mean Testing Accuracy for Logistic Loss: 65.951%\n",
      "Baseline accuracy for Logistic Loss: 77.214%\n"
     ]
    }
   ],
   "source": [
    "# logistic loss\n",
    "from sklearn.linear_model import LogisticRegression\n",
    "training_accuracy, testing_accuracy, loss = evaluate(x, y, n_folds, lr, n_epoch, algs.hinge)\n",
    "show_results(training_accuracy, testing_accuracy, loss, \"Logistic\", LogisticRegression)"
   ]
  },
  {
   "cell_type": "code",
   "execution_count": null,
   "metadata": {
    "collapsed": true
   },
   "outputs": [],
   "source": [
    "# hinge loss, treating margin as a confidence"
   ]
  }
 ],
 "metadata": {
  "kernelspec": {
   "display_name": "Python 3",
   "language": "python",
   "name": "python3"
  },
  "language_info": {
   "codemirror_mode": {
    "name": "ipython",
    "version": 3
   },
   "file_extension": ".py",
   "mimetype": "text/x-python",
   "name": "python",
   "nbconvert_exporter": "python",
   "pygments_lexer": "ipython3",
   "version": "3.6.1"
  }
 },
 "nbformat": 4,
 "nbformat_minor": 2
}
