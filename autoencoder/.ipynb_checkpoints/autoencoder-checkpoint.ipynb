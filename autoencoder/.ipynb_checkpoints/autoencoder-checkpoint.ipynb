{
 "cells": [
  {
   "cell_type": "code",
   "execution_count": 2,
   "metadata": {},
   "outputs": [
    {
     "name": "stdout",
     "output_type": "stream",
     "text": [
      "The autoreload extension is already loaded. To reload it, use:\n",
      "  %reload_ext autoreload\n"
     ]
    }
   ],
   "source": [
    "%load_ext autoreload\n",
    "%autoreload 2\n",
    "import numpy as np\n",
    "import tensorflow as tf"
   ]
  },
  {
   "cell_type": "code",
   "execution_count": 128,
   "metadata": {
    "collapsed": true
   },
   "outputs": [],
   "source": [
    "from keras.datasets import mnist\n",
    "import numpy as np\n",
    "(x_train, y_train), (x_test, y_test) = mnist.load_data()"
   ]
  },
  {
   "cell_type": "code",
   "execution_count": 135,
   "metadata": {},
   "outputs": [
    {
     "name": "stdout",
     "output_type": "stream",
     "text": [
      "(60000, 28, 28, 1)\n",
      "(10000, 28, 28, 1)\n"
     ]
    }
   ],
   "source": [
    "x_train = x_train.astype('float32').reshape((-1, 28, 28, 1)) / 255.\n",
    "x_test = x_test.astype('float32').reshape((-1, 28, 28, 1)) / 255.\n",
    "print(x_train.shape)\n",
    "print(x_test.shape)"
   ]
  },
  {
   "cell_type": "code",
   "execution_count": 171,
   "metadata": {},
   "outputs": [],
   "source": [
    "from keras.layers import Input, Dense, Conv2D, MaxPooling2D, UpSampling2D\n",
    "from keras.models import Model\n",
    "from keras import backend as K\n",
    "\n",
    "input_img = Input(shape=(28, 28, 1))  # adapt this if using `channels_first` image data format\n",
    "\n",
    "x = Conv2D(16, (3, 3), activation='relu', padding='same')(input_img)\n",
    "x = MaxPooling2D((2, 2), padding='same')(x)\n",
    "x = Conv2D(8, (3, 3), activation='relu', padding='same')(x)\n",
    "x = MaxPooling2D((2, 2), padding='same')(x)\n",
    "x = Conv2D(8, (3, 3), activation='relu', padding='same')(x)\n",
    "encoded = MaxPooling2D((2, 2), padding='same')(x)\n",
    "\n",
    "# at this point the representation is (4, 4, 8) i.e. 128-dimensional\n",
    "\n",
    "x = Conv2D(8, (3, 3), activation='relu', padding='same')(encoded)\n",
    "x = UpSampling2D((2, 2))(x)\n",
    "x = Conv2D(8, (3, 3), activation='relu', padding='same')(x)\n",
    "x = UpSampling2D((2, 2))(x)\n",
    "x = Conv2D(16, (3, 3), activation='relu')(x)\n",
    "x = UpSampling2D((2, 2))(x)\n",
    "decoded = Conv2D(1, (3, 3), activation='sigmoid', padding='same')(x)\n",
    "\n",
    "autoencoder = Model(input_img, decoded)\n",
    "autoencoder.compile(optimizer='adadelta', loss='binary_crossentropy')"
   ]
  },
  {
   "cell_type": "code",
   "execution_count": null,
   "metadata": {},
   "outputs": [
    {
     "name": "stdout",
     "output_type": "stream",
     "text": [
      "Train on 60000 samples, validate on 10000 samples\n",
      "Epoch 1/50\n",
      "60000/60000 [==============================] - 29s 477us/step - loss: 0.0041 - val_loss: 0.0041\n",
      "Epoch 2/50\n",
      "60000/60000 [==============================] - 29s 475us/step - loss: 0.0041 - val_loss: 0.0041\n",
      "Epoch 3/50\n",
      "60000/60000 [==============================] - 28s 475us/step - loss: 0.0040 - val_loss: 0.0041\n",
      "Epoch 4/50\n",
      "60000/60000 [==============================] - 29s 475us/step - loss: 0.0040 - val_loss: 0.0041\n",
      "Epoch 5/50\n",
      "60000/60000 [==============================] - 29s 482us/step - loss: 0.0040 - val_loss: 0.0041\n",
      "Epoch 6/50\n",
      "60000/60000 [==============================] - 29s 477us/step - loss: 0.0040 - val_loss: 0.0041\n",
      "Epoch 7/50\n",
      "60000/60000 [==============================] - 28s 474us/step - loss: 0.0040 - val_loss: 0.0041\n",
      "Epoch 8/50\n",
      "60000/60000 [==============================] - 29s 475us/step - loss: 0.0040 - val_loss: 0.0041\n",
      "Epoch 9/50\n",
      "60000/60000 [==============================] - 29s 477us/step - loss: 0.0040 - val_loss: 0.0040\n",
      "Epoch 10/50\n",
      "60000/60000 [==============================] - 29s 481us/step - loss: 0.0040 - val_loss: 0.0040\n",
      "Epoch 11/50\n",
      "60000/60000 [==============================] - 28s 473us/step - loss: 0.0040 - val_loss: 0.0040\n",
      "Epoch 12/50\n",
      "60000/60000 [==============================] - 28s 468us/step - loss: 0.0040 - val_loss: 0.0040\n",
      "Epoch 13/50\n",
      "60000/60000 [==============================] - 28s 474us/step - loss: 0.0040 - val_loss: 0.0040\n",
      "Epoch 14/50\n",
      "60000/60000 [==============================] - 28s 474us/step - loss: 0.0040 - val_loss: 0.0040\n",
      "Epoch 15/50\n",
      "60000/60000 [==============================] - 28s 472us/step - loss: 0.0040 - val_loss: 0.0040\n",
      "Epoch 16/50\n",
      "60000/60000 [==============================] - 28s 473us/step - loss: 0.0040 - val_loss: 0.0040\n",
      "Epoch 17/50\n",
      "60000/60000 [==============================] - 29s 476us/step - loss: 0.0040 - val_loss: 0.0040\n",
      "Epoch 18/50\n",
      "60000/60000 [==============================] - 28s 475us/step - loss: 0.0040 - val_loss: 0.0040\n",
      "Epoch 19/50\n",
      "60000/60000 [==============================] - 28s 470us/step - loss: 0.0040 - val_loss: 0.0040\n",
      "Epoch 20/50\n",
      "60000/60000 [==============================] - 29s 478us/step - loss: 0.0040 - val_loss: 0.0040\n",
      "Epoch 21/50\n",
      "60000/60000 [==============================] - 28s 474us/step - loss: 0.0040 - val_loss: 0.0040\n",
      "Epoch 22/50\n",
      "60000/60000 [==============================] - 29s 476us/step - loss: 0.0040 - val_loss: 0.0040\n",
      "Epoch 23/50\n",
      "60000/60000 [==============================] - 28s 471us/step - loss: 0.0040 - val_loss: 0.0040\n",
      "Epoch 24/50\n",
      "60000/60000 [==============================] - 28s 467us/step - loss: 0.0040 - val_loss: 0.0040\n",
      "Epoch 25/50\n",
      "60000/60000 [==============================] - 28s 472us/step - loss: 0.0040 - val_loss: 0.0040\n",
      "Epoch 26/50\n",
      "60000/60000 [==============================] - 28s 465us/step - loss: 0.0040 - val_loss: 0.0040\n",
      "Epoch 27/50\n",
      "60000/60000 [==============================] - 28s 474us/step - loss: 0.0040 - val_loss: 0.0040\n",
      "Epoch 28/50\n",
      "60000/60000 [==============================] - 29s 475us/step - loss: 0.0040 - val_loss: 0.0040\n",
      "Epoch 29/50\n",
      "60000/60000 [==============================] - 28s 466us/step - loss: 0.0040 - val_loss: 0.0040\n",
      "Epoch 30/50\n",
      "60000/60000 [==============================] - 29s 477us/step - loss: 0.0040 - val_loss: 0.0040\n",
      "Epoch 31/50\n",
      "60000/60000 [==============================] - 29s 479us/step - loss: 0.0040 - val_loss: 0.0040\n",
      "Epoch 32/50\n",
      "60000/60000 [==============================] - 29s 477us/step - loss: 0.0040 - val_loss: 0.0040\n",
      "Epoch 33/50\n",
      "60000/60000 [==============================] - 28s 471us/step - loss: 0.0040 - val_loss: 0.0040\n",
      "Epoch 34/50\n",
      "60000/60000 [==============================] - 28s 463us/step - loss: 0.0040 - val_loss: 0.0040\n",
      "Epoch 35/50\n",
      "60000/60000 [==============================] - 29s 479us/step - loss: 0.0040 - val_loss: 0.0040\n",
      "Epoch 36/50\n",
      "60000/60000 [==============================] - 29s 479us/step - loss: 0.0040 - val_loss: 0.0040\n",
      "Epoch 37/50\n",
      "60000/60000 [==============================] - 28s 471us/step - loss: 0.0040 - val_loss: 0.0040\n",
      "Epoch 38/50\n",
      " 6400/60000 [==>...........................] - ETA: 23s - loss: 0.0040"
     ]
    }
   ],
   "source": [
    "autoencoder.fit(x_train, x_train,\n",
    "                epochs=50,\n",
    "                batch_size=256,\n",
    "                shuffle=True,\n",
    "                validation_data=(x_test, x_test))"
   ]
  },
  {
   "cell_type": "code",
   "execution_count": 173,
   "metadata": {
    "collapsed": true
   },
   "outputs": [],
   "source": [
    "# encode and decode some digits\n",
    "# note that we take them from the *test* set\n",
    "encoded_imgs = encoder.predict(x_test)\n",
    "decoded_imgs = autoencoder.predict(x_test)"
   ]
  },
  {
   "cell_type": "code",
   "execution_count": 174,
   "metadata": {},
   "outputs": [
    {
     "data": {
      "image/png": "[encoded data removed]",
      "text/plain": [
       "<matplotlib.figure.Figure at 0x2afe56319048>"
      ]
     },
     "metadata": {},
     "output_type": "display_data"
    }
   ],
   "source": [
    "# use Matplotlib (don't ask)\n",
    "import matplotlib.pyplot as plt\n",
    "\n",
    "n = 10  # how many digits we will display\n",
    "plt.figure(figsize=(20, 4))\n",
    "for i in range(n):\n",
    "    # display original\n",
    "    ax = plt.subplot(2, n, i + 1)\n",
    "    plt.imshow(x_test[i].reshape(28, 28))\n",
    "    plt.gray()\n",
    "    ax.get_xaxis().set_visible(False)\n",
    "    ax.get_yaxis().set_visible(False)\n",
    "\n",
    "    # display reconstruction\n",
    "    ax = plt.subplot(2, n, i + 1 + n)\n",
    "    plt.imshow(decoded_imgs[i].reshape(28, 28))\n",
    "    plt.gray()\n",
    "    ax.get_xaxis().set_visible(False)\n",
    "    ax.get_yaxis().set_visible(False)\n",
    "plt.show()"
   ]
  },
  {
   "cell_type": "code",
   "execution_count": 168,
   "metadata": {},
   "outputs": [],
   "source": [
    "import keras\n",
    "from keras.models import Sequential\n",
    "from keras.layers import Dense, Activation, Reshape\n",
    "model = Sequential()\n",
    "model.add(Reshape((16,), input_shape=(4,4,1)))\n",
    "model.add(Dense(16, activation='relu'))\n",
    "model.add(Dense(10, activation='softmax'))\n",
    "model.compile(optimizer='sgd', loss='categorical_crossentropy', metrics=['accuracy'])\n",
    "\n",
    "train_labels = keras.utils.to_categorical(y_train, num_classes=10)\n",
    "test_labels = keras.utils.to_categorical(y_test, num_classes=10)"
   ]
  },
  {
   "cell_type": "code",
   "execution_count": 169,
   "metadata": {},
   "outputs": [],
   "source": [
    "x_train_encoded = encoder.predict(x_train)\n",
    "x_test_encoded = encoder.predict(x_test)"
   ]
  },
  {
   "cell_type": "code",
   "execution_count": 170,
   "metadata": {},
   "outputs": [
    {
     "name": "stdout",
     "output_type": "stream",
     "text": [
      "Train on 60000 samples, validate on 10000 samples\n",
      "Epoch 1/50\n",
      "60000/60000 [==============================] - 1s 21us/step - loss: 2.3219 - acc: 0.1024 - val_loss: 2.3021 - val_acc: 0.1028\n",
      "Epoch 2/50\n",
      "60000/60000 [==============================] - 1s 8us/step - loss: 2.3016 - acc: 0.1097 - val_loss: 2.3010 - val_acc: 0.1135\n",
      "Epoch 3/50\n",
      "60000/60000 [==============================] - 1s 8us/step - loss: 2.3013 - acc: 0.1124 - val_loss: 2.3009 - val_acc: 0.1135\n",
      "Epoch 4/50\n",
      "60000/60000 [==============================] - 1s 9us/step - loss: 2.3013 - acc: 0.1124 - val_loss: 2.3010 - val_acc: 0.1135\n",
      "Epoch 5/50\n",
      "60000/60000 [==============================] - 1s 8us/step - loss: 2.3013 - acc: 0.1124 - val_loss: 2.3011 - val_acc: 0.1135\n",
      "Epoch 6/50\n",
      "60000/60000 [==============================] - 1s 9us/step - loss: 2.3013 - acc: 0.1124 - val_loss: 2.3010 - val_acc: 0.1135\n",
      "Epoch 7/50\n",
      "60000/60000 [==============================] - 1s 9us/step - loss: 2.3012 - acc: 0.1124 - val_loss: 2.3011 - val_acc: 0.1135\n",
      "Epoch 8/50\n",
      "60000/60000 [==============================] - 1s 9us/step - loss: 2.3013 - acc: 0.1124 - val_loss: 2.3010 - val_acc: 0.1135\n",
      "Epoch 9/50\n",
      "60000/60000 [==============================] - 1s 9us/step - loss: 2.3013 - acc: 0.1124 - val_loss: 2.3010 - val_acc: 0.1135\n",
      "Epoch 10/50\n",
      "60000/60000 [==============================] - 1s 9us/step - loss: 2.3013 - acc: 0.1124 - val_loss: 2.3010 - val_acc: 0.1135\n",
      "Epoch 11/50\n",
      "60000/60000 [==============================] - 1s 9us/step - loss: 2.3013 - acc: 0.1124 - val_loss: 2.3010 - val_acc: 0.1135\n",
      "Epoch 12/50\n",
      "60000/60000 [==============================] - 1s 9us/step - loss: 2.3013 - acc: 0.1124 - val_loss: 2.3010 - val_acc: 0.1135\n",
      "Epoch 13/50\n",
      "60000/60000 [==============================] - 1s 9us/step - loss: 2.3012 - acc: 0.1124 - val_loss: 2.3009 - val_acc: 0.1135\n",
      "Epoch 14/50\n",
      "60000/60000 [==============================] - 1s 9us/step - loss: 2.3012 - acc: 0.1124 - val_loss: 2.3009 - val_acc: 0.1135\n",
      "Epoch 15/50\n",
      "60000/60000 [==============================] - 1s 9us/step - loss: 2.3012 - acc: 0.1124 - val_loss: 2.3011 - val_acc: 0.1135\n",
      "Epoch 16/50\n",
      "60000/60000 [==============================] - 1s 9us/step - loss: 2.3013 - acc: 0.1124 - val_loss: 2.3009 - val_acc: 0.1135\n",
      "Epoch 17/50\n",
      "60000/60000 [==============================] - 1s 8us/step - loss: 2.3012 - acc: 0.1124 - val_loss: 2.3010 - val_acc: 0.1135\n",
      "Epoch 18/50\n",
      "60000/60000 [==============================] - 1s 9us/step - loss: 2.3013 - acc: 0.1124 - val_loss: 2.3010 - val_acc: 0.1135\n",
      "Epoch 19/50\n",
      "60000/60000 [==============================] - 1s 9us/step - loss: 2.3012 - acc: 0.1124 - val_loss: 2.3010 - val_acc: 0.1135\n",
      "Epoch 20/50\n",
      "60000/60000 [==============================] - 1s 9us/step - loss: 2.3013 - acc: 0.1124 - val_loss: 2.3011 - val_acc: 0.1135\n",
      "Epoch 21/50\n",
      "60000/60000 [==============================] - 1s 9us/step - loss: 2.3012 - acc: 0.1124 - val_loss: 2.3010 - val_acc: 0.1135\n",
      "Epoch 22/50\n",
      "60000/60000 [==============================] - 1s 9us/step - loss: 2.3013 - acc: 0.1124 - val_loss: 2.3008 - val_acc: 0.1135\n",
      "Epoch 23/50\n",
      "60000/60000 [==============================] - 1s 9us/step - loss: 2.3012 - acc: 0.1124 - val_loss: 2.3011 - val_acc: 0.1135\n",
      "Epoch 24/50\n",
      "60000/60000 [==============================] - 1s 8us/step - loss: 2.3012 - acc: 0.1124 - val_loss: 2.3009 - val_acc: 0.1135\n",
      "Epoch 25/50\n",
      "60000/60000 [==============================] - 1s 8us/step - loss: 2.3012 - acc: 0.1124 - val_loss: 2.3010 - val_acc: 0.1135\n",
      "Epoch 26/50\n",
      "60000/60000 [==============================] - 1s 9us/step - loss: 2.3012 - acc: 0.1124 - val_loss: 2.3010 - val_acc: 0.1135\n",
      "Epoch 27/50\n",
      "60000/60000 [==============================] - 1s 9us/step - loss: 2.3013 - acc: 0.1124 - val_loss: 2.3009 - val_acc: 0.1135\n",
      "Epoch 28/50\n",
      "60000/60000 [==============================] - 1s 9us/step - loss: 2.3012 - acc: 0.1124 - val_loss: 2.3010 - val_acc: 0.1135\n",
      "Epoch 29/50\n",
      "60000/60000 [==============================] - 1s 9us/step - loss: 2.3012 - acc: 0.1124 - val_loss: 2.3010 - val_acc: 0.1135\n",
      "Epoch 30/50\n",
      "60000/60000 [==============================] - 1s 9us/step - loss: 2.3012 - acc: 0.1124 - val_loss: 2.3009 - val_acc: 0.1135\n",
      "Epoch 31/50\n",
      "60000/60000 [==============================] - 1s 9us/step - loss: 2.3012 - acc: 0.1124 - val_loss: 2.3010 - val_acc: 0.1135\n",
      "Epoch 32/50\n",
      "60000/60000 [==============================] - 1s 9us/step - loss: 2.3012 - acc: 0.1124 - val_loss: 2.3010 - val_acc: 0.1135\n",
      "Epoch 33/50\n",
      "60000/60000 [==============================] - 1s 9us/step - loss: 2.3012 - acc: 0.1124 - val_loss: 2.3011 - val_acc: 0.1135\n",
      "Epoch 34/50\n",
      "60000/60000 [==============================] - 1s 9us/step - loss: 2.3012 - acc: 0.1124 - val_loss: 2.3010 - val_acc: 0.1135\n",
      "Epoch 35/50\n",
      "60000/60000 [==============================] - 1s 9us/step - loss: 2.3012 - acc: 0.1124 - val_loss: 2.3009 - val_acc: 0.1135\n",
      "Epoch 36/50\n",
      "60000/60000 [==============================] - 1s 9us/step - loss: 2.3012 - acc: 0.1124 - val_loss: 2.3010 - val_acc: 0.1135\n",
      "Epoch 37/50\n",
      "60000/60000 [==============================] - 1s 9us/step - loss: 2.3012 - acc: 0.1124 - val_loss: 2.3011 - val_acc: 0.1135\n",
      "Epoch 38/50\n",
      "60000/60000 [==============================] - 1s 9us/step - loss: 2.3012 - acc: 0.1124 - val_loss: 2.3009 - val_acc: 0.1135\n",
      "Epoch 39/50\n",
      "60000/60000 [==============================] - 1s 9us/step - loss: 2.3012 - acc: 0.1124 - val_loss: 2.3009 - val_acc: 0.1135\n",
      "Epoch 40/50\n",
      "60000/60000 [==============================] - 1s 9us/step - loss: 2.3012 - acc: 0.1124 - val_loss: 2.3009 - val_acc: 0.1135\n",
      "Epoch 41/50\n",
      "60000/60000 [==============================] - 1s 9us/step - loss: 2.3012 - acc: 0.1124 - val_loss: 2.3009 - val_acc: 0.1135\n",
      "Epoch 42/50\n",
      "60000/60000 [==============================] - 1s 8us/step - loss: 2.3012 - acc: 0.1124 - val_loss: 2.3009 - val_acc: 0.1135\n",
      "Epoch 43/50\n",
      "60000/60000 [==============================] - 1s 9us/step - loss: 2.3012 - acc: 0.1124 - val_loss: 2.3009 - val_acc: 0.1135\n",
      "Epoch 44/50\n",
      "60000/60000 [==============================] - 1s 9us/step - loss: 2.3012 - acc: 0.1124 - val_loss: 2.3010 - val_acc: 0.1135\n",
      "Epoch 45/50\n",
      "60000/60000 [==============================] - 1s 9us/step - loss: 2.3012 - acc: 0.1124 - val_loss: 2.3010 - val_acc: 0.1135\n",
      "Epoch 46/50\n",
      "60000/60000 [==============================] - 1s 9us/step - loss: 2.3012 - acc: 0.1124 - val_loss: 2.3010 - val_acc: 0.1135\n",
      "Epoch 47/50\n",
      "60000/60000 [==============================] - 1s 9us/step - loss: 2.3012 - acc: 0.1124 - val_loss: 2.3009 - val_acc: 0.1135\n",
      "Epoch 48/50\n",
      "60000/60000 [==============================] - 1s 9us/step - loss: 2.3012 - acc: 0.1124 - val_loss: 2.3009 - val_acc: 0.1135\n",
      "Epoch 49/50\n",
      "60000/60000 [==============================] - 1s 9us/step - loss: 2.3012 - acc: 0.1124 - val_loss: 2.3009 - val_acc: 0.1135\n",
      "Epoch 50/50\n",
      "60000/60000 [==============================] - 1s 9us/step - loss: 2.3012 - acc: 0.1124 - val_loss: 2.3009 - val_acc: 0.1135\n"
     ]
    },
    {
     "data": {
      "text/plain": [
       "<keras.callbacks.History at 0x2afe55d64dd8>"
      ]
     },
     "execution_count": 170,
     "metadata": {},
     "output_type": "execute_result"
    }
   ],
   "source": [
    "# Train the model, iterating on the data in batches of 256 samples\n",
    "model.fit(x_train_encoded, train_labels, epochs=50, batch_size=256, validation_data=(x_test_encoded, test_labels))"
   ]
  },
  {
   "cell_type": "code",
   "execution_count": 40,
   "metadata": {},
   "outputs": [
    {
     "name": "stdout",
     "output_type": "stream",
     "text": [
      "Train on 60000 samples, validate on 10000 samples\n",
      "Epoch 1/50\n",
      "60000/60000 [==============================] - 1s 10us/step - loss: 1.3707 - acc: 0.6114 - val_loss: 0.6897 - val_acc: 0.7864\n",
      "Epoch 2/50\n",
      "60000/60000 [==============================] - 1s 9us/step - loss: 0.5865 - acc: 0.8202 - val_loss: 0.4973 - val_acc: 0.8528\n",
      "Epoch 3/50\n",
      "60000/60000 [==============================] - 1s 9us/step - loss: 0.4658 - acc: 0.8609 - val_loss: 0.4429 - val_acc: 0.8708\n",
      "Epoch 4/50\n",
      "60000/60000 [==============================] - 1s 9us/step - loss: 0.4096 - acc: 0.8789 - val_loss: 0.4065 - val_acc: 0.8766\n",
      "Epoch 5/50\n",
      "60000/60000 [==============================] - 1s 9us/step - loss: 0.3757 - acc: 0.8889 - val_loss: 0.3601 - val_acc: 0.8980\n",
      "Epoch 6/50\n",
      "60000/60000 [==============================] - 1s 9us/step - loss: 0.3514 - acc: 0.8956 - val_loss: 0.3273 - val_acc: 0.9063\n",
      "Epoch 7/50\n",
      "60000/60000 [==============================] - 1s 9us/step - loss: 0.3345 - acc: 0.9014 - val_loss: 0.3154 - val_acc: 0.9086\n",
      "Epoch 8/50\n",
      "60000/60000 [==============================] - 1s 9us/step - loss: 0.3208 - acc: 0.9052 - val_loss: 0.3030 - val_acc: 0.9110\n",
      "Epoch 9/50\n",
      "60000/60000 [==============================] - 1s 9us/step - loss: 0.3094 - acc: 0.9093 - val_loss: 0.3066 - val_acc: 0.9100\n",
      "Epoch 10/50\n",
      "60000/60000 [==============================] - 1s 8us/step - loss: 0.2995 - acc: 0.9127 - val_loss: 0.2900 - val_acc: 0.9180\n",
      "Epoch 11/50\n",
      "60000/60000 [==============================] - 1s 9us/step - loss: 0.2912 - acc: 0.9149 - val_loss: 0.2760 - val_acc: 0.9189\n",
      "Epoch 12/50\n",
      "60000/60000 [==============================] - 1s 9us/step - loss: 0.2836 - acc: 0.9178 - val_loss: 0.2681 - val_acc: 0.9217\n",
      "Epoch 13/50\n",
      "60000/60000 [==============================] - 1s 9us/step - loss: 0.2769 - acc: 0.9202 - val_loss: 0.2814 - val_acc: 0.9166\n",
      "Epoch 14/50\n",
      "60000/60000 [==============================] - 1s 9us/step - loss: 0.2708 - acc: 0.9213 - val_loss: 0.2690 - val_acc: 0.9210\n",
      "Epoch 15/50\n",
      "60000/60000 [==============================] - 1s 9us/step - loss: 0.2647 - acc: 0.9231 - val_loss: 0.2618 - val_acc: 0.9233\n",
      "Epoch 16/50\n",
      "60000/60000 [==============================] - 1s 9us/step - loss: 0.2601 - acc: 0.9251 - val_loss: 0.2497 - val_acc: 0.9264\n",
      "Epoch 17/50\n",
      "60000/60000 [==============================] - 1s 9us/step - loss: 0.2558 - acc: 0.9258 - val_loss: 0.2402 - val_acc: 0.9291\n",
      "Epoch 18/50\n",
      "60000/60000 [==============================] - 1s 9us/step - loss: 0.2510 - acc: 0.9276 - val_loss: 0.2360 - val_acc: 0.9320\n",
      "Epoch 19/50\n",
      "60000/60000 [==============================] - 1s 9us/step - loss: 0.2468 - acc: 0.9291 - val_loss: 0.2410 - val_acc: 0.9285\n",
      "Epoch 20/50\n",
      "60000/60000 [==============================] - 1s 9us/step - loss: 0.2429 - acc: 0.9306 - val_loss: 0.2355 - val_acc: 0.9295\n",
      "Epoch 21/50\n",
      "60000/60000 [==============================] - 1s 9us/step - loss: 0.2395 - acc: 0.9316 - val_loss: 0.2274 - val_acc: 0.9340\n",
      "Epoch 22/50\n",
      "60000/60000 [==============================] - 1s 9us/step - loss: 0.2362 - acc: 0.9320 - val_loss: 0.2230 - val_acc: 0.9355\n",
      "Epoch 23/50\n",
      "60000/60000 [==============================] - 1s 9us/step - loss: 0.2329 - acc: 0.9328 - val_loss: 0.2200 - val_acc: 0.9354\n",
      "Epoch 24/50\n",
      "60000/60000 [==============================] - 1s 9us/step - loss: 0.2301 - acc: 0.9337 - val_loss: 0.2263 - val_acc: 0.9333\n",
      "Epoch 25/50\n",
      "60000/60000 [==============================] - 1s 9us/step - loss: 0.2272 - acc: 0.9350 - val_loss: 0.2225 - val_acc: 0.9343\n",
      "Epoch 26/50\n",
      "60000/60000 [==============================] - 1s 9us/step - loss: 0.2242 - acc: 0.9363 - val_loss: 0.2216 - val_acc: 0.9335\n",
      "Epoch 27/50\n",
      "60000/60000 [==============================] - 1s 8us/step - loss: 0.2216 - acc: 0.9368 - val_loss: 0.2197 - val_acc: 0.9357\n",
      "Epoch 28/50\n",
      "60000/60000 [==============================] - 1s 8us/step - loss: 0.2192 - acc: 0.9375 - val_loss: 0.2118 - val_acc: 0.9380\n",
      "Epoch 29/50\n",
      "60000/60000 [==============================] - 1s 9us/step - loss: 0.2168 - acc: 0.9381 - val_loss: 0.2318 - val_acc: 0.9322\n",
      "Epoch 30/50\n",
      "60000/60000 [==============================] - 1s 9us/step - loss: 0.2142 - acc: 0.9387 - val_loss: 0.2056 - val_acc: 0.9394\n",
      "Epoch 31/50\n",
      "60000/60000 [==============================] - 1s 9us/step - loss: 0.2119 - acc: 0.9392 - val_loss: 0.2074 - val_acc: 0.9382\n",
      "Epoch 32/50\n",
      "60000/60000 [==============================] - 1s 9us/step - loss: 0.2094 - acc: 0.9396 - val_loss: 0.2264 - val_acc: 0.9336\n",
      "Epoch 33/50\n",
      "60000/60000 [==============================] - 0s 8us/step - loss: 0.2075 - acc: 0.9406 - val_loss: 0.2102 - val_acc: 0.9386\n",
      "Epoch 34/50\n",
      "60000/60000 [==============================] - 0s 8us/step - loss: 0.2057 - acc: 0.9407 - val_loss: 0.2086 - val_acc: 0.9387\n",
      "Epoch 35/50\n",
      "60000/60000 [==============================] - 0s 8us/step - loss: 0.2044 - acc: 0.9413 - val_loss: 0.1968 - val_acc: 0.9425\n",
      "Epoch 36/50\n",
      "60000/60000 [==============================] - 0s 8us/step - loss: 0.2016 - acc: 0.9419 - val_loss: 0.1965 - val_acc: 0.9428\n",
      "Epoch 37/50\n",
      "60000/60000 [==============================] - 0s 8us/step - loss: 0.2001 - acc: 0.9418 - val_loss: 0.1930 - val_acc: 0.9437\n",
      "Epoch 38/50\n",
      "60000/60000 [==============================] - 1s 9us/step - loss: 0.1979 - acc: 0.9437 - val_loss: 0.1956 - val_acc: 0.9435\n",
      "Epoch 39/50\n",
      "60000/60000 [==============================] - 1s 9us/step - loss: 0.1965 - acc: 0.9436 - val_loss: 0.1906 - val_acc: 0.9449\n",
      "Epoch 40/50\n",
      "60000/60000 [==============================] - 1s 9us/step - loss: 0.1949 - acc: 0.9444 - val_loss: 0.1902 - val_acc: 0.9449\n",
      "Epoch 41/50\n",
      "60000/60000 [==============================] - 1s 9us/step - loss: 0.1934 - acc: 0.9439 - val_loss: 0.1908 - val_acc: 0.9433\n",
      "Epoch 42/50\n",
      "60000/60000 [==============================] - 1s 9us/step - loss: 0.1914 - acc: 0.9458 - val_loss: 0.1889 - val_acc: 0.9448\n",
      "Epoch 43/50\n",
      "60000/60000 [==============================] - 1s 9us/step - loss: 0.1896 - acc: 0.9459 - val_loss: 0.1885 - val_acc: 0.9463\n",
      "Epoch 44/50\n",
      "60000/60000 [==============================] - 1s 9us/step - loss: 0.1887 - acc: 0.9453 - val_loss: 0.1826 - val_acc: 0.9475\n",
      "Epoch 45/50\n",
      "60000/60000 [==============================] - 1s 8us/step - loss: 0.1872 - acc: 0.9458 - val_loss: 0.1824 - val_acc: 0.9459\n",
      "Epoch 46/50\n",
      "60000/60000 [==============================] - 1s 9us/step - loss: 0.1860 - acc: 0.9468 - val_loss: 0.1815 - val_acc: 0.9467\n",
      "Epoch 47/50\n",
      "60000/60000 [==============================] - 1s 9us/step - loss: 0.1841 - acc: 0.9475 - val_loss: 0.1803 - val_acc: 0.9479\n",
      "Epoch 48/50\n",
      "60000/60000 [==============================] - 1s 9us/step - loss: 0.1830 - acc: 0.9473 - val_loss: 0.1885 - val_acc: 0.9447\n",
      "Epoch 49/50\n",
      "60000/60000 [==============================] - 1s 9us/step - loss: 0.1820 - acc: 0.9471 - val_loss: 0.1762 - val_acc: 0.9502\n",
      "Epoch 50/50\n",
      "60000/60000 [==============================] - 1s 9us/step - loss: 0.1801 - acc: 0.9482 - val_loss: 0.1792 - val_acc: 0.9484\n"
     ]
    },
    {
     "data": {
      "text/plain": [
       "<keras.callbacks.History at 0x2afe70910e80>"
      ]
     },
     "execution_count": 40,
     "metadata": {},
     "output_type": "execute_result"
    }
   ],
   "source": [
    "# Train the model, iterating on the data in batches of 256 samples\n",
    "model.fit(x_train_encoded, train_labels, epochs=50, batch_size=256, validation_data=(x_test_encoded, test_labels))"
   ]
  },
  {
   "cell_type": "code",
   "execution_count": null,
   "metadata": {
    "collapsed": true
   },
   "outputs": [],
   "source": []
  }
 ],
 "metadata": {
  "kernelspec": {
   "display_name": "Python 3",
   "language": "python",
   "name": "python3"
  },
  "language_info": {
   "codemirror_mode": {
    "name": "ipython",
    "version": 3
   },
   "file_extension": ".py",
   "mimetype": "text/x-python",
   "name": "python",
   "nbconvert_exporter": "python",
   "pygments_lexer": "ipython3",
   "version": "3.6.3"
  }
 },
 "nbformat": 4,
 "nbformat_minor": 2
}
